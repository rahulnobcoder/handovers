{
 "cells": [
  {
   "cell_type": "code",
   "execution_count": 2,
   "metadata": {},
   "outputs": [],
   "source": [
    "import pandas as pd\n",
    "import numpy as np "
   ]
  },
  {
   "cell_type": "code",
   "execution_count": 84,
   "metadata": {},
   "outputs": [
    {
     "data": {
      "text/html": [
       "<div>\n",
       "<style scoped>\n",
       "    .dataframe tbody tr th:only-of-type {\n",
       "        vertical-align: middle;\n",
       "    }\n",
       "\n",
       "    .dataframe tbody tr th {\n",
       "        vertical-align: top;\n",
       "    }\n",
       "\n",
       "    .dataframe thead th {\n",
       "        text-align: right;\n",
       "    }\n",
       "</style>\n",
       "<table border=\"1\" class=\"dataframe\">\n",
       "  <thead>\n",
       "    <tr style=\"text-align: right;\">\n",
       "      <th></th>\n",
       "      <th>au1</th>\n",
       "      <th>au12</th>\n",
       "      <th>au15</th>\n",
       "      <th>au17</th>\n",
       "      <th>au2</th>\n",
       "      <th>au20</th>\n",
       "      <th>au25</th>\n",
       "      <th>au26</th>\n",
       "      <th>au4</th>\n",
       "      <th>au5</th>\n",
       "      <th>au6</th>\n",
       "      <th>au9</th>\n",
       "    </tr>\n",
       "  </thead>\n",
       "  <tbody>\n",
       "    <tr>\n",
       "      <th>0</th>\n",
       "      <td>0</td>\n",
       "      <td>0</td>\n",
       "      <td>0</td>\n",
       "      <td>0</td>\n",
       "      <td>0</td>\n",
       "      <td>0</td>\n",
       "      <td>0</td>\n",
       "      <td>0</td>\n",
       "      <td>0</td>\n",
       "      <td>0</td>\n",
       "      <td>0</td>\n",
       "      <td>0</td>\n",
       "    </tr>\n",
       "    <tr>\n",
       "      <th>1</th>\n",
       "      <td>1</td>\n",
       "      <td>1</td>\n",
       "      <td>0</td>\n",
       "      <td>0</td>\n",
       "      <td>1</td>\n",
       "      <td>0</td>\n",
       "      <td>1</td>\n",
       "      <td>0</td>\n",
       "      <td>0</td>\n",
       "      <td>0</td>\n",
       "      <td>1</td>\n",
       "      <td>0</td>\n",
       "    </tr>\n",
       "    <tr>\n",
       "      <th>2</th>\n",
       "      <td>0</td>\n",
       "      <td>0</td>\n",
       "      <td>0</td>\n",
       "      <td>0</td>\n",
       "      <td>0</td>\n",
       "      <td>0</td>\n",
       "      <td>1</td>\n",
       "      <td>0</td>\n",
       "      <td>0</td>\n",
       "      <td>0</td>\n",
       "      <td>0</td>\n",
       "      <td>0</td>\n",
       "    </tr>\n",
       "    <tr>\n",
       "      <th>3</th>\n",
       "      <td>0</td>\n",
       "      <td>1</td>\n",
       "      <td>0</td>\n",
       "      <td>0</td>\n",
       "      <td>0</td>\n",
       "      <td>0</td>\n",
       "      <td>1</td>\n",
       "      <td>0</td>\n",
       "      <td>0</td>\n",
       "      <td>0</td>\n",
       "      <td>0</td>\n",
       "      <td>0</td>\n",
       "    </tr>\n",
       "    <tr>\n",
       "      <th>4</th>\n",
       "      <td>0</td>\n",
       "      <td>1</td>\n",
       "      <td>0</td>\n",
       "      <td>0</td>\n",
       "      <td>0</td>\n",
       "      <td>0</td>\n",
       "      <td>1</td>\n",
       "      <td>0</td>\n",
       "      <td>0</td>\n",
       "      <td>0</td>\n",
       "      <td>0</td>\n",
       "      <td>0</td>\n",
       "    </tr>\n",
       "  </tbody>\n",
       "</table>\n",
       "</div>"
      ],
      "text/plain": [
       "   au1  au12  au15  au17  au2  au20  au25  au26  au4  au5  au6  au9\n",
       "0    0     0     0     0    0     0     0     0    0    0    0    0\n",
       "1    1     1     0     0    1     0     1     0    0    0    1    0\n",
       "2    0     0     0     0    0     0     1     0    0    0    0    0\n",
       "3    0     1     0     0    0     0     1     0    0    0    0    0\n",
       "4    0     1     0     0    0     0     1     0    0    0    0    0"
      ]
     },
     "execution_count": 84,
     "metadata": {},
     "output_type": "execute_result"
    }
   ],
   "source": [
    "preds=np.load('xgb_preds.npy')\n",
    "threshold = [\n",
    "    0.6827917, 0.7136434, 0.510756, 0.56771123, 0.49417764, 0.45892453,\n",
    "    0.32996163, 0.5038406, 0.44855, 0.32959282, 0.45619836, 0.4969851\n",
    "]\n",
    "preds = (preds >= threshold).astype(int)\n",
    "au_labels = [\n",
    "    \"au1\", \"au12\", \"au15\", \"au17\", \"au2\", \"au20\",\n",
    "    \"au25\", \"au26\", \"au4\", \"au5\", \"au6\", \"au9\"\n",
    "]\n",
    "preds=pd.DataFrame(preds,columns=au_labels)\n",
    "preds.head()"
   ]
  },
  {
   "cell_type": "code",
   "execution_count": null,
   "metadata": {},
   "outputs": [],
   "source": [
    "from collections import Counter\n",
    "for column in preds.columns:\n",
    "    print(f\"Value counts for column {column}:\")\n",
    "    print(preds[column].value_counts())\n",
    "    print(\"\\n\")"
   ]
  },
  {
   "cell_type": "code",
   "execution_count": 85,
   "metadata": {},
   "outputs": [],
   "source": [
    "def detect_aus(preds):\n",
    "    columns_with_1 = preds.apply(lambda row: list(row.index[row == 1]), axis=1)\n",
    "    return columns_with_1\n",
    "au_lists=detect_aus(preds)\n",
    "# (Counter({'surprise': 500,\n",
    "#           'fear': 500,\n",
    "#           'neutral': 500,\n",
    "#           'sad': 500,\n",
    "#           'disgust': 500,\n",
    "#           'happy': 500,\n",
    "#           'anger': 500}),"
   ]
  },
  {
   "cell_type": "code",
   "execution_count": 86,
   "metadata": {},
   "outputs": [],
   "source": [
    "def map_au_to_emotion(au_row):\n",
    "    emotions = {\n",
    "        'anger': ['au4', 'au5', 'au7','au23'],\n",
    "        'Surprise': ['au1', 'au2', 'au5', 'au26'],\n",
    "        'Sad': ['au1', 'au4', 'au15'],\n",
    "        'Fear': ['au1', 'au2', 'au4','au7','au5','au26', 'au20'],\n",
    "        'happy': ['au12', 'au6'],\n",
    "        'Disgust': ['au9', 'au15','au16'],\n",
    "    }\n",
    "    \n",
    "    percent = []\n",
    "    for emotion in emotions:\n",
    "        match_length = len(set(emotions[emotion]).intersection(set(au_row)))\n",
    "        perc = match_length / len(emotions[emotion])\n",
    "        percent.append(perc)\n",
    "    \n",
    "    max_percent = max(percent)\n",
    "    \n",
    "    if max_percent == 0:\n",
    "        return percent, \"Neutral\"  # Return 'Neutral' if all percentages are zero\n",
    "    \n",
    "    # Find the emotion with the highest percentage match\n",
    "    max_emotion = list(emotions.keys())[percent.index(max_percent)]\n",
    "    \n",
    "    return percent, max_emotion"
   ]
  },
  {
   "cell_type": "code",
   "execution_count": 87,
   "metadata": {},
   "outputs": [],
   "source": [
    "\n",
    "predictions=[]\n",
    "for pred in au_lists:\n",
    "    percen,emotion=map_au_to_emotion(pred)\n",
    "    predictions.append(emotion)"
   ]
  },
  {
   "cell_type": "code",
   "execution_count": 88,
   "metadata": {},
   "outputs": [],
   "source": [
    "predictions=[pred.lower() for pred in predictions]"
   ]
  },
  {
   "cell_type": "code",
   "execution_count": 89,
   "metadata": {},
   "outputs": [
    {
     "data": {
      "text/plain": [
       "Counter({'neutral': 1780,\n",
       "         'happy': 848,\n",
       "         'surprise': 519,\n",
       "         'sad': 326,\n",
       "         'anger': 21,\n",
       "         'disgust': 4,\n",
       "         'fear': 2})"
      ]
     },
     "execution_count": 89,
     "metadata": {},
     "output_type": "execute_result"
    }
   ],
   "source": [
    "from collections import Counter\n",
    "Counter(predictions)"
   ]
  },
  {
   "cell_type": "code",
   "execution_count": 3,
   "metadata": {},
   "outputs": [
    {
     "data": {
      "text/plain": [
       "array(['surprise', 'surprise', 'surprise', ..., 'anger', 'anger', 'anger'],\n",
       "      dtype='<U8')"
      ]
     },
     "execution_count": 3,
     "metadata": {},
     "output_type": "execute_result"
    }
   ],
   "source": [
    "real=np.load('real.npy')\n",
    "real"
   ]
  },
  {
   "cell_type": "code",
   "execution_count": 91,
   "metadata": {},
   "outputs": [
    {
     "name": "stdout",
     "output_type": "stream",
     "text": [
      "              precision    recall  f1-score   support\n",
      "\n",
      "       anger       0.10      0.00      0.01       500\n",
      "     disgust       0.00      0.00      0.00       500\n",
      "        fear       1.00      0.00      0.01       500\n",
      "       happy       0.46      0.79      0.58       500\n",
      "     neutral       0.23      0.80      0.35       500\n",
      "         sad       0.17      0.11      0.14       500\n",
      "    surprise       0.26      0.27      0.27       500\n",
      "\n",
      "    accuracy                           0.28      3500\n",
      "   macro avg       0.32      0.28      0.19      3500\n",
      "weighted avg       0.32      0.28      0.19      3500\n",
      "\n"
     ]
    }
   ],
   "source": [
    "from sklearn.metrics import accuracy_score,classification_report,confusion_matrix\n",
    "print(classification_report(real,predictions))"
   ]
  },
  {
   "cell_type": "code",
   "execution_count": 92,
   "metadata": {},
   "outputs": [
    {
     "data": {
      "image/png": "[encoded data removed]",
      "text/plain": [
       "<Figure size 1000x700 with 2 Axes>"
      ]
     },
     "metadata": {},
     "output_type": "display_data"
    }
   ],
   "source": [
    "import seaborn as sns\n",
    "import matplotlib.pyplot as plt\n",
    "from sklearn.metrics import confusion_matrix\n",
    "import numpy as np\n",
    "\n",
    "def plot_confusion_matrix(real, predictions):\n",
    "    # Get unique labels from the real data and predictions\n",
    "    labels = np.unique(np.concatenate([real, predictions]))\n",
    "\n",
    "    # Generate the confusion matrix\n",
    "    cm = confusion_matrix(real, predictions, labels=labels)\n",
    "    \n",
    "    # Set up the matplotlib figure\n",
    "    plt.figure(figsize=(10, 7))\n",
    "    \n",
    "    # Create a heatmap using seaborn\n",
    "    sns.heatmap(cm, annot=True, fmt=\"d\", cmap=\"Blues\", xticklabels=labels, yticklabels=labels)\n",
    "    \n",
    "    # Add labels, title, and formatting\n",
    "    plt.xlabel('Predicted')\n",
    "    plt.ylabel('Actual')\n",
    "    plt.title('Confusion Matrix')\n",
    "    \n",
    "    # Display the plot\n",
    "    plt.show()\n",
    "\n",
    "\n",
    "\n",
    "plot_confusion_matrix(real, predictions)\n"
   ]
  },
  {
   "cell_type": "code",
   "execution_count": null,
   "metadata": {},
   "outputs": [],
   "source": []
  }
 ],
 "metadata": {
  "kernelspec": {
   "display_name": "myenv",
   "language": "python",
   "name": "python3"
  },
  "language_info": {
   "codemirror_mode": {
    "name": "ipython",
    "version": 3
   },
   "file_extension": ".py",
   "mimetype": "text/x-python",
   "name": "python",
   "nbconvert_exporter": "python",
   "pygments_lexer": "ipython3",
   "version": "3.12.2"
  }
 },
 "nbformat": 4,
 "nbformat_minor": 2
}
