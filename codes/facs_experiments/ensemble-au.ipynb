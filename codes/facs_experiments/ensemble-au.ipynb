{
 "cells": [
  {
   "cell_type": "code",
   "execution_count": 1,
   "id": "c35ecf7d",
   "metadata": {
    "_cell_guid": "b1076dfc-b9ad-4769-8c92-a6c4dae69d19",
    "_uuid": "8f2839f25d086af736a60e9eeb907d3b93b6e0e5",
    "execution": {
     "iopub.execute_input": "2024-10-29T12:12:54.089423Z",
     "iopub.status.busy": "2024-10-29T12:12:54.089033Z",
     "iopub.status.idle": "2024-10-29T12:12:56.394874Z",
     "shell.execute_reply": "2024-10-29T12:12:56.393927Z"
    },
    "papermill": {
     "duration": 2.315389,
     "end_time": "2024-10-29T12:12:56.397296",
     "exception": false,
     "start_time": "2024-10-29T12:12:54.081907",
     "status": "completed"
    },
    "tags": []
   },
   "outputs": [],
   "source": [
    "import os\n",
    "import pandas as pd \n",
    "import numpy as np \n",
    "from tqdm import tqdm\n",
    "import cv2\n",
    "from collections import Counter\n",
    "from sklearn.metrics import accuracy_score\n",
    "from sklearn.model_selection import train_test_split\n",
    "from sklearn.metrics import f1_score\n",
    "import matplotlib.pyplot as plt"
   ]
  },
  {
   "cell_type": "code",
   "execution_count": 2,
   "id": "d110f023",
   "metadata": {
    "execution": {
     "iopub.execute_input": "2024-10-29T12:12:56.409589Z",
     "iopub.status.busy": "2024-10-29T12:12:56.409007Z",
     "iopub.status.idle": "2024-10-29T12:12:59.819626Z",
     "shell.execute_reply": "2024-10-29T12:12:59.818273Z"
    },
    "papermill": {
     "duration": 3.419015,
     "end_time": "2024-10-29T12:12:59.821789",
     "exception": false,
     "start_time": "2024-10-29T12:12:56.402774",
     "status": "completed"
    },
    "tags": []
   },
   "outputs": [
    {
     "name": "stdout",
     "output_type": "stream",
     "text": [
      "(112198, 768)\n"
     ]
    }
   ],
   "source": [
    "col = ['au1', 'au12', 'au15', 'au17', 'au2', 'au20', 'au25', 'au26', 'au4', 'au5', 'au6', 'au9']\n",
    "\n",
    "fb_feat=np.load('/kaggle/input/vit-features/google_vit_feat.npy')\n",
    "print(fb_feat.shape)"
   ]
  },
  {
   "cell_type": "code",
   "execution_count": 3,
   "id": "a7b07d5e",
   "metadata": {
    "execution": {
     "iopub.execute_input": "2024-10-29T12:12:59.833200Z",
     "iopub.status.busy": "2024-10-29T12:12:59.832852Z",
     "iopub.status.idle": "2024-10-29T12:13:00.290393Z",
     "shell.execute_reply": "2024-10-29T12:13:00.289407Z"
    },
    "papermill": {
     "duration": 0.46587,
     "end_time": "2024-10-29T12:13:00.292816",
     "exception": false,
     "start_time": "2024-10-29T12:12:59.826946",
     "status": "completed"
    },
    "tags": []
   },
   "outputs": [
    {
     "name": "stdout",
     "output_type": "stream",
     "text": [
      "au1 Counter({0: 103420, 3: 2809, 1: 2272, 2: 1749, 4: 1393, 5: 555})\n",
      "au12 Counter({0: 81404, 1: 13943, 3: 7233, 2: 6869, 4: 2577, 5: 172})\n",
      "au15 Counter({0: 104336, 1: 5180, 2: 1618, 3: 1017, 4: 47})\n",
      "au17 Counter({0: 99268, 1: 6342, 2: 4184, 3: 2281, 4: 112, 5: 11})\n",
      "au2 Counter({0: 104834, 3: 3505, 1: 1720, 2: 934, 4: 836, 5: 369})\n",
      "au20 Counter({0: 107666, 2: 1608, 1: 1591, 3: 1305, 4: 28})\n",
      "au25 Counter({0: 66146, 3: 15693, 2: 13935, 1: 9805, 4: 5580, 5: 1039})\n",
      "au26 Counter({0: 87222, 1: 13443, 2: 7473, 3: 3529, 4: 314, 5: 217})\n",
      "au4 Counter({0: 87604, 2: 7636, 3: 6586, 1: 4661, 4: 4328, 5: 1383})\n",
      "au5 Counter({0: 109469, 1: 1579, 2: 719, 3: 293, 4: 104, 5: 34})\n",
      "au6 Counter({0: 92714, 1: 9157, 2: 5986, 3: 3599, 4: 601, 5: 141})\n",
      "au9 Counter({0: 105066, 3: 3045, 2: 2035, 1: 1659, 4: 316, 5: 77})\n"
     ]
    }
   ],
   "source": [
    "df=pd.read_csv('/kaggle/input/clahe-labels/labels_path.csv')\n",
    "labels=df.drop(columns=['paths'])\n",
    "from collections import Counter\n",
    "for i in labels.columns:\n",
    "    print(i,Counter(labels[i]))"
   ]
  },
  {
   "cell_type": "code",
   "execution_count": 4,
   "id": "b569f839",
   "metadata": {
    "execution": {
     "iopub.execute_input": "2024-10-29T12:13:00.304981Z",
     "iopub.status.busy": "2024-10-29T12:13:00.304179Z",
     "iopub.status.idle": "2024-10-29T12:13:00.327253Z",
     "shell.execute_reply": "2024-10-29T12:13:00.326349Z"
    },
    "papermill": {
     "duration": 0.031449,
     "end_time": "2024-10-29T12:13:00.329416",
     "exception": false,
     "start_time": "2024-10-29T12:13:00.297967",
     "status": "completed"
    },
    "tags": []
   },
   "outputs": [
    {
     "data": {
      "text/html": [
       "<div>\n",
       "<style scoped>\n",
       "    .dataframe tbody tr th:only-of-type {\n",
       "        vertical-align: middle;\n",
       "    }\n",
       "\n",
       "    .dataframe tbody tr th {\n",
       "        vertical-align: top;\n",
       "    }\n",
       "\n",
       "    .dataframe thead th {\n",
       "        text-align: right;\n",
       "    }\n",
       "</style>\n",
       "<table border=\"1\" class=\"dataframe\">\n",
       "  <thead>\n",
       "    <tr style=\"text-align: right;\">\n",
       "      <th></th>\n",
       "      <th>au1</th>\n",
       "      <th>au12</th>\n",
       "      <th>au15</th>\n",
       "      <th>au17</th>\n",
       "      <th>au2</th>\n",
       "      <th>au20</th>\n",
       "      <th>au25</th>\n",
       "      <th>au26</th>\n",
       "      <th>au4</th>\n",
       "      <th>au5</th>\n",
       "      <th>au6</th>\n",
       "      <th>au9</th>\n",
       "      <th>paths</th>\n",
       "    </tr>\n",
       "  </thead>\n",
       "  <tbody>\n",
       "    <tr>\n",
       "      <th>0</th>\n",
       "      <td>0</td>\n",
       "      <td>2</td>\n",
       "      <td>0</td>\n",
       "      <td>0</td>\n",
       "      <td>0</td>\n",
       "      <td>0</td>\n",
       "      <td>0</td>\n",
       "      <td>0</td>\n",
       "      <td>0</td>\n",
       "      <td>0</td>\n",
       "      <td>0</td>\n",
       "      <td>0</td>\n",
       "      <td>frames\\RightVideoSN001\\0.jpg</td>\n",
       "    </tr>\n",
       "    <tr>\n",
       "      <th>1</th>\n",
       "      <td>0</td>\n",
       "      <td>2</td>\n",
       "      <td>0</td>\n",
       "      <td>0</td>\n",
       "      <td>0</td>\n",
       "      <td>0</td>\n",
       "      <td>0</td>\n",
       "      <td>0</td>\n",
       "      <td>0</td>\n",
       "      <td>0</td>\n",
       "      <td>0</td>\n",
       "      <td>0</td>\n",
       "      <td>frames\\RightVideoSN001\\1.jpg</td>\n",
       "    </tr>\n",
       "    <tr>\n",
       "      <th>2</th>\n",
       "      <td>0</td>\n",
       "      <td>2</td>\n",
       "      <td>0</td>\n",
       "      <td>0</td>\n",
       "      <td>0</td>\n",
       "      <td>0</td>\n",
       "      <td>0</td>\n",
       "      <td>0</td>\n",
       "      <td>0</td>\n",
       "      <td>0</td>\n",
       "      <td>0</td>\n",
       "      <td>0</td>\n",
       "      <td>frames\\RightVideoSN001\\2.jpg</td>\n",
       "    </tr>\n",
       "    <tr>\n",
       "      <th>3</th>\n",
       "      <td>0</td>\n",
       "      <td>2</td>\n",
       "      <td>0</td>\n",
       "      <td>0</td>\n",
       "      <td>0</td>\n",
       "      <td>0</td>\n",
       "      <td>0</td>\n",
       "      <td>0</td>\n",
       "      <td>0</td>\n",
       "      <td>0</td>\n",
       "      <td>0</td>\n",
       "      <td>0</td>\n",
       "      <td>frames\\RightVideoSN001\\3.jpg</td>\n",
       "    </tr>\n",
       "    <tr>\n",
       "      <th>4</th>\n",
       "      <td>0</td>\n",
       "      <td>2</td>\n",
       "      <td>0</td>\n",
       "      <td>0</td>\n",
       "      <td>0</td>\n",
       "      <td>0</td>\n",
       "      <td>0</td>\n",
       "      <td>0</td>\n",
       "      <td>0</td>\n",
       "      <td>0</td>\n",
       "      <td>0</td>\n",
       "      <td>0</td>\n",
       "      <td>frames\\RightVideoSN001\\4.jpg</td>\n",
       "    </tr>\n",
       "    <tr>\n",
       "      <th>...</th>\n",
       "      <td>...</td>\n",
       "      <td>...</td>\n",
       "      <td>...</td>\n",
       "      <td>...</td>\n",
       "      <td>...</td>\n",
       "      <td>...</td>\n",
       "      <td>...</td>\n",
       "      <td>...</td>\n",
       "      <td>...</td>\n",
       "      <td>...</td>\n",
       "      <td>...</td>\n",
       "      <td>...</td>\n",
       "      <td>...</td>\n",
       "    </tr>\n",
       "    <tr>\n",
       "      <th>112193</th>\n",
       "      <td>0</td>\n",
       "      <td>0</td>\n",
       "      <td>0</td>\n",
       "      <td>0</td>\n",
       "      <td>0</td>\n",
       "      <td>0</td>\n",
       "      <td>3</td>\n",
       "      <td>0</td>\n",
       "      <td>5</td>\n",
       "      <td>0</td>\n",
       "      <td>3</td>\n",
       "      <td>5</td>\n",
       "      <td>frames\\RightVideoSN032\\4840.jpg</td>\n",
       "    </tr>\n",
       "    <tr>\n",
       "      <th>112194</th>\n",
       "      <td>0</td>\n",
       "      <td>0</td>\n",
       "      <td>0</td>\n",
       "      <td>0</td>\n",
       "      <td>0</td>\n",
       "      <td>0</td>\n",
       "      <td>3</td>\n",
       "      <td>0</td>\n",
       "      <td>5</td>\n",
       "      <td>0</td>\n",
       "      <td>3</td>\n",
       "      <td>5</td>\n",
       "      <td>frames\\RightVideoSN032\\4841.jpg</td>\n",
       "    </tr>\n",
       "    <tr>\n",
       "      <th>112195</th>\n",
       "      <td>0</td>\n",
       "      <td>0</td>\n",
       "      <td>0</td>\n",
       "      <td>0</td>\n",
       "      <td>0</td>\n",
       "      <td>0</td>\n",
       "      <td>3</td>\n",
       "      <td>0</td>\n",
       "      <td>5</td>\n",
       "      <td>0</td>\n",
       "      <td>3</td>\n",
       "      <td>5</td>\n",
       "      <td>frames\\RightVideoSN032\\4842.jpg</td>\n",
       "    </tr>\n",
       "    <tr>\n",
       "      <th>112196</th>\n",
       "      <td>0</td>\n",
       "      <td>0</td>\n",
       "      <td>0</td>\n",
       "      <td>0</td>\n",
       "      <td>0</td>\n",
       "      <td>0</td>\n",
       "      <td>3</td>\n",
       "      <td>0</td>\n",
       "      <td>5</td>\n",
       "      <td>0</td>\n",
       "      <td>3</td>\n",
       "      <td>5</td>\n",
       "      <td>frames\\RightVideoSN032\\4843.jpg</td>\n",
       "    </tr>\n",
       "    <tr>\n",
       "      <th>112197</th>\n",
       "      <td>0</td>\n",
       "      <td>0</td>\n",
       "      <td>0</td>\n",
       "      <td>0</td>\n",
       "      <td>0</td>\n",
       "      <td>0</td>\n",
       "      <td>3</td>\n",
       "      <td>0</td>\n",
       "      <td>5</td>\n",
       "      <td>0</td>\n",
       "      <td>3</td>\n",
       "      <td>5</td>\n",
       "      <td>frames\\RightVideoSN032\\4844.jpg</td>\n",
       "    </tr>\n",
       "  </tbody>\n",
       "</table>\n",
       "<p>112198 rows × 13 columns</p>\n",
       "</div>"
      ],
      "text/plain": [
       "        au1  au12  au15  au17  au2  au20  au25  au26  au4  au5  au6  au9  \\\n",
       "0         0     2     0     0    0     0     0     0    0    0    0    0   \n",
       "1         0     2     0     0    0     0     0     0    0    0    0    0   \n",
       "2         0     2     0     0    0     0     0     0    0    0    0    0   \n",
       "3         0     2     0     0    0     0     0     0    0    0    0    0   \n",
       "4         0     2     0     0    0     0     0     0    0    0    0    0   \n",
       "...     ...   ...   ...   ...  ...   ...   ...   ...  ...  ...  ...  ...   \n",
       "112193    0     0     0     0    0     0     3     0    5    0    3    5   \n",
       "112194    0     0     0     0    0     0     3     0    5    0    3    5   \n",
       "112195    0     0     0     0    0     0     3     0    5    0    3    5   \n",
       "112196    0     0     0     0    0     0     3     0    5    0    3    5   \n",
       "112197    0     0     0     0    0     0     3     0    5    0    3    5   \n",
       "\n",
       "                                  paths  \n",
       "0          frames\\RightVideoSN001\\0.jpg  \n",
       "1          frames\\RightVideoSN001\\1.jpg  \n",
       "2          frames\\RightVideoSN001\\2.jpg  \n",
       "3          frames\\RightVideoSN001\\3.jpg  \n",
       "4          frames\\RightVideoSN001\\4.jpg  \n",
       "...                                 ...  \n",
       "112193  frames\\RightVideoSN032\\4840.jpg  \n",
       "112194  frames\\RightVideoSN032\\4841.jpg  \n",
       "112195  frames\\RightVideoSN032\\4842.jpg  \n",
       "112196  frames\\RightVideoSN032\\4843.jpg  \n",
       "112197  frames\\RightVideoSN032\\4844.jpg  \n",
       "\n",
       "[112198 rows x 13 columns]"
      ]
     },
     "execution_count": 4,
     "metadata": {},
     "output_type": "execute_result"
    }
   ],
   "source": [
    "df"
   ]
  },
  {
   "cell_type": "code",
   "execution_count": 5,
   "id": "bf821bb5",
   "metadata": {
    "execution": {
     "iopub.execute_input": "2024-10-29T12:13:00.341912Z",
     "iopub.status.busy": "2024-10-29T12:13:00.341569Z",
     "iopub.status.idle": "2024-10-29T12:13:00.363649Z",
     "shell.execute_reply": "2024-10-29T12:13:00.362696Z"
    },
    "papermill": {
     "duration": 0.030572,
     "end_time": "2024-10-29T12:13:00.365692",
     "exception": false,
     "start_time": "2024-10-29T12:13:00.335120",
     "status": "completed"
    },
    "tags": []
   },
   "outputs": [
    {
     "data": {
      "text/plain": [
       "(112198, 12)"
      ]
     },
     "execution_count": 5,
     "metadata": {},
     "output_type": "execute_result"
    }
   ],
   "source": [
    "labels[labels>1]=1\n",
    "labels.shape"
   ]
  },
  {
   "cell_type": "code",
   "execution_count": 6,
   "id": "01dfadb7",
   "metadata": {
    "execution": {
     "iopub.execute_input": "2024-10-29T12:13:00.378808Z",
     "iopub.status.busy": "2024-10-29T12:13:00.378447Z",
     "iopub.status.idle": "2024-10-29T12:13:00.384342Z",
     "shell.execute_reply": "2024-10-29T12:13:00.383461Z"
    },
    "papermill": {
     "duration": 0.015016,
     "end_time": "2024-10-29T12:13:00.386365",
     "exception": false,
     "start_time": "2024-10-29T12:13:00.371349",
     "status": "completed"
    },
    "tags": []
   },
   "outputs": [
    {
     "data": {
      "text/plain": [
       "18823"
      ]
     },
     "execution_count": 6,
     "metadata": {},
     "output_type": "execute_result"
    }
   ],
   "source": [
    "112198-93375"
   ]
  },
  {
   "cell_type": "code",
   "execution_count": 7,
   "id": "035adc25",
   "metadata": {
    "execution": {
     "iopub.execute_input": "2024-10-29T12:13:00.399506Z",
     "iopub.status.busy": "2024-10-29T12:13:00.398913Z",
     "iopub.status.idle": "2024-10-29T12:13:00.405954Z",
     "shell.execute_reply": "2024-10-29T12:13:00.404977Z"
    },
    "papermill": {
     "duration": 0.016085,
     "end_time": "2024-10-29T12:13:00.408281",
     "exception": false,
     "start_time": "2024-10-29T12:13:00.392196",
     "status": "completed"
    },
    "tags": []
   },
   "outputs": [
    {
     "name": "stdout",
     "output_type": "stream",
     "text": [
      "(83375, 768) (18823, 768) (10000, 768) (83375, 12) (18823, 12) (10000, 12)\n"
     ]
    }
   ],
   "source": [
    "# Set indices for slicing\n",
    "train_size = 83375\n",
    "val_size = 18823\n",
    "test_size = 10000\n",
    "\n",
    "# Split the data based on indices\n",
    "X_train_ur, X_val_ur, X_test_ur = fb_feat[:train_size], fb_feat[train_size:train_size+val_size], fb_feat[train_size+val_size:train_size+val_size+test_size]\n",
    "y_train, y_val, y_test = labels[:train_size], labels[train_size:train_size+val_size], labels[train_size+val_size:train_size+val_size+test_size]\n",
    "\n",
    "print(X_train_ur.shape, X_val_ur.shape, X_test_ur.shape, y_train.shape, y_val.shape, y_test.shape)\n"
   ]
  },
  {
   "cell_type": "code",
   "execution_count": null,
   "id": "2040cb09",
   "metadata": {
    "papermill": {
     "duration": 0.005566,
     "end_time": "2024-10-29T12:13:00.419669",
     "exception": false,
     "start_time": "2024-10-29T12:13:00.414103",
     "status": "completed"
    },
    "tags": []
   },
   "outputs": [],
   "source": []
  },
  {
   "cell_type": "code",
   "execution_count": 8,
   "id": "12c844eb",
   "metadata": {
    "execution": {
     "iopub.execute_input": "2024-10-29T12:13:00.432802Z",
     "iopub.status.busy": "2024-10-29T12:13:00.432458Z",
     "iopub.status.idle": "2024-10-29T12:13:03.363355Z",
     "shell.execute_reply": "2024-10-29T12:13:03.362257Z"
    },
    "papermill": {
     "duration": 2.94143,
     "end_time": "2024-10-29T12:13:03.366835",
     "exception": false,
     "start_time": "2024-10-29T12:13:00.425405",
     "status": "completed"
    },
    "tags": []
   },
   "outputs": [
    {
     "name": "stdout",
     "output_type": "stream",
     "text": [
      "(83375, 30) (18823, 30) (10000, 30)\n"
     ]
    }
   ],
   "source": [
    "from sklearn.decomposition import PCA\n",
    "import numpy as np\n",
    "# Initialize PCA with 30 components\n",
    "pca = PCA(n_components=30)\n",
    "\n",
    "# Fit the PCA model on the data and apply dimensionality reduction\n",
    "X_train = pca.fit_transform(X_train_ur)\n",
    "X_val=pca.transform(X_val_ur)\n",
    "X_test=pca.transform(X_test_ur)\n",
    "print(X_train.shape,X_val.shape,X_test.shape)"
   ]
  },
  {
   "cell_type": "code",
   "execution_count": 9,
   "id": "24158525",
   "metadata": {
    "execution": {
     "iopub.execute_input": "2024-10-29T12:13:03.395027Z",
     "iopub.status.busy": "2024-10-29T12:13:03.394387Z",
     "iopub.status.idle": "2024-10-29T12:13:03.577264Z",
     "shell.execute_reply": "2024-10-29T12:13:03.576349Z"
    },
    "papermill": {
     "duration": 0.199595,
     "end_time": "2024-10-29T12:13:03.579676",
     "exception": false,
     "start_time": "2024-10-29T12:13:03.380081",
     "status": "completed"
    },
    "tags": []
   },
   "outputs": [],
   "source": [
    "import xgboost as xgb\n",
    "from sklearn.multioutput import MultiOutputClassifier\n",
    "from sklearn.metrics import accuracy_score\n",
    "from sklearn.model_selection import GridSearchCV"
   ]
  },
  {
   "cell_type": "code",
   "execution_count": 10,
   "id": "c5092606",
   "metadata": {
    "execution": {
     "iopub.execute_input": "2024-10-29T12:13:03.593030Z",
     "iopub.status.busy": "2024-10-29T12:13:03.592693Z",
     "iopub.status.idle": "2024-10-29T12:23:35.981723Z",
     "shell.execute_reply": "2024-10-29T12:23:35.980286Z"
    },
    "papermill": {
     "duration": 632.398363,
     "end_time": "2024-10-29T12:23:35.984126",
     "exception": false,
     "start_time": "2024-10-29T12:13:03.585763",
     "status": "completed"
    },
    "tags": []
   },
   "outputs": [
    {
     "name": "stdout",
     "output_type": "stream",
     "text": [
      "Fitting 2 folds for each of 32 candidates, totalling 64 fits\n",
      "Best parameters: {'estimator__colsample_bytree': 0.9, 'estimator__learning_rate': 0.01, 'estimator__max_depth': 9, 'estimator__n_estimators': 100, 'estimator__subsample': 0.9}\n",
      "Accuracy on val data: 21.2%\n"
     ]
    },
    {
     "name": "stderr",
     "output_type": "stream",
     "text": [
      "/opt/conda/lib/python3.10/site-packages/xgboost/core.py:160: UserWarning: [12:23:35] WARNING: /workspace/src/common/error_msg.cc:58: Falling back to prediction using DMatrix due to mismatched devices. This might lead to higher memory usage and slower performance. XGBoost is running on: cuda:0, while the input data is on: cpu.\n",
      "Potential solutions:\n",
      "- Use a data structure that matches the device ordinal in the booster.\n",
      "- Set the device for booster before call to inplace_predict.\n",
      "\n",
      "This warning will only be shown once.\n",
      "\n",
      "  warnings.warn(smsg, UserWarning)\n"
     ]
    },
    {
     "name": "stdout",
     "output_type": "stream",
     "text": [
      "Accuracy on test data: 19.9%\n",
      "time taken :  630.6617879867554\n"
     ]
    }
   ],
   "source": [
    "import xgboost as xgb\n",
    "from sklearn.multioutput import MultiOutputClassifier\n",
    "from sklearn.metrics import accuracy_score\n",
    "from sklearn.model_selection import GridSearchCV\n",
    "import cupy as cp\n",
    "from sklearn.metrics import make_scorer, f1_score\n",
    "import time \n",
    "st=time.time()\n",
    "\n",
    "# Define the parameter grid\n",
    "param_grid = {\n",
    "    'estimator__n_estimators': [100, 200],  # Reduced range for n_estimators\n",
    "    'estimator__max_depth': [6, 9],  # Reduced depth values\n",
    "    'estimator__learning_rate': [0.01, 0.2],  # Keep learning rates\n",
    "    'estimator__subsample': [0.9, 1.0],  # Subsample options\n",
    "    'estimator__colsample_bytree': [0.9, 1.0],  # Column sample options\n",
    "}\n",
    "\n",
    "\n",
    "# Create XGBoost classifier with GPU support\n",
    "xgb_estimator = xgb.XGBClassifier(\n",
    "    objective='binary:logistic',\n",
    "    tree_method='hist',\n",
    "    device='cuda'\n",
    ")\n",
    "\n",
    "# Create MultiOutputClassifier instance with XGBoost model inside\n",
    "multilabel_model = MultiOutputClassifier(xgb_estimator)\n",
    "\n",
    "# Set up GridSearchCV\n",
    "\n",
    "# Define the scoring metric as F1 score\n",
    "scoring_metric = make_scorer(f1_score, average='macro')  # Use 'macro', 'micro', or 'weighted' based on your needs\n",
    "\n",
    "grid_search = GridSearchCV(\n",
    "    estimator=multilabel_model,\n",
    "    param_grid=param_grid,\n",
    "    cv=2,  # Number of folds in cross-validation\n",
    "    scoring='accuracy',  # You can use other metrics depending on your problem\n",
    "    verbose=2,  # Increase to see more details\n",
    "    n_jobs=-1  # Use all available CPU cores\n",
    ")\n",
    "\n",
    "# Fit GridSearchCV\n",
    "grid_search.fit(cp.array(X_train), y_train)\n",
    "\n",
    "# Get the best parameters and model\n",
    "best_params = grid_search.best_params_\n",
    "best_model = grid_search.best_estimator_\n",
    "\n",
    "# Evaluate the best model on test data\n",
    "print(f\"Best parameters: {best_params}\")\n",
    "print('Accuracy on val data: {:.1f}%'.format(accuracy_score(y_val, best_model.predict(X_val))*100))\n",
    "print('Accuracy on test data: {:.1f}%'.format(accuracy_score(y_test, best_model.predict(X_test))*100))\n",
    "print(\"time taken : \",time.time()-st)"
   ]
  },
  {
   "cell_type": "code",
   "execution_count": 11,
   "id": "c62c56f3",
   "metadata": {
    "execution": {
     "iopub.execute_input": "2024-10-29T12:23:35.999441Z",
     "iopub.status.busy": "2024-10-29T12:23:35.998558Z",
     "iopub.status.idle": "2024-10-29T12:23:36.002881Z",
     "shell.execute_reply": "2024-10-29T12:23:36.001974Z"
    },
    "papermill": {
     "duration": 0.014024,
     "end_time": "2024-10-29T12:23:36.004792",
     "exception": false,
     "start_time": "2024-10-29T12:23:35.990768",
     "status": "completed"
    },
    "tags": []
   },
   "outputs": [],
   "source": [
    "# 4-92sec\n",
    "# 8-210sec"
   ]
  },
  {
   "cell_type": "code",
   "execution_count": 12,
   "id": "35a4c06c",
   "metadata": {
    "execution": {
     "iopub.execute_input": "2024-10-29T12:23:36.018781Z",
     "iopub.status.busy": "2024-10-29T12:23:36.018432Z",
     "iopub.status.idle": "2024-10-29T12:23:36.023253Z",
     "shell.execute_reply": "2024-10-29T12:23:36.022364Z"
    },
    "papermill": {
     "duration": 0.014211,
     "end_time": "2024-10-29T12:23:36.025269",
     "exception": false,
     "start_time": "2024-10-29T12:23:36.011058",
     "status": "completed"
    },
    "tags": []
   },
   "outputs": [],
   "source": [
    "col=['AU1',\n",
    " 'AU12',\n",
    " 'AU15',\n",
    " 'AU17',\n",
    " 'AU2',\n",
    " 'AU20',\n",
    " 'AU25',\n",
    " 'AU26',\n",
    " 'AU4',\n",
    " 'AU5',\n",
    " 'AU6',\n",
    " 'AU9']"
   ]
  },
  {
   "cell_type": "code",
   "execution_count": 13,
   "id": "d31f7bbb",
   "metadata": {
    "execution": {
     "iopub.execute_input": "2024-10-29T12:23:36.039073Z",
     "iopub.status.busy": "2024-10-29T12:23:36.038748Z",
     "iopub.status.idle": "2024-10-29T12:23:36.138244Z",
     "shell.execute_reply": "2024-10-29T12:23:36.137370Z"
    },
    "papermill": {
     "duration": 0.10874,
     "end_time": "2024-10-29T12:23:36.140327",
     "exception": false,
     "start_time": "2024-10-29T12:23:36.031587",
     "status": "completed"
    },
    "tags": []
   },
   "outputs": [
    {
     "data": {
      "text/plain": [
       "(10000, 12)"
      ]
     },
     "execution_count": 13,
     "metadata": {},
     "output_type": "execute_result"
    }
   ],
   "source": [
    "preds=best_model.predict(X_test)\n",
    "preds.shape"
   ]
  },
  {
   "cell_type": "code",
   "execution_count": 14,
   "id": "67f6661f",
   "metadata": {
    "execution": {
     "iopub.execute_input": "2024-10-29T12:23:36.156018Z",
     "iopub.status.busy": "2024-10-29T12:23:36.155040Z",
     "iopub.status.idle": "2024-10-29T12:23:38.127963Z",
     "shell.execute_reply": "2024-10-29T12:23:38.126893Z"
    },
    "papermill": {
     "duration": 1.987952,
     "end_time": "2024-10-29T12:23:38.135376",
     "exception": false,
     "start_time": "2024-10-29T12:23:36.147424",
     "status": "completed"
    },
    "tags": []
   },
   "outputs": [
    {
     "name": "stdout",
     "output_type": "stream",
     "text": [
      "METRICS FOR EACH ACTION UNIT :\n",
      "AU1: ACCURACY = 0.89, F1 SCORE = 0.00\n",
      "CLASSIFICATION REPORT :                precision    recall  f1-score   support\n",
      "\n",
      "           0       0.89      1.00      0.94      8932\n",
      "           1       0.22      0.00      0.00      1068\n",
      "\n",
      "    accuracy                           0.89     10000\n",
      "   macro avg       0.56      0.50      0.47     10000\n",
      "weighted avg       0.82      0.89      0.84     10000\n",
      "\n",
      "AU12: ACCURACY = 0.84, F1 SCORE = 0.74\n",
      "CLASSIFICATION REPORT :                precision    recall  f1-score   support\n",
      "\n",
      "           0       0.92      0.86      0.89      7182\n",
      "           1       0.69      0.80      0.74      2818\n",
      "\n",
      "    accuracy                           0.84     10000\n",
      "   macro avg       0.80      0.83      0.81     10000\n",
      "weighted avg       0.85      0.84      0.84     10000\n",
      "\n",
      "AU15: ACCURACY = 0.99, F1 SCORE = 0.00\n",
      "CLASSIFICATION REPORT :                precision    recall  f1-score   support\n",
      "\n",
      "           0       0.99      1.00      0.99      9869\n",
      "           1       0.00      0.00      0.00       131\n",
      "\n",
      "    accuracy                           0.99     10000\n",
      "   macro avg       0.49      0.50      0.50     10000\n",
      "weighted avg       0.97      0.99      0.98     10000\n",
      "\n",
      "AU17: ACCURACY = 0.96, F1 SCORE = 0.00\n",
      "CLASSIFICATION REPORT :                precision    recall  f1-score   support\n",
      "\n",
      "           0       0.96      1.00      0.98      9621\n",
      "           1       0.00      0.00      0.00       379\n",
      "\n",
      "    accuracy                           0.96     10000\n",
      "   macro avg       0.48      0.50      0.49     10000\n",
      "weighted avg       0.93      0.96      0.94     10000\n",
      "\n",
      "AU2: ACCURACY = 0.97, F1 SCORE = 0.02\n",
      "CLASSIFICATION REPORT :                precision    recall  f1-score   support\n",
      "\n",
      "           0       0.97      1.00      0.99      9744\n",
      "           1       1.00      0.01      0.02       256\n",
      "\n",
      "    accuracy                           0.97     10000\n",
      "   macro avg       0.99      0.50      0.50     10000\n",
      "weighted avg       0.98      0.97      0.96     10000\n",
      "\n",
      "AU20: ACCURACY = 0.98, F1 SCORE = 0.00\n",
      "CLASSIFICATION REPORT :                precision    recall  f1-score   support\n",
      "\n",
      "           0       0.98      1.00      0.99      9799\n",
      "           1       0.00      0.00      0.00       201\n",
      "\n",
      "    accuracy                           0.98     10000\n",
      "   macro avg       0.49      0.50      0.49     10000\n",
      "weighted avg       0.96      0.98      0.97     10000\n",
      "\n"
     ]
    },
    {
     "name": "stderr",
     "output_type": "stream",
     "text": [
      "/opt/conda/lib/python3.10/site-packages/sklearn/metrics/_classification.py:1344: UndefinedMetricWarning: Precision and F-score are ill-defined and being set to 0.0 in labels with no predicted samples. Use `zero_division` parameter to control this behavior.\n",
      "  _warn_prf(average, modifier, msg_start, len(result))\n",
      "/opt/conda/lib/python3.10/site-packages/sklearn/metrics/_classification.py:1344: UndefinedMetricWarning: Precision and F-score are ill-defined and being set to 0.0 in labels with no predicted samples. Use `zero_division` parameter to control this behavior.\n",
      "  _warn_prf(average, modifier, msg_start, len(result))\n",
      "/opt/conda/lib/python3.10/site-packages/sklearn/metrics/_classification.py:1344: UndefinedMetricWarning: Precision and F-score are ill-defined and being set to 0.0 in labels with no predicted samples. Use `zero_division` parameter to control this behavior.\n",
      "  _warn_prf(average, modifier, msg_start, len(result))\n",
      "/opt/conda/lib/python3.10/site-packages/sklearn/metrics/_classification.py:1344: UndefinedMetricWarning: Precision and F-score are ill-defined and being set to 0.0 in labels with no predicted samples. Use `zero_division` parameter to control this behavior.\n",
      "  _warn_prf(average, modifier, msg_start, len(result))\n",
      "/opt/conda/lib/python3.10/site-packages/sklearn/metrics/_classification.py:1344: UndefinedMetricWarning: Precision and F-score are ill-defined and being set to 0.0 in labels with no predicted samples. Use `zero_division` parameter to control this behavior.\n",
      "  _warn_prf(average, modifier, msg_start, len(result))\n",
      "/opt/conda/lib/python3.10/site-packages/sklearn/metrics/_classification.py:1344: UndefinedMetricWarning: Precision and F-score are ill-defined and being set to 0.0 in labels with no predicted samples. Use `zero_division` parameter to control this behavior.\n",
      "  _warn_prf(average, modifier, msg_start, len(result))\n",
      "/opt/conda/lib/python3.10/site-packages/sklearn/metrics/_classification.py:1344: UndefinedMetricWarning: Precision and F-score are ill-defined and being set to 0.0 in labels with no predicted samples. Use `zero_division` parameter to control this behavior.\n",
      "  _warn_prf(average, modifier, msg_start, len(result))\n",
      "/opt/conda/lib/python3.10/site-packages/sklearn/metrics/_classification.py:1344: UndefinedMetricWarning: Precision and F-score are ill-defined and being set to 0.0 in labels with no predicted samples. Use `zero_division` parameter to control this behavior.\n",
      "  _warn_prf(average, modifier, msg_start, len(result))\n",
      "/opt/conda/lib/python3.10/site-packages/sklearn/metrics/_classification.py:1344: UndefinedMetricWarning: Precision and F-score are ill-defined and being set to 0.0 in labels with no predicted samples. Use `zero_division` parameter to control this behavior.\n",
      "  _warn_prf(average, modifier, msg_start, len(result))\n"
     ]
    },
    {
     "name": "stdout",
     "output_type": "stream",
     "text": [
      "AU25: ACCURACY = 0.74, F1 SCORE = 0.80\n",
      "CLASSIFICATION REPORT :                precision    recall  f1-score   support\n",
      "\n",
      "           0       0.78      0.56      0.65      4238\n",
      "           1       0.73      0.88      0.80      5762\n",
      "\n",
      "    accuracy                           0.74     10000\n",
      "   macro avg       0.75      0.72      0.72     10000\n",
      "weighted avg       0.75      0.74      0.74     10000\n",
      "\n",
      "AU26: ACCURACY = 0.46, F1 SCORE = 0.05\n",
      "CLASSIFICATION REPORT :                precision    recall  f1-score   support\n",
      "\n",
      "           0       0.46      0.99      0.63      4567\n",
      "           1       0.72      0.02      0.05      5433\n",
      "\n",
      "    accuracy                           0.46     10000\n",
      "   macro avg       0.59      0.51      0.34     10000\n",
      "weighted avg       0.60      0.46      0.31     10000\n",
      "\n",
      "AU4: ACCURACY = 0.84, F1 SCORE = 0.00\n",
      "CLASSIFICATION REPORT :                precision    recall  f1-score   support\n",
      "\n",
      "           0       0.84      1.00      0.91      8409\n",
      "           1       0.20      0.00      0.00      1591\n",
      "\n",
      "    accuracy                           0.84     10000\n",
      "   macro avg       0.52      0.50      0.46     10000\n",
      "weighted avg       0.74      0.84      0.77     10000\n",
      "\n",
      "AU5: ACCURACY = 0.99, F1 SCORE = 0.00\n",
      "CLASSIFICATION REPORT :                precision    recall  f1-score   support\n",
      "\n",
      "           0       0.99      1.00      0.99      9863\n",
      "           1       0.00      0.00      0.00       137\n",
      "\n",
      "    accuracy                           0.99     10000\n",
      "   macro avg       0.49      0.50      0.50     10000\n",
      "weighted avg       0.97      0.99      0.98     10000\n",
      "\n",
      "AU6: ACCURACY = 0.76, F1 SCORE = 0.50\n",
      "CLASSIFICATION REPORT :                precision    recall  f1-score   support\n",
      "\n",
      "           0       0.97      0.75      0.85      8610\n",
      "           1       0.35      0.85      0.50      1390\n",
      "\n",
      "    accuracy                           0.76     10000\n",
      "   macro avg       0.66      0.80      0.67     10000\n",
      "weighted avg       0.88      0.76      0.80     10000\n",
      "\n",
      "AU9: ACCURACY = 0.92, F1 SCORE = 0.00\n",
      "CLASSIFICATION REPORT :                precision    recall  f1-score   support\n",
      "\n",
      "           0       0.92      1.00      0.96      9221\n",
      "           1       0.00      0.00      0.00       779\n",
      "\n",
      "    accuracy                           0.92     10000\n",
      "   macro avg       0.46      0.50      0.48     10000\n",
      "weighted avg       0.85      0.92      0.88     10000\n",
      "\n"
     ]
    },
    {
     "name": "stderr",
     "output_type": "stream",
     "text": [
      "/opt/conda/lib/python3.10/site-packages/sklearn/metrics/_classification.py:1344: UndefinedMetricWarning: Precision and F-score are ill-defined and being set to 0.0 in labels with no predicted samples. Use `zero_division` parameter to control this behavior.\n",
      "  _warn_prf(average, modifier, msg_start, len(result))\n",
      "/opt/conda/lib/python3.10/site-packages/sklearn/metrics/_classification.py:1344: UndefinedMetricWarning: Precision and F-score are ill-defined and being set to 0.0 in labels with no predicted samples. Use `zero_division` parameter to control this behavior.\n",
      "  _warn_prf(average, modifier, msg_start, len(result))\n",
      "/opt/conda/lib/python3.10/site-packages/sklearn/metrics/_classification.py:1344: UndefinedMetricWarning: Precision and F-score are ill-defined and being set to 0.0 in labels with no predicted samples. Use `zero_division` parameter to control this behavior.\n",
      "  _warn_prf(average, modifier, msg_start, len(result))\n",
      "/opt/conda/lib/python3.10/site-packages/sklearn/metrics/_classification.py:1344: UndefinedMetricWarning: Precision and F-score are ill-defined and being set to 0.0 in labels with no predicted samples. Use `zero_division` parameter to control this behavior.\n",
      "  _warn_prf(average, modifier, msg_start, len(result))\n",
      "/opt/conda/lib/python3.10/site-packages/sklearn/metrics/_classification.py:1344: UndefinedMetricWarning: Precision and F-score are ill-defined and being set to 0.0 in labels with no predicted samples. Use `zero_division` parameter to control this behavior.\n",
      "  _warn_prf(average, modifier, msg_start, len(result))\n",
      "/opt/conda/lib/python3.10/site-packages/sklearn/metrics/_classification.py:1344: UndefinedMetricWarning: Precision and F-score are ill-defined and being set to 0.0 in labels with no predicted samples. Use `zero_division` parameter to control this behavior.\n",
      "  _warn_prf(average, modifier, msg_start, len(result))\n"
     ]
    },
    {
     "data": {
      "image/png": "[encoded data removed]",
      "text/plain": [
       "<Figure size 2000x1500 with 12 Axes>"
      ]
     },
     "metadata": {},
     "output_type": "display_data"
    }
   ],
   "source": [
    "import numpy as np\n",
    "import matplotlib.pyplot as plt\n",
    "from sklearn.metrics import confusion_matrix, ConfusionMatrixDisplay, accuracy_score, f1_score,classification_report\n",
    "\n",
    "# Define action units and predictions\n",
    "au = col\n",
    "p = preds\n",
    "test_labels = np.array(y_test)\n",
    "\n",
    "# Create a subplot for confusion matrices\n",
    "fig, axes = plt.subplots(3, 4, figsize=(20, 15))\n",
    "axes = axes.flatten()\n",
    "\n",
    "print(\"METRICS FOR EACH ACTION UNIT :\")\n",
    "\n",
    "for i in range(12):\n",
    "    # Calculate accuracy\n",
    "    accuracy = accuracy_score(test_labels[:, i], p[:, i])\n",
    "    # Calculate F1 score\n",
    "    f1 = f1_score(test_labels[:, i], p[:, i])\n",
    "    \n",
    "    print(f'{au[i]}: ACCURACY = {accuracy:.2f}, F1 SCORE = {f1:.2f}')\n",
    "    print('CLASSIFICATION REPORT : ',classification_report(test_labels[:, i], p[:, i]))\n",
    "    # Plot confusion matrix\n",
    "    cm = confusion_matrix(test_labels[:, i], p[:, i])\n",
    "    disp = ConfusionMatrixDisplay(confusion_matrix=cm, display_labels=[0, 1])\n",
    "    disp.plot(ax=axes[i], colorbar=False)\n",
    "    axes[i].set_title(au[i])\n",
    "\n",
    "# Adjust layout\n",
    "plt.tight_layout()\n",
    "plt.show()\n"
   ]
  },
  {
   "cell_type": "code",
   "execution_count": 15,
   "id": "8e36be39",
   "metadata": {
    "execution": {
     "iopub.execute_input": "2024-10-29T12:23:38.156069Z",
     "iopub.status.busy": "2024-10-29T12:23:38.155524Z",
     "iopub.status.idle": "2024-10-29T12:23:38.281740Z",
     "shell.execute_reply": "2024-10-29T12:23:38.280969Z"
    },
    "papermill": {
     "duration": 0.137616,
     "end_time": "2024-10-29T12:23:38.283666",
     "exception": false,
     "start_time": "2024-10-29T12:23:38.146050",
     "status": "completed"
    },
    "tags": []
   },
   "outputs": [
    {
     "data": {
      "text/plain": [
       "['xgb_multilabel_model.pkl']"
      ]
     },
     "execution_count": 15,
     "metadata": {},
     "output_type": "execute_result"
    }
   ],
   "source": [
    "import joblib\n",
    "\n",
    "# Save the trained MultiOutputClassifier model\n",
    "joblib.dump(best_model, 'xgb_multilabel_model.pkl')"
   ]
  },
  {
   "cell_type": "code",
   "execution_count": null,
   "id": "ee899ea1",
   "metadata": {
    "papermill": {
     "duration": 0.008097,
     "end_time": "2024-10-29T12:23:38.300273",
     "exception": false,
     "start_time": "2024-10-29T12:23:38.292176",
     "status": "completed"
    },
    "tags": []
   },
   "outputs": [],
   "source": []
  }
 ],
 "metadata": {
  "kaggle": {
   "accelerator": "gpu",
   "dataSources": [
    {
     "datasetId": 5672819,
     "sourceId": 9357248,
     "sourceType": "datasetVersion"
    },
    {
     "datasetId": 5672864,
     "sourceId": 9357309,
     "sourceType": "datasetVersion"
    },
    {
     "datasetId": 5680748,
     "sourceId": 9367503,
     "sourceType": "datasetVersion"
    }
   ],
   "dockerImageVersionId": 30762,
   "isGpuEnabled": true,
   "isInternetEnabled": true,
   "language": "python",
   "sourceType": "notebook"
  },
  "kernelspec": {
   "display_name": "Python 3",
   "language": "python",
   "name": "python3"
  },
  "language_info": {
   "codemirror_mode": {
    "name": "ipython",
    "version": 3
   },
   "file_extension": ".py",
   "mimetype": "text/x-python",
   "name": "python",
   "nbconvert_exporter": "python",
   "pygments_lexer": "ipython3",
   "version": "3.10.14"
  },
  "papermill": {
   "default_parameters": {},
   "duration": 649.712565,
   "end_time": "2024-10-29T12:23:40.928696",
   "environment_variables": {},
   "exception": null,
   "input_path": "__notebook__.ipynb",
   "output_path": "__notebook__.ipynb",
   "parameters": {},
   "start_time": "2024-10-29T12:12:51.216131",
   "version": "2.6.0"
  }
 },
 "nbformat": 4,
 "nbformat_minor": 5
}
