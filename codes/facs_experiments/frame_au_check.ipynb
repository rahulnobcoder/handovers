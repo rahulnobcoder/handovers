{
 "cells": [
  {
   "cell_type": "code",
   "execution_count": 1,
   "metadata": {},
   "outputs": [],
   "source": [
    "import pandas as pd\n",
    "import os\n",
    "import numpy as np\n",
    "import cv2"
   ]
  },
  {
   "cell_type": "code",
   "execution_count": 2,
   "metadata": {},
   "outputs": [],
   "source": [
    "label=[]\n",
    "\n",
    "def get_all_csv_file_paths(folder_path):\n",
    "    # List to store all jpg file paths\n",
    "    jpg_file_paths = []\n",
    "\n",
    "    # Walk through the directory\n",
    "    for root, directories, files in os.walk(folder_path):\n",
    "        for filename in files:\n",
    "            # Check if the file is a .jpg file\n",
    "            if filename.lower().endswith('.csv'):\n",
    "                # Create the full file path and add it to the list\n",
    "                file_path = os.path.join(root, filename)\n",
    "                jpg_file_paths.append(file_path)\n",
    "\n",
    "    return jpg_file_paths\n",
    "paths=get_all_csv_file_paths(r'DISFA\\labels_csv')"
   ]
  },
  {
   "cell_type": "code",
   "execution_count": 3,
   "metadata": {},
   "outputs": [
    {
     "name": "stdout",
     "output_type": "stream",
     "text": [
      "DISFA\\labels_csv\\RightVideoSN001.csv (4845, 12)\n",
      "DISFA\\labels_csv\\RightVideoSN002.csv (4845, 12)\n",
      "DISFA\\labels_csv\\RightVideoSN003.csv (4845, 12)\n",
      "DISFA\\labels_csv\\RightVideoSN004.csv (4845, 12)\n",
      "DISFA\\labels_csv\\RightVideoSN005.csv (4845, 12)\n",
      "DISFA\\labels_csv\\RightVideoSN006.csv (4845, 12)\n",
      "DISFA\\labels_csv\\RightVideoSN007.csv (4845, 12)\n",
      "DISFA\\labels_csv\\RightVideoSN008.csv (4845, 12)\n",
      "DISFA\\labels_csv\\RightVideoSN009.csv (4845, 12)\n",
      "DISFA\\labels_csv\\RightVideoSN010.csv (4844, 12)\n",
      "DISFA\\labels_csv\\RightVideoSN011.csv (4845, 12)\n",
      "DISFA\\labels_csv\\RightVideoSN012.csv (4845, 12)\n",
      "DISFA\\labels_csv\\RightVideoSN013.csv (4845, 12)\n",
      "DISFA\\labels_csv\\RightVideoSN016.csv (4845, 12)\n",
      "DISFA\\labels_csv\\RightVideoSN017.csv (4845, 12)\n",
      "DISFA\\labels_csv\\RightVideoSN018.csv (4845, 12)\n",
      "DISFA\\labels_csv\\RightVideoSN021.csv (4845, 12)\n",
      "DISFA\\labels_csv\\RightVideoSN023.csv (4845, 12)\n",
      "DISFA\\labels_csv\\RightVideoSN024.csv (4845, 12)\n",
      "DISFA\\labels_csv\\RightVideoSN025.csv (4845, 12)\n",
      "DISFA\\labels_csv\\RightVideoSN026.csv (4845, 12)\n",
      "DISFA\\labels_csv\\RightVideoSN027.csv (4845, 12)\n",
      "DISFA\\labels_csv\\RightVideoSN028.csv (4845, 12)\n",
      "DISFA\\labels_csv\\RightVideoSN029.csv (4845, 12)\n",
      "DISFA\\labels_csv\\RightVideoSN030.csv (4845, 12)\n",
      "DISFA\\labels_csv\\RightVideoSN031.csv (4845, 12)\n",
      "DISFA\\labels_csv\\RightVideoSN032.csv (4845, 12)\n"
     ]
    }
   ],
   "source": [
    "for path in paths:\n",
    "    df=np.array(pd.read_csv(path))\n",
    "    print(path,df.shape)"
   ]
  },
  {
   "cell_type": "code",
   "execution_count": 23,
   "metadata": {},
   "outputs": [],
   "source": [
    "import numpy as np \n",
    "from collections import Counter\n",
    "df=np.array(pd.read_csv(paths[0]))\n",
    "for file in paths[1:]:\n",
    "    df1=np.array(pd.read_csv(file))\n",
    "    df=np.vstack((df,df1))"
   ]
  },
  {
   "cell_type": "code",
   "execution_count": null,
   "metadata": {},
   "outputs": [],
   "source": []
  },
  {
   "cell_type": "code",
   "execution_count": 33,
   "metadata": {},
   "outputs": [
    {
     "data": {
      "text/plain": [
       "Index(['au1', 'au12', 'au15', 'au17', 'au2', 'au20', 'au25', 'au26', 'au4',\n",
       "       'au5', 'au6', 'au9'],\n",
       "      dtype='object')"
      ]
     },
     "execution_count": 33,
     "metadata": {},
     "output_type": "execute_result"
    }
   ],
   "source": [
    "d=pd.read_csv(paths[0])\n",
    "col=d.columns\n",
    "col"
   ]
  },
  {
   "cell_type": "code",
   "execution_count": 8,
   "metadata": {},
   "outputs": [],
   "source": [
    "def get_all_file_paths(folder_path):\n",
    "    # List to store all jpg file paths\n",
    "    jpg_file_paths = []\n",
    "\n",
    "    # Walk through the directory\n",
    "    for root, directories, files in os.walk(folder_path):\n",
    "        for filename in files:\n",
    "            # Check if the file is a .jpg file\n",
    "            if True:\n",
    "                # Create the full file path and add it to the list\n",
    "                file_path = os.path.join(root, filename)\n",
    "                jpg_file_paths.append(file_path)\n",
    "\n",
    "    return jpg_file_paths\n",
    "videos=get_all_file_paths(r'DISFA\\Video_RightCamera')"
   ]
  },
  {
   "cell_type": "code",
   "execution_count": 9,
   "metadata": {},
   "outputs": [],
   "source": [
    "# from feat import *\n",
    "# def save_frames(video_path,folder):\n",
    "\n",
    "#     # Desired frame rate for the output dataset\n",
    "#     folder_name=video_path.split('\\\\')[-1].split('_')[0]\n",
    "#     folder_path=os.path.join(folder,folder_name)\n",
    "#     # Capture the video\n",
    "#     cap = cv2.VideoCapture(video_path)\n",
    "#     frame_count = 0\n",
    "#     # Loop through the video\n",
    "#     while True:\n",
    "#         ret, frame = cap.read()\n",
    "#         if not ret:\n",
    "#             break\n",
    "#         face=get_face(frame)\n",
    "#         filename=os.path.join(folder_path,f'{frame_count}.jpg')\n",
    "#         if face is not None:\n",
    "#             cv2.imwrite(filename,face)\n",
    "#         else:\n",
    "#             print(\"error in capturing face : \",video_path,frame_count)\n",
    "#         frame_count += 1\n",
    "#     cap.release()\n"
   ]
  },
  {
   "cell_type": "code",
   "execution_count": 10,
   "metadata": {},
   "outputs": [],
   "source": [
    "# from tqdm import tqdm\n",
    "# for video in tqdm(videos):\n",
    "#     save_frames(video,folder='frames')"
   ]
  },
  {
   "cell_type": "code",
   "execution_count": 11,
   "metadata": {},
   "outputs": [],
   "source": [
    "def get_all_file_paths(folder_path):\n",
    "    # List to store all jpg file paths\n",
    "    jpg_file_paths = []\n",
    "\n",
    "    # Walk through the directory\n",
    "    for root, directories, files in os.walk(folder_path):\n",
    "        for filename in files:\n",
    "            # Check if the file is a .jpg file\n",
    "            if True:\n",
    "                # Create the full file path and add it to the list\n",
    "                file_path = os.path.join(root, filename)\n",
    "                jpg_file_paths.append(file_path)\n",
    "\n",
    "    return jpg_file_paths\n",
    "images=get_all_file_paths(r'frames')\n",
    "import re\n",
    "def extract_numbers(path):\n",
    "    # Extract sequence number using regex\n",
    "    seq_match = re.search(r'SN(\\d+)', path)\n",
    "    sequence_number = int(seq_match.group(1)) if seq_match else 0\n",
    "    \n",
    "    # Extract image number using regex\n",
    "    img_match = re.search(r'(\\d+)\\.jpg$', path)\n",
    "    image_number = int(img_match.group(1)) if img_match else 0\n",
    "    \n",
    "    return (sequence_number, image_number)\n",
    "\n",
    "# Sort the image paths based on the extracted numeric part\n",
    "\n",
    "image_paths = sorted(images, key=extract_numbers)"
   ]
  },
  {
   "cell_type": "code",
   "execution_count": 12,
   "metadata": {},
   "outputs": [
    {
     "name": "stdout",
     "output_type": "stream",
     "text": [
      "Count of Frames which have no action unit detected in them :  48616\n",
      "Count of Frames which have atleast one action unit detected in them :  82198\n"
     ]
    }
   ],
   "source": [
    "zero_rows  = np.where(~df.any(axis=1))[0]\n",
    "non_zero_rows = np.where(df.any(axis=1))[0]\n",
    "print(\"Count of Frames which have no action unit detected in them : \",len(zero_rows))\n",
    "print(\"Count of Frames which have atleast one action unit detected in them : \",len(non_zero_rows))"
   ]
  },
  {
   "cell_type": "code",
   "execution_count": 35,
   "metadata": {},
   "outputs": [
    {
     "data": {
      "text/plain": [
       "Index(['au1', 'au12', 'au15', 'au17', 'au2', 'au20', 'au25', 'au26', 'au4',\n",
       "       'au5', 'au6', 'au9'],\n",
       "      dtype='object')"
      ]
     },
     "execution_count": 35,
     "metadata": {},
     "output_type": "execute_result"
    }
   ],
   "source": [
    "d.columns"
   ]
  },
  {
   "cell_type": "code",
   "execution_count": 30,
   "metadata": {},
   "outputs": [
    {
     "name": "stdout",
     "output_type": "stream",
     "text": [
      "[Counter({0: 73420, 1: 8778}), Counter({0: 51404, 1: 30794}), Counter({0: 74336, 1: 7862}), Counter({0: 69268, 1: 12930}), Counter({0: 74834, 1: 7364}), Counter({0: 77666, 1: 4532}), Counter({1: 46052, 0: 36146}), Counter({0: 57222, 1: 24976}), Counter({0: 57604, 1: 24594}), Counter({0: 79469, 1: 2729}), Counter({0: 62714, 1: 19484}), Counter({0: 75066, 1: 7132})]\n"
     ]
    }
   ],
   "source": [
    "s=df[non_zero_rows]\n",
    "s[s>=1]=1\n",
    "counters=[]\n",
    "for i in range(12):\n",
    "    counters.append(Counter(s[:,i]))\n",
    "print(counters)"
   ]
  },
  {
   "cell_type": "code",
   "execution_count": 40,
   "metadata": {},
   "outputs": [
    {
     "data": {
      "image/png": "[encoded data removed]",
      "text/plain": [
       "<Figure size 1500x600 with 1 Axes>"
      ]
     },
     "metadata": {},
     "output_type": "display_data"
    }
   ],
   "source": [
    "import matplotlib.pyplot as plt\n",
    "import numpy as np\n",
    "\n",
    "# Data from the user\n",
    "counters = [\n",
    "    {0: 73420, 1: 8778}, {0: 51404, 1: 30794}, {0: 74336, 1: 7862}, \n",
    "    {0: 69268, 1: 12930}, {0: 74834, 1: 7364}, {0: 77666, 1: 4532}, \n",
    "    {1: 46052, 0: 36146}, {0: 57222, 1: 24976}, {0: 57604, 1: 24594}, \n",
    "    {0: 79469, 1: 2729}, {0: 62714, 1: 19484}, {0: 75066, 1: 7132}\n",
    "]\n",
    "\n",
    "# Extracting data for plotting\n",
    "labels = list(range(1, 13))\n",
    "counts_0 = [counter.get(0, 0) for counter in counters]\n",
    "counts_1 = [counter.get(1, 0) for counter in counters]\n",
    "\n",
    "# Plotting\n",
    "x = np.arange(len(labels))  # label locations\n",
    "width = 0.35  # bar width\n",
    "\n",
    "fig, ax = plt.subplots(figsize=(15, 6))\n",
    "bars1 = ax.bar(x - width/2, counts_0, width, label='0')\n",
    "bars2 = ax.bar(x + width/2, counts_1, width, label='1')\n",
    "\n",
    "# Adding labels, title and custom x-axis tick labels\n",
    "ax.set_xlabel('Label')\n",
    "ax.set_ylabel('Count')\n",
    "ax.set_title('Counts of presence and absence in Each Action unit.')\n",
    "ax.set_xticks(x)\n",
    "ax.set_xticklabels(['au1', 'au12', 'au15', 'au17', 'au2', 'au20', 'au25', 'au26', 'au4',\n",
    "       'au5', 'au6', 'au9'])\n",
    "ax.legend()\n",
    "\n",
    "# Adding count labels on top of the bars\n",
    "def add_labels(bars):\n",
    "    for bar in bars:\n",
    "        height = bar.get_height()\n",
    "        ax.annotate('{}'.format(height),\n",
    "                    xy=(bar.get_x() + bar.get_width() / 2, height),\n",
    "                    xytext=(0, 3),  # 3 points vertical offset\n",
    "                    textcoords=\"offset points\",\n",
    "                    ha='center', va='bottom')\n",
    "\n",
    "add_labels(bars1)\n",
    "add_labels(bars2)\n",
    "\n",
    "plt.tight_layout()\n",
    "plt.show()\n"
   ]
  },
  {
   "cell_type": "code",
   "execution_count": 21,
   "metadata": {},
   "outputs": [
    {
     "data": {
      "image/png": "[encoded data removed]",
      "text/plain": [
       "<Figure size 1600x800 with 1 Axes>"
      ]
     },
     "metadata": {},
     "output_type": "display_data"
    }
   ],
   "source": [
    "category_mapping = {0: 'au1', 1: 'au12', 2: 'au15', 3: 'au17', 4: 'au2', 5: 'au20'}\n",
    "au_labels=col\n",
    "import matplotlib.pyplot as plt\n",
    "# Reformatting the counters\n",
    "reformatted_data = {label: [] for label in au_labels}\n",
    "\n",
    "for counter in counters:\n",
    "    for category in range(6):\n",
    "        action_unit = category_mapping[category]\n",
    "        reformatted_data[action_unit].append(counter.get(category, 0))\n",
    "    for action_unit in au_labels[6:]:\n",
    "        reformatted_data[action_unit].append(0)\n",
    "\n",
    "# Labels for x-axis\n",
    "x = np.arange(len(au_labels))\n",
    "\n",
    "# Width of each bar\n",
    "bar_width = 0.1\n",
    "\n",
    "# Plotting\n",
    "plt.figure(figsize=(16, 8))\n",
    "\n",
    "for i in range(6):\n",
    "    values = [reformatted_data[label][i] for label in au_labels]\n",
    "    plt.bar(x + i * bar_width, values, width=bar_width, label=f'Counter {i+1}')\n",
    "\n",
    "# Add labels, title, and legend\n",
    "plt.xlabel('Action Units')\n",
    "plt.ylabel('Counts')\n",
    "plt.title('Counts of Action Units across Different Counters')\n",
    "plt.xticks(x + 2.5 * bar_width, au_labels)\n",
    "plt.legend(loc='upper right')\n",
    "\n",
    "plt.show()"
   ]
  },
  {
   "cell_type": "code",
   "execution_count": 35,
   "metadata": {},
   "outputs": [
    {
     "name": "stdout",
     "output_type": "stream",
     "text": [
      "Counter({0: 122036, 3: 2809, 1: 2272, 2: 1749, 4: 1393, 5: 555})\n",
      "Counter({0: 100020, 1: 13943, 3: 7233, 2: 6869, 4: 2577, 5: 172})\n",
      "Counter({0: 122952, 1: 5180, 2: 1618, 3: 1017, 4: 47})\n",
      "Counter({0: 117884, 1: 6342, 2: 4184, 3: 2281, 4: 112, 5: 11})\n",
      "Counter({0: 123450, 3: 3505, 1: 1720, 2: 934, 4: 836, 5: 369})\n",
      "Counter({0: 126282, 2: 1608, 1: 1591, 3: 1305, 4: 28})\n",
      "Counter({0: 84762, 3: 15693, 2: 13935, 1: 9805, 4: 5580, 5: 1039})\n",
      "Counter({0: 105838, 1: 13443, 2: 7473, 3: 3529, 4: 314, 5: 217})\n",
      "Counter({0: 106220, 2: 7636, 3: 6586, 1: 4661, 4: 4328, 5: 1383})\n",
      "Counter({0: 128085, 1: 1579, 2: 719, 3: 293, 4: 104, 5: 34})\n",
      "Counter({0: 111330, 1: 9157, 2: 5986, 3: 3599, 4: 601, 5: 141})\n",
      "Counter({0: 123682, 3: 3045, 2: 2035, 1: 1659, 4: 316, 5: 77})\n"
     ]
    }
   ],
   "source": [
    "for i in range(12):\n",
    "    print(Counter(df[:,i]))"
   ]
  },
  {
   "cell_type": "code",
   "execution_count": 14,
   "metadata": {},
   "outputs": [
    {
     "data": {
      "text/plain": [
       "array([[0, 2, 0, ..., 0, 0, 0],\n",
       "       [0, 2, 0, ..., 0, 0, 0],\n",
       "       [0, 2, 0, ..., 0, 0, 0],\n",
       "       ...,\n",
       "       [0, 0, 0, ..., 0, 3, 5],\n",
       "       [0, 0, 0, ..., 0, 3, 5],\n",
       "       [0, 0, 0, ..., 0, 3, 5]], dtype=int64)"
      ]
     },
     "execution_count": 14,
     "metadata": {},
     "output_type": "execute_result"
    }
   ],
   "source": []
  },
  {
   "cell_type": "code",
   "execution_count": 20,
   "metadata": {},
   "outputs": [
    {
     "data": {
      "image/png": "[encoded data removed]",
      "text/plain": [
       "<Figure size 1000x600 with 1 Axes>"
      ]
     },
     "metadata": {},
     "output_type": "display_data"
    }
   ],
   "source": [
    "values_for_1 = [counter.get(1, 0) for counter in counters]\n",
    "\n",
    "# Plotting the data\n",
    "fig, ax = plt.subplots(figsize=(10, 6))\n",
    "bars = ax.bar(range(1, len(values_for_1) + 1), values_for_1, color='skyblue')\n",
    "\n",
    "for bar in bars:\n",
    "    yval = bar.get_height()\n",
    "    ax.text(bar.get_x() + bar.get_width() / 2, yval, int(yval), va='bottom', ha='center')\n",
    "ax.bar(range(1, len(values_for_1) + 1), values_for_1)\n",
    "ax.set_title(f' total frames with atleast one au : {len(non_zero_rows)}')\n",
    "ax.set_xlabel('Counter Index')\n",
    "ax.set_ylabel('Value')\n",
    "ax.set_xticks(range(1, len(values_for_1) + 1))\n",
    "ax.set_xticklabels(col)\n",
    "plt.show()"
   ]
  },
  {
   "cell_type": "code",
   "execution_count": 36,
   "metadata": {},
   "outputs": [],
   "source": [
    "zero_samples = np.random.choice(zero_rows, size=30000, replace=False)"
   ]
  },
  {
   "cell_type": "code",
   "execution_count": 37,
   "metadata": {},
   "outputs": [],
   "source": [
    "mask=np.concatenate((zero_samples,non_zero_rows))\n",
    "mask.sort()"
   ]
  },
  {
   "cell_type": "code",
   "execution_count": 48,
   "metadata": {},
   "outputs": [
    {
     "data": {
      "text/plain": [
       "(112198,)"
      ]
     },
     "execution_count": 48,
     "metadata": {},
     "output_type": "execute_result"
    }
   ],
   "source": [
    "mask.shape"
   ]
  },
  {
   "cell_type": "code",
   "execution_count": 72,
   "metadata": {},
   "outputs": [
    {
     "data": {
      "text/plain": [
       "(130814,)"
      ]
     },
     "execution_count": 72,
     "metadata": {},
     "output_type": "execute_result"
    }
   ],
   "source": [
    "images=np.array(image_paths)\n",
    "images.shape"
   ]
  },
  {
   "cell_type": "code",
   "execution_count": 74,
   "metadata": {},
   "outputs": [],
   "source": [
    "sampled_images=images[mask]\n",
    "sampled_df=df[mask]"
   ]
  },
  {
   "cell_type": "code",
   "execution_count": 75,
   "metadata": {},
   "outputs": [
    {
     "data": {
      "text/plain": [
       "((112198, 12), (112198,))"
      ]
     },
     "execution_count": 75,
     "metadata": {},
     "output_type": "execute_result"
    }
   ],
   "source": [
    "sampled_df.shape,sampled_images.shape"
   ]
  },
  {
   "cell_type": "code",
   "execution_count": 89,
   "metadata": {},
   "outputs": [
    {
     "data": {
      "text/plain": [
       "'frames\\\\RightVideoSN002\\\\1248.jpg'"
      ]
     },
     "execution_count": 89,
     "metadata": {},
     "output_type": "execute_result"
    }
   ],
   "source": [
    "image_paths[6093]"
   ]
  },
  {
   "cell_type": "code",
   "execution_count": 76,
   "metadata": {},
   "outputs": [
    {
     "data": {
      "text/html": [
       "<div>\n",
       "<style scoped>\n",
       "    .dataframe tbody tr th:only-of-type {\n",
       "        vertical-align: middle;\n",
       "    }\n",
       "\n",
       "    .dataframe tbody tr th {\n",
       "        vertical-align: top;\n",
       "    }\n",
       "\n",
       "    .dataframe thead th {\n",
       "        text-align: right;\n",
       "    }\n",
       "</style>\n",
       "<table border=\"1\" class=\"dataframe\">\n",
       "  <thead>\n",
       "    <tr style=\"text-align: right;\">\n",
       "      <th></th>\n",
       "      <th>au1</th>\n",
       "      <th>au12</th>\n",
       "      <th>au15</th>\n",
       "      <th>au17</th>\n",
       "      <th>au2</th>\n",
       "      <th>au20</th>\n",
       "      <th>au25</th>\n",
       "      <th>au26</th>\n",
       "      <th>au4</th>\n",
       "      <th>au5</th>\n",
       "      <th>au6</th>\n",
       "      <th>au9</th>\n",
       "      <th>paths</th>\n",
       "    </tr>\n",
       "  </thead>\n",
       "  <tbody>\n",
       "    <tr>\n",
       "      <th>0</th>\n",
       "      <td>0</td>\n",
       "      <td>2</td>\n",
       "      <td>0</td>\n",
       "      <td>0</td>\n",
       "      <td>0</td>\n",
       "      <td>0</td>\n",
       "      <td>0</td>\n",
       "      <td>0</td>\n",
       "      <td>0</td>\n",
       "      <td>0</td>\n",
       "      <td>0</td>\n",
       "      <td>0</td>\n",
       "      <td>frames\\RightVideoSN001\\0.jpg</td>\n",
       "    </tr>\n",
       "    <tr>\n",
       "      <th>1</th>\n",
       "      <td>0</td>\n",
       "      <td>2</td>\n",
       "      <td>0</td>\n",
       "      <td>0</td>\n",
       "      <td>0</td>\n",
       "      <td>0</td>\n",
       "      <td>0</td>\n",
       "      <td>0</td>\n",
       "      <td>0</td>\n",
       "      <td>0</td>\n",
       "      <td>0</td>\n",
       "      <td>0</td>\n",
       "      <td>frames\\RightVideoSN001\\1.jpg</td>\n",
       "    </tr>\n",
       "    <tr>\n",
       "      <th>2</th>\n",
       "      <td>0</td>\n",
       "      <td>2</td>\n",
       "      <td>0</td>\n",
       "      <td>0</td>\n",
       "      <td>0</td>\n",
       "      <td>0</td>\n",
       "      <td>0</td>\n",
       "      <td>0</td>\n",
       "      <td>0</td>\n",
       "      <td>0</td>\n",
       "      <td>0</td>\n",
       "      <td>0</td>\n",
       "      <td>frames\\RightVideoSN001\\2.jpg</td>\n",
       "    </tr>\n",
       "    <tr>\n",
       "      <th>3</th>\n",
       "      <td>0</td>\n",
       "      <td>2</td>\n",
       "      <td>0</td>\n",
       "      <td>0</td>\n",
       "      <td>0</td>\n",
       "      <td>0</td>\n",
       "      <td>0</td>\n",
       "      <td>0</td>\n",
       "      <td>0</td>\n",
       "      <td>0</td>\n",
       "      <td>0</td>\n",
       "      <td>0</td>\n",
       "      <td>frames\\RightVideoSN001\\3.jpg</td>\n",
       "    </tr>\n",
       "    <tr>\n",
       "      <th>4</th>\n",
       "      <td>0</td>\n",
       "      <td>2</td>\n",
       "      <td>0</td>\n",
       "      <td>0</td>\n",
       "      <td>0</td>\n",
       "      <td>0</td>\n",
       "      <td>0</td>\n",
       "      <td>0</td>\n",
       "      <td>0</td>\n",
       "      <td>0</td>\n",
       "      <td>0</td>\n",
       "      <td>0</td>\n",
       "      <td>frames\\RightVideoSN001\\4.jpg</td>\n",
       "    </tr>\n",
       "    <tr>\n",
       "      <th>...</th>\n",
       "      <td>...</td>\n",
       "      <td>...</td>\n",
       "      <td>...</td>\n",
       "      <td>...</td>\n",
       "      <td>...</td>\n",
       "      <td>...</td>\n",
       "      <td>...</td>\n",
       "      <td>...</td>\n",
       "      <td>...</td>\n",
       "      <td>...</td>\n",
       "      <td>...</td>\n",
       "      <td>...</td>\n",
       "      <td>...</td>\n",
       "    </tr>\n",
       "    <tr>\n",
       "      <th>112193</th>\n",
       "      <td>0</td>\n",
       "      <td>0</td>\n",
       "      <td>0</td>\n",
       "      <td>0</td>\n",
       "      <td>0</td>\n",
       "      <td>0</td>\n",
       "      <td>3</td>\n",
       "      <td>0</td>\n",
       "      <td>5</td>\n",
       "      <td>0</td>\n",
       "      <td>3</td>\n",
       "      <td>5</td>\n",
       "      <td>frames\\RightVideoSN032\\4840.jpg</td>\n",
       "    </tr>\n",
       "    <tr>\n",
       "      <th>112194</th>\n",
       "      <td>0</td>\n",
       "      <td>0</td>\n",
       "      <td>0</td>\n",
       "      <td>0</td>\n",
       "      <td>0</td>\n",
       "      <td>0</td>\n",
       "      <td>3</td>\n",
       "      <td>0</td>\n",
       "      <td>5</td>\n",
       "      <td>0</td>\n",
       "      <td>3</td>\n",
       "      <td>5</td>\n",
       "      <td>frames\\RightVideoSN032\\4841.jpg</td>\n",
       "    </tr>\n",
       "    <tr>\n",
       "      <th>112195</th>\n",
       "      <td>0</td>\n",
       "      <td>0</td>\n",
       "      <td>0</td>\n",
       "      <td>0</td>\n",
       "      <td>0</td>\n",
       "      <td>0</td>\n",
       "      <td>3</td>\n",
       "      <td>0</td>\n",
       "      <td>5</td>\n",
       "      <td>0</td>\n",
       "      <td>3</td>\n",
       "      <td>5</td>\n",
       "      <td>frames\\RightVideoSN032\\4842.jpg</td>\n",
       "    </tr>\n",
       "    <tr>\n",
       "      <th>112196</th>\n",
       "      <td>0</td>\n",
       "      <td>0</td>\n",
       "      <td>0</td>\n",
       "      <td>0</td>\n",
       "      <td>0</td>\n",
       "      <td>0</td>\n",
       "      <td>3</td>\n",
       "      <td>0</td>\n",
       "      <td>5</td>\n",
       "      <td>0</td>\n",
       "      <td>3</td>\n",
       "      <td>5</td>\n",
       "      <td>frames\\RightVideoSN032\\4843.jpg</td>\n",
       "    </tr>\n",
       "    <tr>\n",
       "      <th>112197</th>\n",
       "      <td>0</td>\n",
       "      <td>0</td>\n",
       "      <td>0</td>\n",
       "      <td>0</td>\n",
       "      <td>0</td>\n",
       "      <td>0</td>\n",
       "      <td>3</td>\n",
       "      <td>0</td>\n",
       "      <td>5</td>\n",
       "      <td>0</td>\n",
       "      <td>3</td>\n",
       "      <td>5</td>\n",
       "      <td>frames\\RightVideoSN032\\4844.jpg</td>\n",
       "    </tr>\n",
       "  </tbody>\n",
       "</table>\n",
       "<p>112198 rows × 13 columns</p>\n",
       "</div>"
      ],
      "text/plain": [
       "        au1  au12  au15  au17  au2  au20  au25  au26  au4  au5  au6  au9  \\\n",
       "0         0     2     0     0    0     0     0     0    0    0    0    0   \n",
       "1         0     2     0     0    0     0     0     0    0    0    0    0   \n",
       "2         0     2     0     0    0     0     0     0    0    0    0    0   \n",
       "3         0     2     0     0    0     0     0     0    0    0    0    0   \n",
       "4         0     2     0     0    0     0     0     0    0    0    0    0   \n",
       "...     ...   ...   ...   ...  ...   ...   ...   ...  ...  ...  ...  ...   \n",
       "112193    0     0     0     0    0     0     3     0    5    0    3    5   \n",
       "112194    0     0     0     0    0     0     3     0    5    0    3    5   \n",
       "112195    0     0     0     0    0     0     3     0    5    0    3    5   \n",
       "112196    0     0     0     0    0     0     3     0    5    0    3    5   \n",
       "112197    0     0     0     0    0     0     3     0    5    0    3    5   \n",
       "\n",
       "                                  paths  \n",
       "0          frames\\RightVideoSN001\\0.jpg  \n",
       "1          frames\\RightVideoSN001\\1.jpg  \n",
       "2          frames\\RightVideoSN001\\2.jpg  \n",
       "3          frames\\RightVideoSN001\\3.jpg  \n",
       "4          frames\\RightVideoSN001\\4.jpg  \n",
       "...                                 ...  \n",
       "112193  frames\\RightVideoSN032\\4840.jpg  \n",
       "112194  frames\\RightVideoSN032\\4841.jpg  \n",
       "112195  frames\\RightVideoSN032\\4842.jpg  \n",
       "112196  frames\\RightVideoSN032\\4843.jpg  \n",
       "112197  frames\\RightVideoSN032\\4844.jpg  \n",
       "\n",
       "[112198 rows x 13 columns]"
      ]
     },
     "execution_count": 76,
     "metadata": {},
     "output_type": "execute_result"
    }
   ],
   "source": [
    "data=pd.DataFrame(sampled_df,columns=col)\n",
    "data['paths']=sampled_images\n",
    "data"
   ]
  },
  {
   "cell_type": "code",
   "execution_count": 92,
   "metadata": {},
   "outputs": [],
   "source": [
    "data.to_csv('labels_path.csv',index=False)"
   ]
  },
  {
   "cell_type": "code",
   "execution_count": 33,
   "metadata": {},
   "outputs": [
    {
     "name": "stdout",
     "output_type": "stream",
     "text": [
      "Created folder: final_images\\RightVideoSN001\n",
      "Created folder: final_images\\RightVideoSN002\n",
      "Created folder: final_images\\RightVideoSN003\n",
      "Created folder: final_images\\RightVideoSN004\n",
      "Created folder: final_images\\RightVideoSN005\n",
      "Created folder: final_images\\RightVideoSN006\n",
      "Created folder: final_images\\RightVideoSN007\n",
      "Created folder: final_images\\RightVideoSN008\n",
      "Created folder: final_images\\RightVideoSN009\n",
      "Created folder: final_images\\RightVideoSN010\n",
      "Created folder: final_images\\RightVideoSN011\n",
      "Created folder: final_images\\RightVideoSN012\n",
      "Created folder: final_images\\RightVideoSN013\n",
      "Created folder: final_images\\RightVideoSN016\n",
      "Created folder: final_images\\RightVideoSN017\n",
      "Created folder: final_images\\RightVideoSN018\n",
      "Created folder: final_images\\RightVideoSN021\n",
      "Created folder: final_images\\RightVideoSN023\n",
      "Created folder: final_images\\RightVideoSN024\n",
      "Created folder: final_images\\RightVideoSN025\n",
      "Created folder: final_images\\RightVideoSN026\n",
      "Created folder: final_images\\RightVideoSN027\n",
      "Created folder: final_images\\RightVideoSN028\n",
      "Created folder: final_images\\RightVideoSN029\n",
      "Created folder: final_images\\RightVideoSN030\n",
      "Created folder: final_images\\RightVideoSN031\n",
      "Created folder: final_images\\RightVideoSN032\n"
     ]
    }
   ],
   "source": [
    "import os\n",
    "\n",
    "def create_folders(base_path, folder_names):\n",
    "    \"\"\"\n",
    "    Create multiple folders inside the base_path directory.\n",
    "\n",
    "    Parameters:\n",
    "    - base_path: The path where the folders will be created.\n",
    "    - folder_names: A list of folder names to be created.\n",
    "    \"\"\"\n",
    "    # Check if the base path exists\n",
    "    if not os.path.exists(base_path):\n",
    "        print(f\"Base path {base_path} does not exist.\")\n",
    "        return\n",
    "\n",
    "    for folder_name in folder_names:\n",
    "        folder_path = os.path.join(base_path, folder_name)\n",
    "        \n",
    "        # Create the folder if it does not exist\n",
    "        if not os.path.exists(folder_path):\n",
    "            os.makedirs(folder_path)\n",
    "            print(f\"Created folder: {folder_path}\")\n",
    "        else:\n",
    "            print(f\"Folder already exists: {folder_path}\")\n",
    "\n",
    "# Example usage\n",
    "base_directory = 'final_images'\n",
    "folders_to_create = os.listdir('frames')\n",
    "\n",
    "create_folders(base_directory, folders_to_create)\n"
   ]
  },
  {
   "cell_type": "code",
   "execution_count": 35,
   "metadata": {},
   "outputs": [
    {
     "name": "stderr",
     "output_type": "stream",
     "text": [
      "100%|██████████| 112198/112198 [05:16<00:00, 354.76it/s]\n"
     ]
    }
   ],
   "source": [
    "folder='final_images'\n",
    "from tqdm import tqdm \n",
    "clahe = cv2.createCLAHE(clipLimit=3.0, tileGridSize=(8, 8))\n",
    "for i in tqdm(range(df.shape[0])):\n",
    "    img=cv2.imread(df.at[i,'paths'],0)\n",
    "    img = clahe.apply(img)\n",
    "\n",
    "    file=df.at[i,'paths'].split('\\\\')[1:]\n",
    "    file=os.path.join(file[0],file[1])\n",
    "    output_path=os.path.join(folder,file)\n",
    "\n",
    "    cv2.imwrite(output_path, img, [int(cv2.IMWRITE_JPEG_QUALITY),50])"
   ]
  },
  {
   "cell_type": "markdown",
   "metadata": {},
   "source": [
    "preprocessing"
   ]
  },
  {
   "cell_type": "code",
   "execution_count": null,
   "metadata": {},
   "outputs": [],
   "source": [
    "df=pd.read_csv('labels_path.csv')\n",
    "paths=df['paths']\n",
    "from tqdm import tqdm"
   ]
  },
  {
   "cell_type": "code",
   "execution_count": null,
   "metadata": {},
   "outputs": [
    {
     "data": {
      "text/plain": [
       "['final_images\\\\RightVideoSN001\\\\0.jpg',\n",
       " 'final_images\\\\RightVideoSN001\\\\1.jpg',\n",
       " 'final_images\\\\RightVideoSN001\\\\2.jpg',\n",
       " 'final_images\\\\RightVideoSN001\\\\3.jpg',\n",
       " 'final_images\\\\RightVideoSN001\\\\4.jpg']"
      ]
     },
     "execution_count": 13,
     "metadata": {},
     "output_type": "execute_result"
    }
   ],
   "source": [
    "paths=[path.replace('frames','final_images') for path in paths]\n",
    "paths[:5]"
   ]
  },
  {
   "cell_type": "code",
   "execution_count": null,
   "metadata": {},
   "outputs": [
    {
     "name": "stderr",
     "output_type": "stream",
     "text": [
      "  9%|▉         | 9985/112198 [01:01<10:26, 163.12it/s]\n"
     ]
    },
    {
     "ename": "KeyboardInterrupt",
     "evalue": "",
     "output_type": "error",
     "traceback": [
      "\u001b[1;31m---------------------------------------------------------------------------\u001b[0m",
      "\u001b[1;31mKeyboardInterrupt\u001b[0m                         Traceback (most recent call last)",
      "Cell \u001b[1;32mIn[14], line 5\u001b[0m\n\u001b[0;32m      3\u001b[0m img \u001b[38;5;241m=\u001b[39m cv2\u001b[38;5;241m.\u001b[39mimread(path,\u001b[38;5;241m0\u001b[39m)\n\u001b[0;32m      4\u001b[0m clahe_img \u001b[38;5;241m=\u001b[39m clahe\u001b[38;5;241m.\u001b[39mapply(img)\n\u001b[1;32m----> 5\u001b[0m \u001b[43mcv2\u001b[49m\u001b[38;5;241;43m.\u001b[39;49m\u001b[43mimwrite\u001b[49m\u001b[43m(\u001b[49m\u001b[43mpath\u001b[49m\u001b[43m,\u001b[49m\u001b[43mclahe_img\u001b[49m\u001b[43m)\u001b[49m\n",
      "\u001b[1;31mKeyboardInterrupt\u001b[0m: "
     ]
    }
   ],
   "source": [
    "clahe = cv2.createCLAHE(clipLimit=3.0, tileGridSize=(8, 8))\n",
    "for path in tqdm(paths):\n",
    "    img = cv2.imread(path,0)\n",
    "    clahe_img = clahe.apply(img)\n",
    "    cv2.imwrite(path,clahe_img)\n"
   ]
  },
  {
   "cell_type": "code",
   "execution_count": 2,
   "metadata": {},
   "outputs": [],
   "source": [
    "import os \n",
    "folder='final_images'\n",
    "folders=os.listdir(folder)"
   ]
  },
  {
   "cell_type": "code",
   "execution_count": 4,
   "metadata": {},
   "outputs": [
    {
     "name": "stdout",
     "output_type": "stream",
     "text": [
      "final_images\\RightVideoSN001 3683\n",
      "final_images\\RightVideoSN002 4035\n",
      "final_images\\RightVideoSN003 4529\n",
      "final_images\\RightVideoSN004 4579\n",
      "final_images\\RightVideoSN005 3934\n",
      "final_images\\RightVideoSN006 4127\n",
      "final_images\\RightVideoSN007 3929\n",
      "final_images\\RightVideoSN008 3794\n",
      "final_images\\RightVideoSN009 3383\n",
      "final_images\\RightVideoSN010 3929\n",
      "final_images\\RightVideoSN011 4818\n",
      "final_images\\RightVideoSN012 4449\n",
      "final_images\\RightVideoSN013 3760\n",
      "final_images\\RightVideoSN016 4746\n",
      "final_images\\RightVideoSN017 4123\n",
      "final_images\\RightVideoSN018 4463\n",
      "final_images\\RightVideoSN021 3957\n",
      "final_images\\RightVideoSN023 4552\n",
      "final_images\\RightVideoSN024 3743\n",
      "final_images\\RightVideoSN025 4842\n",
      "final_images\\RightVideoSN026 3789\n",
      "final_images\\RightVideoSN027 4093\n",
      "final_images\\RightVideoSN028 4109\n",
      "final_images\\RightVideoSN029 4601\n",
      "final_images\\RightVideoSN030 3926\n",
      "final_images\\RightVideoSN031 3938\n",
      "final_images\\RightVideoSN032 4367\n"
     ]
    }
   ],
   "source": [
    "for f in folders:\n",
    "    path=os.path.join(folder,f)\n",
    "    print(path,len(os.listdir(path)))"
   ]
  }
 ],
 "metadata": {
  "kernelspec": {
   "display_name": "Python 3",
   "language": "python",
   "name": "python3"
  },
  "language_info": {
   "codemirror_mode": {
    "name": "ipython",
    "version": 3
   },
   "file_extension": ".py",
   "mimetype": "text/x-python",
   "name": "python",
   "nbconvert_exporter": "python",
   "pygments_lexer": "ipython3",
   "version": "3.12.2"
  }
 },
 "nbformat": 4,
 "nbformat_minor": 2
}
