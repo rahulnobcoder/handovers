{
 "cells": [
  {
   "cell_type": "code",
   "execution_count": 1,
   "id": "a1787cda",
   "metadata": {
    "_cell_guid": "b1076dfc-b9ad-4769-8c92-a6c4dae69d19",
    "_uuid": "8f2839f25d086af736a60e9eeb907d3b93b6e0e5",
    "execution": {
     "iopub.execute_input": "2024-09-10T10:03:45.849556Z",
     "iopub.status.busy": "2024-09-10T10:03:45.848693Z",
     "iopub.status.idle": "2024-09-10T10:03:47.982994Z",
     "shell.execute_reply": "2024-09-10T10:03:47.982045Z"
    },
    "papermill": {
     "duration": 2.142745,
     "end_time": "2024-09-10T10:03:47.985343",
     "exception": false,
     "start_time": "2024-09-10T10:03:45.842598",
     "status": "completed"
    },
    "tags": []
   },
   "outputs": [],
   "source": [
    "import os\n",
    "import pandas as pd \n",
    "import numpy as np \n",
    "from tqdm import tqdm\n",
    "import cv2\n",
    "from collections import Counter\n",
    "from sklearn.metrics import accuracy_score\n",
    "from sklearn.model_selection import train_test_split\n",
    "from sklearn.metrics import f1_score\n",
    "import matplotlib.pyplot as plt"
   ]
  },
  {
   "cell_type": "code",
   "execution_count": 2,
   "id": "5363994c",
   "metadata": {
    "execution": {
     "iopub.execute_input": "2024-09-10T10:03:47.995059Z",
     "iopub.status.busy": "2024-09-10T10:03:47.994678Z",
     "iopub.status.idle": "2024-09-10T10:03:51.439358Z",
     "shell.execute_reply": "2024-09-10T10:03:51.438407Z"
    },
    "papermill": {
     "duration": 3.451578,
     "end_time": "2024-09-10T10:03:51.441457",
     "exception": false,
     "start_time": "2024-09-10T10:03:47.989879",
     "status": "completed"
    },
    "tags": []
   },
   "outputs": [
    {
     "name": "stdout",
     "output_type": "stream",
     "text": [
      "(112198, 768)\n"
     ]
    }
   ],
   "source": [
    "fb_feat=np.load('/kaggle/input/vit-features/dino_feat.npy')\n",
    "print(fb_feat.shape)"
   ]
  },
  {
   "cell_type": "code",
   "execution_count": 3,
   "id": "31f1da4a",
   "metadata": {
    "execution": {
     "iopub.execute_input": "2024-09-10T10:03:51.452033Z",
     "iopub.status.busy": "2024-09-10T10:03:51.451407Z",
     "iopub.status.idle": "2024-09-10T10:03:51.700841Z",
     "shell.execute_reply": "2024-09-10T10:03:51.699882Z"
    },
    "papermill": {
     "duration": 0.256935,
     "end_time": "2024-09-10T10:03:51.702928",
     "exception": false,
     "start_time": "2024-09-10T10:03:51.445993",
     "status": "completed"
    },
    "tags": []
   },
   "outputs": [
    {
     "data": {
      "text/plain": [
       "(112198, 12)"
      ]
     },
     "execution_count": 3,
     "metadata": {},
     "output_type": "execute_result"
    }
   ],
   "source": [
    "df=pd.read_csv('/kaggle/input/clahe-labels/labels_path.csv')\n",
    "labels=df.drop(columns=['paths'])\n",
    "labels[labels>1]=1\n",
    "labels.shape"
   ]
  },
  {
   "cell_type": "code",
   "execution_count": 4,
   "id": "d3f0432e",
   "metadata": {
    "execution": {
     "iopub.execute_input": "2024-09-10T10:03:51.712755Z",
     "iopub.status.busy": "2024-09-10T10:03:51.712392Z",
     "iopub.status.idle": "2024-09-10T10:03:51.940186Z",
     "shell.execute_reply": "2024-09-10T10:03:51.939067Z"
    },
    "papermill": {
     "duration": 0.235152,
     "end_time": "2024-09-10T10:03:51.942411",
     "exception": false,
     "start_time": "2024-09-10T10:03:51.707259",
     "status": "completed"
    },
    "tags": []
   },
   "outputs": [
    {
     "name": "stdout",
     "output_type": "stream",
     "text": [
      "(62830, 768) (15708, 768) (33660, 768) (62830, 12) (15708, 12) (33660, 12)\n"
     ]
    }
   ],
   "source": [
    "from sklearn.model_selection import train_test_split\n",
    "\n",
    "# Initial split for test set\n",
    "X_train_val, X_test, y_train_val, y_test = train_test_split(\n",
    "    fb_feat, labels, test_size=0.3, random_state=42\n",
    ")\n",
    "\n",
    "# Split train_val into train and validation sets\n",
    "X_train, X_val, y_train, y_val = train_test_split(\n",
    "    X_train_val, y_train_val, test_size=0.2, random_state=42\n",
    ")\n",
    "print(X_train.shape,X_val.shape,X_test.shape,y_train.shape,y_val.shape,y_test.shape)"
   ]
  },
  {
   "cell_type": "code",
   "execution_count": 5,
   "id": "2b698ff1",
   "metadata": {
    "execution": {
     "iopub.execute_input": "2024-09-10T10:03:51.952410Z",
     "iopub.status.busy": "2024-09-10T10:03:51.952087Z",
     "iopub.status.idle": "2024-09-10T10:03:52.131843Z",
     "shell.execute_reply": "2024-09-10T10:03:52.131059Z"
    },
    "papermill": {
     "duration": 0.18733,
     "end_time": "2024-09-10T10:03:52.134181",
     "exception": false,
     "start_time": "2024-09-10T10:03:51.946851",
     "status": "completed"
    },
    "tags": []
   },
   "outputs": [],
   "source": [
    "import xgboost as xgb\n",
    "from sklearn.multioutput import MultiOutputClassifier\n",
    "from sklearn.metrics import accuracy_score\n",
    "from sklearn.model_selection import GridSearchCV"
   ]
  },
  {
   "cell_type": "code",
   "execution_count": 6,
   "id": "011b9b88",
   "metadata": {
    "execution": {
     "iopub.execute_input": "2024-09-10T10:03:52.144327Z",
     "iopub.status.busy": "2024-09-10T10:03:52.144006Z",
     "iopub.status.idle": "2024-09-10T10:32:11.511251Z",
     "shell.execute_reply": "2024-09-10T10:32:11.509946Z"
    },
    "papermill": {
     "duration": 1699.374702,
     "end_time": "2024-09-10T10:32:11.513499",
     "exception": false,
     "start_time": "2024-09-10T10:03:52.138797",
     "status": "completed"
    },
    "tags": []
   },
   "outputs": [
    {
     "name": "stdout",
     "output_type": "stream",
     "text": [
      "Fitting 2 folds for each of 32 candidates, totalling 64 fits\n",
      "Best parameters: {'estimator__colsample_bytree': 1.0, 'estimator__learning_rate': 0.2, 'estimator__max_depth': 9, 'estimator__n_estimators': 200, 'estimator__subsample': 0.9}\n"
     ]
    },
    {
     "name": "stderr",
     "output_type": "stream",
     "text": [
      "/opt/conda/lib/python3.10/site-packages/xgboost/core.py:160: UserWarning: [10:32:06] WARNING: /workspace/src/common/error_msg.cc:58: Falling back to prediction using DMatrix due to mismatched devices. This might lead to higher memory usage and slower performance. XGBoost is running on: cuda:0, while the input data is on: cpu.\n",
      "Potential solutions:\n",
      "- Use a data structure that matches the device ordinal in the booster.\n",
      "- Set the device for booster before call to inplace_predict.\n",
      "\n",
      "This warning will only be shown once.\n",
      "\n",
      "  warnings.warn(smsg, UserWarning)\n"
     ]
    },
    {
     "name": "stdout",
     "output_type": "stream",
     "text": [
      "Accuracy on test data: 82.1%\n"
     ]
    }
   ],
   "source": [
    "import xgboost as xgb\n",
    "from sklearn.multioutput import MultiOutputClassifier\n",
    "from sklearn.metrics import accuracy_score\n",
    "from sklearn.model_selection import GridSearchCV\n",
    "import cupy as cp\n",
    "\n",
    "# Define the parameter grid\n",
    "param_grid = {\n",
    "    'estimator__n_estimators': [100, 200],  # Reduced range for n_estimators\n",
    "    'estimator__max_depth': [6, 9],  # Reduced depth values\n",
    "    'estimator__learning_rate': [0.01, 0.2],  # Keep learning rates\n",
    "    'estimator__subsample': [0.9, 1.0],  # Subsample options\n",
    "    'estimator__colsample_bytree': [0.9, 1.0],  # Column sample options\n",
    "}\n",
    "\n",
    "\n",
    "# Create XGBoost classifier with GPU support\n",
    "xgb_estimator = xgb.XGBClassifier(\n",
    "    objective='binary:logistic',\n",
    "    tree_method='hist',\n",
    "    device='cuda'\n",
    ")\n",
    "\n",
    "# Create MultiOutputClassifier instance with XGBoost model inside\n",
    "multilabel_model = MultiOutputClassifier(xgb_estimator)\n",
    "\n",
    "# Set up GridSearchCV\n",
    "grid_search = GridSearchCV(\n",
    "    estimator=multilabel_model,\n",
    "    param_grid=param_grid,\n",
    "    cv=2,  # Number of folds in cross-validation\n",
    "    scoring='accuracy',  # You can use other metrics depending on your problem\n",
    "    verbose=2,  # Increase to see more details\n",
    "    n_jobs=-1  # Use all available CPU cores\n",
    ")\n",
    "\n",
    "# Fit GridSearchCV\n",
    "grid_search.fit(cp.array(X_train), y_train)\n",
    "\n",
    "# Get the best parameters and model\n",
    "best_params = grid_search.best_params_\n",
    "best_model = grid_search.best_estimator_\n",
    "\n",
    "# Evaluate the best model on test data\n",
    "print(f\"Best parameters: {best_params}\")\n",
    "print('Accuracy on test data: {:.1f}%'.format(accuracy_score(y_test, best_model.predict(X_test))*100))"
   ]
  },
  {
   "cell_type": "code",
   "execution_count": 7,
   "id": "c39bf6f8",
   "metadata": {
    "execution": {
     "iopub.execute_input": "2024-09-10T10:32:11.524661Z",
     "iopub.status.busy": "2024-09-10T10:32:11.524350Z",
     "iopub.status.idle": "2024-09-10T10:32:16.352774Z",
     "shell.execute_reply": "2024-09-10T10:32:16.351638Z"
    },
    "papermill": {
     "duration": 4.836727,
     "end_time": "2024-09-10T10:32:16.355113",
     "exception": false,
     "start_time": "2024-09-10T10:32:11.518386",
     "status": "completed"
    },
    "tags": []
   },
   "outputs": [],
   "source": [
    "preds=best_model.predict(X_test)"
   ]
  },
  {
   "cell_type": "code",
   "execution_count": 8,
   "id": "e93d82e3",
   "metadata": {
    "execution": {
     "iopub.execute_input": "2024-09-10T10:32:16.366251Z",
     "iopub.status.busy": "2024-09-10T10:32:16.365710Z",
     "iopub.status.idle": "2024-09-10T10:32:16.370211Z",
     "shell.execute_reply": "2024-09-10T10:32:16.369358Z"
    },
    "papermill": {
     "duration": 0.012043,
     "end_time": "2024-09-10T10:32:16.372208",
     "exception": false,
     "start_time": "2024-09-10T10:32:16.360165",
     "status": "completed"
    },
    "tags": []
   },
   "outputs": [],
   "source": [
    "col=['AU1',\n",
    " 'AU12',\n",
    " 'AU15',\n",
    " 'AU17',\n",
    " 'AU2',\n",
    " 'AU20',\n",
    " 'AU25',\n",
    " 'AU26',\n",
    " 'AU4',\n",
    " 'AU5',\n",
    " 'AU6',\n",
    " 'AU9']"
   ]
  },
  {
   "cell_type": "code",
   "execution_count": 9,
   "id": "a9dc8323",
   "metadata": {
    "execution": {
     "iopub.execute_input": "2024-09-10T10:32:16.382370Z",
     "iopub.status.busy": "2024-09-10T10:32:16.381894Z",
     "iopub.status.idle": "2024-09-10T10:32:16.387586Z",
     "shell.execute_reply": "2024-09-10T10:32:16.386791Z"
    },
    "papermill": {
     "duration": 0.012802,
     "end_time": "2024-09-10T10:32:16.389434",
     "exception": false,
     "start_time": "2024-09-10T10:32:16.376632",
     "status": "completed"
    },
    "tags": []
   },
   "outputs": [
    {
     "data": {
      "text/plain": [
       "(33660, 12)"
      ]
     },
     "execution_count": 9,
     "metadata": {},
     "output_type": "execute_result"
    }
   ],
   "source": [
    "preds.shape"
   ]
  },
  {
   "cell_type": "code",
   "execution_count": 10,
   "id": "5fdc44cf",
   "metadata": {
    "execution": {
     "iopub.execute_input": "2024-09-10T10:32:16.399656Z",
     "iopub.status.busy": "2024-09-10T10:32:16.399380Z",
     "iopub.status.idle": "2024-09-10T10:32:19.244208Z",
     "shell.execute_reply": "2024-09-10T10:32:19.243038Z"
    },
    "papermill": {
     "duration": 2.852675,
     "end_time": "2024-09-10T10:32:19.246736",
     "exception": false,
     "start_time": "2024-09-10T10:32:16.394061",
     "status": "completed"
    },
    "tags": []
   },
   "outputs": [
    {
     "name": "stdout",
     "output_type": "stream",
     "text": [
      "METRICS FOR EACH ACTION UNIT :\n",
      "AU1: ACCURACY = 0.99, F1 SCORE = 0.90\n",
      "CLASSIFICATION REPORT :                precision    recall  f1-score   support\n",
      "\n",
      "           0       0.99      1.00      0.99     31079\n",
      "           1       0.96      0.84      0.90      2581\n",
      "\n",
      "    accuracy                           0.99     33660\n",
      "   macro avg       0.98      0.92      0.94     33660\n",
      "weighted avg       0.98      0.99      0.98     33660\n",
      "\n",
      "AU12: ACCURACY = 0.97, F1 SCORE = 0.95\n",
      "CLASSIFICATION REPORT :                precision    recall  f1-score   support\n",
      "\n",
      "           0       0.98      0.99      0.98     24398\n",
      "           1       0.96      0.94      0.95      9262\n",
      "\n",
      "    accuracy                           0.97     33660\n",
      "   macro avg       0.97      0.96      0.96     33660\n",
      "weighted avg       0.97      0.97      0.97     33660\n",
      "\n",
      "AU15: ACCURACY = 0.99, F1 SCORE = 0.92\n",
      "CLASSIFICATION REPORT :                precision    recall  f1-score   support\n",
      "\n",
      "           0       0.99      1.00      0.99     31338\n",
      "           1       0.96      0.88      0.92      2322\n",
      "\n",
      "    accuracy                           0.99     33660\n",
      "   macro avg       0.98      0.94      0.96     33660\n",
      "weighted avg       0.99      0.99      0.99     33660\n",
      "\n",
      "AU17: ACCURACY = 0.97, F1 SCORE = 0.87\n",
      "CLASSIFICATION REPORT :                precision    recall  f1-score   support\n",
      "\n",
      "           0       0.98      0.99      0.99     29826\n",
      "           1       0.95      0.81      0.87      3834\n",
      "\n",
      "    accuracy                           0.97     33660\n",
      "   macro avg       0.96      0.90      0.93     33660\n",
      "weighted avg       0.97      0.97      0.97     33660\n",
      "\n",
      "AU2: ACCURACY = 0.99, F1 SCORE = 0.92\n",
      "CLASSIFICATION REPORT :                precision    recall  f1-score   support\n",
      "\n",
      "           0       0.99      1.00      0.99     31444\n",
      "           1       0.98      0.87      0.92      2216\n",
      "\n",
      "    accuracy                           0.99     33660\n",
      "   macro avg       0.99      0.94      0.96     33660\n",
      "weighted avg       0.99      0.99      0.99     33660\n",
      "\n",
      "AU20: ACCURACY = 0.99, F1 SCORE = 0.86\n",
      "CLASSIFICATION REPORT :                precision    recall  f1-score   support\n",
      "\n",
      "           0       0.99      1.00      0.99     32285\n",
      "           1       0.96      0.78      0.86      1375\n",
      "\n",
      "    accuracy                           0.99     33660\n",
      "   macro avg       0.97      0.89      0.93     33660\n",
      "weighted avg       0.99      0.99      0.99     33660\n",
      "\n",
      "AU25: ACCURACY = 0.97, F1 SCORE = 0.97\n",
      "CLASSIFICATION REPORT :                precision    recall  f1-score   support\n",
      "\n",
      "           0       0.97      0.98      0.98     19873\n",
      "           1       0.98      0.95      0.97     13787\n",
      "\n",
      "    accuracy                           0.97     33660\n",
      "   macro avg       0.97      0.97      0.97     33660\n",
      "weighted avg       0.97      0.97      0.97     33660\n",
      "\n",
      "AU26: ACCURACY = 0.96, F1 SCORE = 0.92\n",
      "CLASSIFICATION REPORT :                precision    recall  f1-score   support\n",
      "\n",
      "           0       0.97      0.99      0.98     26235\n",
      "           1       0.96      0.88      0.92      7425\n",
      "\n",
      "    accuracy                           0.96     33660\n",
      "   macro avg       0.96      0.94      0.95     33660\n",
      "weighted avg       0.96      0.96      0.96     33660\n",
      "\n",
      "AU4: ACCURACY = 0.98, F1 SCORE = 0.95\n",
      "CLASSIFICATION REPORT :                precision    recall  f1-score   support\n",
      "\n",
      "           0       0.98      0.99      0.99     26204\n",
      "           1       0.97      0.93      0.95      7456\n",
      "\n",
      "    accuracy                           0.98     33660\n",
      "   macro avg       0.98      0.96      0.97     33660\n",
      "weighted avg       0.98      0.98      0.98     33660\n",
      "\n",
      "AU5: ACCURACY = 0.99, F1 SCORE = 0.80\n",
      "CLASSIFICATION REPORT :                precision    recall  f1-score   support\n",
      "\n",
      "           0       0.99      1.00      1.00     32865\n",
      "           1       0.91      0.71      0.80       795\n",
      "\n",
      "    accuracy                           0.99     33660\n",
      "   macro avg       0.95      0.85      0.90     33660\n",
      "weighted avg       0.99      0.99      0.99     33660\n",
      "\n",
      "AU6: ACCURACY = 0.98, F1 SCORE = 0.94\n",
      "CLASSIFICATION REPORT :                precision    recall  f1-score   support\n",
      "\n",
      "           0       0.98      0.99      0.99     27773\n",
      "           1       0.96      0.93      0.94      5887\n",
      "\n",
      "    accuracy                           0.98     33660\n",
      "   macro avg       0.97      0.96      0.97     33660\n",
      "weighted avg       0.98      0.98      0.98     33660\n",
      "\n",
      "AU9: ACCURACY = 0.99, F1 SCORE = 0.94\n",
      "CLASSIFICATION REPORT :                precision    recall  f1-score   support\n",
      "\n",
      "           0       0.99      1.00      1.00     31541\n",
      "           1       0.97      0.92      0.94      2119\n",
      "\n",
      "    accuracy                           0.99     33660\n",
      "   macro avg       0.98      0.96      0.97     33660\n",
      "weighted avg       0.99      0.99      0.99     33660\n",
      "\n"
     ]
    },
    {
     "data": {
      "image/png": "[encoded data removed]",
      "text/plain": [
       "<Figure size 2000x1500 with 12 Axes>"
      ]
     },
     "metadata": {},
     "output_type": "display_data"
    }
   ],
   "source": [
    "import numpy as np\n",
    "import matplotlib.pyplot as plt\n",
    "from sklearn.metrics import confusion_matrix, ConfusionMatrixDisplay, accuracy_score, f1_score,classification_report\n",
    "\n",
    "# Define action units and predictions\n",
    "au = col\n",
    "p = preds\n",
    "test_labels = np.array(y_test)\n",
    "\n",
    "# Create a subplot for confusion matrices\n",
    "fig, axes = plt.subplots(3, 4, figsize=(20, 15))\n",
    "axes = axes.flatten()\n",
    "\n",
    "print(\"METRICS FOR EACH ACTION UNIT :\")\n",
    "\n",
    "for i in range(12):\n",
    "    # Calculate accuracy\n",
    "    accuracy = accuracy_score(test_labels[:, i], p[:, i])\n",
    "    # Calculate F1 score\n",
    "    f1 = f1_score(test_labels[:, i], p[:, i])\n",
    "    \n",
    "    print(f'{au[i]}: ACCURACY = {accuracy:.2f}, F1 SCORE = {f1:.2f}')\n",
    "    print('CLASSIFICATION REPORT : ',classification_report(test_labels[:, i], p[:, i]))\n",
    "    # Plot confusion matrix\n",
    "    cm = confusion_matrix(test_labels[:, i], p[:, i])\n",
    "    disp = ConfusionMatrixDisplay(confusion_matrix=cm, display_labels=[0, 1])\n",
    "    disp.plot(ax=axes[i], colorbar=False)\n",
    "    axes[i].set_title(au[i])\n",
    "\n",
    "# Adjust layout\n",
    "plt.tight_layout()\n",
    "plt.show()\n"
   ]
  },
  {
   "cell_type": "code",
   "execution_count": 11,
   "id": "21562011",
   "metadata": {
    "execution": {
     "iopub.execute_input": "2024-09-10T10:32:19.261078Z",
     "iopub.status.busy": "2024-09-10T10:32:19.260709Z",
     "iopub.status.idle": "2024-09-10T10:32:19.345229Z",
     "shell.execute_reply": "2024-09-10T10:32:19.344466Z"
    },
    "papermill": {
     "duration": 0.093811,
     "end_time": "2024-09-10T10:32:19.347091",
     "exception": false,
     "start_time": "2024-09-10T10:32:19.253280",
     "status": "completed"
    },
    "tags": []
   },
   "outputs": [
    {
     "data": {
      "text/plain": [
       "['xgb_multilabel_model.pkl']"
      ]
     },
     "execution_count": 11,
     "metadata": {},
     "output_type": "execute_result"
    }
   ],
   "source": [
    "import joblib\n",
    "\n",
    "# Save the trained MultiOutputClassifier model\n",
    "joblib.dump(best_model, 'xgb_multilabel_model.pkl')"
   ]
  },
  {
   "cell_type": "code",
   "execution_count": null,
   "id": "19ac2866",
   "metadata": {
    "papermill": {
     "duration": 0.006868,
     "end_time": "2024-09-10T10:32:19.360913",
     "exception": false,
     "start_time": "2024-09-10T10:32:19.354045",
     "status": "completed"
    },
    "tags": []
   },
   "outputs": [],
   "source": []
  }
 ],
 "metadata": {
  "kaggle": {
   "accelerator": "gpu",
   "dataSources": [
    {
     "datasetId": 5672819,
     "sourceId": 9357248,
     "sourceType": "datasetVersion"
    },
    {
     "datasetId": 5672864,
     "sourceId": 9357309,
     "sourceType": "datasetVersion"
    }
   ],
   "dockerImageVersionId": 30762,
   "isGpuEnabled": true,
   "isInternetEnabled": true,
   "language": "python",
   "sourceType": "notebook"
  },
  "kernelspec": {
   "display_name": "Python 3",
   "language": "python",
   "name": "python3"
  },
  "language_info": {
   "codemirror_mode": {
    "name": "ipython",
    "version": 3
   },
   "file_extension": ".py",
   "mimetype": "text/x-python",
   "name": "python",
   "nbconvert_exporter": "python",
   "pygments_lexer": "ipython3",
   "version": "3.10.14"
  },
  "papermill": {
   "default_parameters": {},
   "duration": 1718.969399,
   "end_time": "2024-09-10T10:32:22.086691",
   "environment_variables": {},
   "exception": null,
   "input_path": "__notebook__.ipynb",
   "output_path": "__notebook__.ipynb",
   "parameters": {},
   "start_time": "2024-09-10T10:03:43.117292",
   "version": "2.6.0"
  }
 },
 "nbformat": 4,
 "nbformat_minor": 5
}
