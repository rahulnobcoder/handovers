{
 "cells": [
  {
   "cell_type": "code",
   "execution_count": 1,
   "id": "5da530ef",
   "metadata": {
    "execution": {
     "iopub.execute_input": "2024-07-16T05:13:47.350656Z",
     "iopub.status.busy": "2024-07-16T05:13:47.350182Z",
     "iopub.status.idle": "2024-07-16T05:13:49.288794Z",
     "shell.execute_reply": "2024-07-16T05:13:49.287802Z"
    },
    "papermill": {
     "duration": 1.950709,
     "end_time": "2024-07-16T05:13:49.291224",
     "exception": false,
     "start_time": "2024-07-16T05:13:47.340515",
     "status": "completed"
    },
    "tags": []
   },
   "outputs": [],
   "source": [
    "import os\n",
    "import pandas as pd \n",
    "import numpy as np \n",
    "from tqdm import tqdm\n",
    "import cv2\n",
    "from collections import Counter\n",
    "from sklearn.metrics import accuracy_score"
   ]
  },
  {
   "cell_type": "code",
   "execution_count": 2,
   "id": "d75c2cc5",
   "metadata": {
    "execution": {
     "iopub.execute_input": "2024-07-16T05:13:49.309677Z",
     "iopub.status.busy": "2024-07-16T05:13:49.308825Z",
     "iopub.status.idle": "2024-07-16T05:13:49.313172Z",
     "shell.execute_reply": "2024-07-16T05:13:49.312284Z"
    },
    "papermill": {
     "duration": 0.015707,
     "end_time": "2024-07-16T05:13:49.315350",
     "exception": false,
     "start_time": "2024-07-16T05:13:49.299643",
     "status": "completed"
    },
    "tags": []
   },
   "outputs": [],
   "source": [
    "folder_path = '/kaggle/input/frames-10fps/frames'  # Replace with your folder path\n"
   ]
  },
  {
   "cell_type": "code",
   "execution_count": 3,
   "id": "13e555ed",
   "metadata": {
    "execution": {
     "iopub.execute_input": "2024-07-16T05:13:49.332672Z",
     "iopub.status.busy": "2024-07-16T05:13:49.332406Z",
     "iopub.status.idle": "2024-07-16T05:13:49.354726Z",
     "shell.execute_reply": "2024-07-16T05:13:49.354007Z"
    },
    "papermill": {
     "duration": 0.033136,
     "end_time": "2024-07-16T05:13:49.356662",
     "exception": false,
     "start_time": "2024-07-16T05:13:49.323526",
     "status": "completed"
    },
    "tags": []
   },
   "outputs": [],
   "source": [
    "folders=sorted(os.listdir(folder_path))\n",
    "train_folder=folders[:23]\n",
    "test_folder=folders[23:]"
   ]
  },
  {
   "cell_type": "code",
   "execution_count": 4,
   "id": "1e3feda1",
   "metadata": {
    "execution": {
     "iopub.execute_input": "2024-07-16T05:13:49.373718Z",
     "iopub.status.busy": "2024-07-16T05:13:49.373418Z",
     "iopub.status.idle": "2024-07-16T05:14:00.030948Z",
     "shell.execute_reply": "2024-07-16T05:14:00.030072Z"
    },
    "papermill": {
     "duration": 10.668308,
     "end_time": "2024-07-16T05:14:00.033015",
     "exception": false,
     "start_time": "2024-07-16T05:13:49.364707",
     "status": "completed"
    },
    "tags": []
   },
   "outputs": [
    {
     "name": "stderr",
     "output_type": "stream",
     "text": [
      "100%|██████████| 23/23 [00:10<00:00,  2.17it/s]\n",
      "100%|██████████| 4/4 [00:00<00:00, 102.60it/s]\n"
     ]
    }
   ],
   "source": [
    "train_paths=[]\n",
    "for i in tqdm(range(len(train_folder))):\n",
    "    files=os.listdir(os.path.join(folder_path,folders[i]))\n",
    "    files.sort(key=lambda x: int(x.split('.')[0]))\n",
    "    files=[os.path.join(folder_path,folders[i],files[j]) for j in range(len(files))]\n",
    "    train_paths=train_paths+files\n",
    "test_paths=[]\n",
    "for i in tqdm(range(len(test_folder))):\n",
    "    files=os.listdir(os.path.join(folder_path,folders[i]))\n",
    "    files.sort(key=lambda x: int(x.split('.')[0]))\n",
    "    files=[os.path.join(folder_path,folders[i],files[j]) for j in range(len(files))]\n",
    "    test_paths=test_paths+files"
   ]
  },
  {
   "cell_type": "code",
   "execution_count": 5,
   "id": "35730c8d",
   "metadata": {
    "execution": {
     "iopub.execute_input": "2024-07-16T05:14:00.055115Z",
     "iopub.status.busy": "2024-07-16T05:14:00.054801Z",
     "iopub.status.idle": "2024-07-16T05:14:00.061916Z",
     "shell.execute_reply": "2024-07-16T05:14:00.060972Z"
    },
    "papermill": {
     "duration": 0.02019,
     "end_time": "2024-07-16T05:14:00.063728",
     "exception": false,
     "start_time": "2024-07-16T05:14:00.043538",
     "status": "completed"
    },
    "tags": []
   },
   "outputs": [],
   "source": [
    "def get_csv_id(file_path):\n",
    "\n",
    "    # Extract the filename without extension\n",
    "    filename = os.path.basename(file_path)  # RightVideoSN001.csv\n",
    "\n",
    "    # Extract the identifier ('1' or '11')\n",
    "    if filename.startswith('RightVideoSN'):\n",
    "        identifier = filename[len('RightVideoSN'):]  # Get '001' or '011'\n",
    "        identifier = identifier.lstrip('0').split('.')[0]  # Remove leading zeros\n",
    "\n",
    "    return int(identifier)\n",
    "def get_id(path):\n",
    "\n",
    "    # Split the path by '/'\n",
    "    parts = path.split('/')\n",
    "\n",
    "    # Get the directory name that contains the image\n",
    "    dirname = parts[-2]  # RightVideoSN011\n",
    "\n",
    "    # Extract the relevant parts from the directory name\n",
    "    if dirname.startswith('RightVideoSN'):\n",
    "        identifier = dirname[len('RightVideoSN'):]  # Get SN011 -> 011\n",
    "        identifier = identifier.lstrip('0')  # Remove leading zeros\n",
    "\n",
    "    # Get the image number from the filename\n",
    "    filename = parts[-1]  # 240.jpg\n",
    "    image_number = os.path.splitext(filename)[0]  # 240\n",
    "\n",
    "    return int(identifier),int(image_number)"
   ]
  },
  {
   "cell_type": "code",
   "execution_count": 6,
   "id": "6cf2b18a",
   "metadata": {
    "execution": {
     "iopub.execute_input": "2024-07-16T05:14:00.086219Z",
     "iopub.status.busy": "2024-07-16T05:14:00.085552Z",
     "iopub.status.idle": "2024-07-16T05:14:00.500186Z",
     "shell.execute_reply": "2024-07-16T05:14:00.499388Z"
    },
    "papermill": {
     "duration": 0.428305,
     "end_time": "2024-07-16T05:14:00.502782",
     "exception": false,
     "start_time": "2024-07-16T05:14:00.074477",
     "status": "completed"
    },
    "tags": []
   },
   "outputs": [],
   "source": [
    "folder_path = '/kaggle/input/labels-csv/labels_csv'\n",
    "csv_path=[]\n",
    "for root, dirs, files in os.walk(folder_path):\n",
    "    for file_name in files:\n",
    "        file_path = os.path.join(root, file_name)\n",
    "        csv_path.append(file_path)\n",
    "csv_path=sorted(csv_path)\n",
    "csv={}\n",
    "for file in csv_path:\n",
    "    df=pd.read_csv(file)\n",
    "    ide=get_csv_id(file)\n",
    "    csv[ide]=df"
   ]
  },
  {
   "cell_type": "code",
   "execution_count": 7,
   "id": "f569ddd2",
   "metadata": {
    "execution": {
     "iopub.execute_input": "2024-07-16T05:14:00.526161Z",
     "iopub.status.busy": "2024-07-16T05:14:00.525648Z",
     "iopub.status.idle": "2024-07-16T05:14:00.533403Z",
     "shell.execute_reply": "2024-07-16T05:14:00.532577Z"
    },
    "papermill": {
     "duration": 0.020763,
     "end_time": "2024-07-16T05:14:00.535413",
     "exception": false,
     "start_time": "2024-07-16T05:14:00.514650",
     "status": "completed"
    },
    "tags": []
   },
   "outputs": [
    {
     "data": {
      "text/plain": [
       "Index(['au1', 'au12', 'au15', 'au17', 'au2', 'au20', 'au25', 'au26', 'au4',\n",
       "       'au5', 'au6', 'au9'],\n",
       "      dtype='object')"
      ]
     },
     "execution_count": 7,
     "metadata": {},
     "output_type": "execute_result"
    }
   ],
   "source": [
    "col=csv[1].columns\n",
    "col"
   ]
  },
  {
   "cell_type": "code",
   "execution_count": 8,
   "id": "0a7fbfc5",
   "metadata": {
    "execution": {
     "iopub.execute_input": "2024-07-16T05:14:00.557551Z",
     "iopub.status.busy": "2024-07-16T05:14:00.556930Z",
     "iopub.status.idle": "2024-07-16T05:14:04.493658Z",
     "shell.execute_reply": "2024-07-16T05:14:04.492895Z"
    },
    "papermill": {
     "duration": 3.950302,
     "end_time": "2024-07-16T05:14:04.496097",
     "exception": false,
     "start_time": "2024-07-16T05:14:00.545795",
     "status": "completed"
    },
    "tags": []
   },
   "outputs": [
    {
     "name": "stderr",
     "output_type": "stream",
     "text": [
      "100%|██████████| 55728/55728 [00:03<00:00, 14337.90it/s]\n"
     ]
    }
   ],
   "source": [
    "labels=[]\n",
    "for file in tqdm(train_paths):\n",
    "    ide,image=get_id(file)\n",
    "    try:\n",
    "        label=np.array(csv[ide].iloc[image])\n",
    "        label[label > 0]=1\n",
    "        labels.append(label)\n",
    "    except IndexError as e:\n",
    "        print(f\"IndexError occurred: {ide}\")\n",
    "        print(f\"Check ide={ide} and image={image} against csv indices.\")\n",
    "labels=np.array(labels)"
   ]
  },
  {
   "cell_type": "code",
   "execution_count": 9,
   "id": "1b48e266",
   "metadata": {
    "execution": {
     "iopub.execute_input": "2024-07-16T05:14:04.525181Z",
     "iopub.status.busy": "2024-07-16T05:14:04.524841Z",
     "iopub.status.idle": "2024-07-16T05:14:05.274841Z",
     "shell.execute_reply": "2024-07-16T05:14:05.273908Z"
    },
    "papermill": {
     "duration": 0.767178,
     "end_time": "2024-07-16T05:14:05.277219",
     "exception": false,
     "start_time": "2024-07-16T05:14:04.510041",
     "status": "completed"
    },
    "tags": []
   },
   "outputs": [
    {
     "name": "stderr",
     "output_type": "stream",
     "text": [
      "100%|██████████| 9692/9692 [00:00<00:00, 13206.98it/s]\n"
     ]
    }
   ],
   "source": [
    "test_labels=[]\n",
    "for file in tqdm(test_paths):\n",
    "    ide,image=get_id(file)\n",
    "    try:\n",
    "        label=np.array(csv[ide].iloc[image])\n",
    "        label[label > 0]=1\n",
    "        test_labels.append(label)\n",
    "    except IndexError as e:\n",
    "        print(f\"IndexError occurred: {ide}\")\n",
    "        print(f\"Check ide={ide} and image={image} against csv indices.\")\n",
    "test_labels=np.array(test_labels)"
   ]
  },
  {
   "cell_type": "code",
   "execution_count": 10,
   "id": "3039525a",
   "metadata": {
    "execution": {
     "iopub.execute_input": "2024-07-16T05:14:05.307661Z",
     "iopub.status.busy": "2024-07-16T05:14:05.307368Z",
     "iopub.status.idle": "2024-07-16T05:14:05.500584Z",
     "shell.execute_reply": "2024-07-16T05:14:05.499503Z"
    },
    "papermill": {
     "duration": 0.211193,
     "end_time": "2024-07-16T05:14:05.502886",
     "exception": false,
     "start_time": "2024-07-16T05:14:05.291693",
     "status": "completed"
    },
    "tags": []
   },
   "outputs": [
    {
     "name": "stdout",
     "output_type": "stream",
     "text": [
      "Counter({0: 52661, 1: 3067})\n",
      "Counter({0: 42644, 1: 13084})\n",
      "Counter({0: 52166, 1: 3562})\n",
      "Counter({0: 49785, 1: 5943})\n",
      "Counter({0: 53360, 1: 2368})\n",
      "Counter({0: 53835, 1: 1893})\n",
      "Counter({0: 36680, 1: 19048})\n",
      "Counter({0: 46325, 1: 9403})\n",
      "Counter({0: 45560, 1: 10168})\n",
      "Counter({0: 54530, 1: 1198})\n",
      "Counter({0: 47255, 1: 8473})\n",
      "Counter({0: 52760, 1: 2968})\n"
     ]
    }
   ],
   "source": [
    "for i in range(12):\n",
    "    print(Counter(labels[:,i]))"
   ]
  },
  {
   "cell_type": "code",
   "execution_count": 11,
   "id": "d0332820",
   "metadata": {
    "execution": {
     "iopub.execute_input": "2024-07-16T05:14:05.533104Z",
     "iopub.status.busy": "2024-07-16T05:14:05.532765Z",
     "iopub.status.idle": "2024-07-16T05:14:05.542441Z",
     "shell.execute_reply": "2024-07-16T05:14:05.541261Z"
    },
    "papermill": {
     "duration": 0.026895,
     "end_time": "2024-07-16T05:14:05.544377",
     "exception": false,
     "start_time": "2024-07-16T05:14:05.517482",
     "status": "completed"
    },
    "tags": []
   },
   "outputs": [
    {
     "name": "stdout",
     "output_type": "stream",
     "text": [
      "Indices where all elements in rows are zero: 20986\n",
      "Indices where all elements in rows are all not  zero: 34742\n"
     ]
    }
   ],
   "source": [
    "zero_indices = np.where(~labels.any(axis=1))[0]\n",
    "nz=np.where(labels.any(axis=1))[0]\n",
    "print(\"Indices where all elements in rows are zero:\",len(zero_indices))\n",
    "print(\"Indices where all elements in rows are all not  zero:\",len(nz))"
   ]
  },
  {
   "cell_type": "code",
   "execution_count": 12,
   "id": "f0773a78",
   "metadata": {
    "execution": {
     "iopub.execute_input": "2024-07-16T05:14:05.573873Z",
     "iopub.status.busy": "2024-07-16T05:14:05.573575Z",
     "iopub.status.idle": "2024-07-16T05:14:05.584381Z",
     "shell.execute_reply": "2024-07-16T05:14:05.583649Z"
    },
    "papermill": {
     "duration": 0.027782,
     "end_time": "2024-07-16T05:14:05.586266",
     "exception": false,
     "start_time": "2024-07-16T05:14:05.558484",
     "status": "completed"
    },
    "tags": []
   },
   "outputs": [],
   "source": [
    "random_numbers = np.random.choice(zero_indices, size=4000, replace=False)\n",
    "mask=np.concatenate((random_numbers,nz))\n",
    "mask.sort()"
   ]
  },
  {
   "cell_type": "code",
   "execution_count": 13,
   "id": "11cf96ba",
   "metadata": {
    "execution": {
     "iopub.execute_input": "2024-07-16T05:14:05.615556Z",
     "iopub.status.busy": "2024-07-16T05:14:05.615303Z",
     "iopub.status.idle": "2024-07-16T05:14:05.624075Z",
     "shell.execute_reply": "2024-07-16T05:14:05.623222Z"
    },
    "papermill": {
     "duration": 0.025755,
     "end_time": "2024-07-16T05:14:05.625996",
     "exception": false,
     "start_time": "2024-07-16T05:14:05.600241",
     "status": "completed"
    },
    "tags": []
   },
   "outputs": [
    {
     "data": {
      "text/plain": [
       "(38742, 12)"
      ]
     },
     "execution_count": 13,
     "metadata": {},
     "output_type": "execute_result"
    }
   ],
   "source": [
    "sam_labels=labels[mask]\n",
    "sam_labels.shape"
   ]
  },
  {
   "cell_type": "code",
   "execution_count": 14,
   "id": "32949025",
   "metadata": {
    "execution": {
     "iopub.execute_input": "2024-07-16T05:14:05.655608Z",
     "iopub.status.busy": "2024-07-16T05:14:05.655315Z",
     "iopub.status.idle": "2024-07-16T05:19:10.897933Z",
     "shell.execute_reply": "2024-07-16T05:19:10.896393Z"
    },
    "papermill": {
     "duration": 305.25994,
     "end_time": "2024-07-16T05:19:10.900024",
     "exception": false,
     "start_time": "2024-07-16T05:14:05.640084",
     "status": "completed"
    },
    "tags": []
   },
   "outputs": [
    {
     "name": "stderr",
     "output_type": "stream",
     "text": [
      "100%|██████████| 55728/55728 [05:05<00:00, 182.57it/s]\n"
     ]
    }
   ],
   "source": [
    "frames=[]\n",
    "target_size=(224, 224)\n",
    "for i in tqdm(range(len(train_paths))):\n",
    "    if i in mask:\n",
    "        img=cv2.imread(train_paths[i],0)\n",
    "        resized_img = cv2.resize(img, target_size, interpolation=cv2.INTER_AREA)\n",
    "        rgb_image = cv2.cvtColor(resized_img, cv2.COLOR_GRAY2RGB)\n",
    "        frames.append(rgb_image)"
   ]
  },
  {
   "cell_type": "code",
   "execution_count": 15,
   "id": "b6ba32e7",
   "metadata": {
    "execution": {
     "iopub.execute_input": "2024-07-16T05:19:11.296405Z",
     "iopub.status.busy": "2024-07-16T05:19:11.295742Z",
     "iopub.status.idle": "2024-07-16T05:19:41.708145Z",
     "shell.execute_reply": "2024-07-16T05:19:41.707254Z"
    },
    "papermill": {
     "duration": 30.612788,
     "end_time": "2024-07-16T05:19:41.710415",
     "exception": false,
     "start_time": "2024-07-16T05:19:11.097627",
     "status": "completed"
    },
    "tags": []
   },
   "outputs": [
    {
     "name": "stderr",
     "output_type": "stream",
     "text": [
      "100%|██████████| 9692/9692 [00:30<00:00, 318.77it/s]\n"
     ]
    }
   ],
   "source": [
    "test_frames=[]\n",
    "target_size=(224, 224)\n",
    "for i in tqdm(range(len(test_paths))):\n",
    "    if True:\n",
    "        img=cv2.imread(test_paths[i],0)\n",
    "        resized_img = cv2.resize(img, target_size, interpolation=cv2.INTER_AREA)\n",
    "        rgb_image = cv2.cvtColor(resized_img, cv2.COLOR_GRAY2RGB)\n",
    "        test_frames.append(rgb_image)"
   ]
  },
  {
   "cell_type": "code",
   "execution_count": 16,
   "id": "2cd25c05",
   "metadata": {
    "execution": {
     "iopub.execute_input": "2024-07-16T05:19:42.143834Z",
     "iopub.status.busy": "2024-07-16T05:19:42.143495Z",
     "iopub.status.idle": "2024-07-16T05:19:54.613290Z",
     "shell.execute_reply": "2024-07-16T05:19:54.612298Z"
    },
    "papermill": {
     "duration": 12.691137,
     "end_time": "2024-07-16T05:19:54.615623",
     "exception": false,
     "start_time": "2024-07-16T05:19:41.924486",
     "status": "completed"
    },
    "tags": []
   },
   "outputs": [
    {
     "name": "stderr",
     "output_type": "stream",
     "text": [
      "2024-07-16 05:19:44.041278: E external/local_xla/xla/stream_executor/cuda/cuda_dnn.cc:9261] Unable to register cuDNN factory: Attempting to register factory for plugin cuDNN when one has already been registered\n",
      "2024-07-16 05:19:44.041403: E external/local_xla/xla/stream_executor/cuda/cuda_fft.cc:607] Unable to register cuFFT factory: Attempting to register factory for plugin cuFFT when one has already been registered\n",
      "2024-07-16 05:19:44.179748: E external/local_xla/xla/stream_executor/cuda/cuda_blas.cc:1515] Unable to register cuBLAS factory: Attempting to register factory for plugin cuBLAS when one has already been registered\n"
     ]
    }
   ],
   "source": [
    "from tensorflow.keras.metrics import AUC\n",
    "pr_metric = AUC(curve='PR', num_thresholds=1000)\n",
    "\n",
    "import tensorflow as tf\n",
    "from sklearn.metrics import average_precision_score\n",
    "\n",
    "def sk_pr_auc(y_true, y_pred):\n",
    "    return tf.py_function(average_precision_score, (y_true, y_pred), tf.float64)"
   ]
  },
  {
   "cell_type": "code",
   "execution_count": 17,
   "id": "c9b2f498",
   "metadata": {
    "execution": {
     "iopub.execute_input": "2024-07-16T05:19:55.049289Z",
     "iopub.status.busy": "2024-07-16T05:19:55.048559Z",
     "iopub.status.idle": "2024-07-16T05:19:55.055473Z",
     "shell.execute_reply": "2024-07-16T05:19:55.054612Z"
    },
    "papermill": {
     "duration": 0.224336,
     "end_time": "2024-07-16T05:19:55.057356",
     "exception": false,
     "start_time": "2024-07-16T05:19:54.833020",
     "status": "completed"
    },
    "tags": []
   },
   "outputs": [],
   "source": [
    "def binary_focal_loss(gamma=2.0, alpha=0.25):\n",
    "    def focal_loss(y_true, y_pred):\n",
    "        # Define epsilon to avoid log(0)\n",
    "        epsilon = tf.keras.backend.epsilon()\n",
    "        # Clip predictions to prevent log(0) and log(1 - 0)\n",
    "        y_pred = tf.clip_by_value(y_pred, epsilon, 1.0 - epsilon)\n",
    "        # Compute the focal loss\n",
    "        fl = - alpha * (y_true * (1 - y_pred)**gamma * tf.math.log(y_pred)\n",
    "                       + (1 - y_true) * (y_pred**gamma) * tf.math.log(1 - y_pred))\n",
    "        return tf.reduce_mean(fl, axis=-1)\n",
    "    return focal_loss\n",
    "\n",
    "loss = binary_focal_loss(gamma=3.0, alpha=0.3)"
   ]
  },
  {
   "cell_type": "code",
   "execution_count": 18,
   "id": "7a15310d",
   "metadata": {
    "execution": {
     "iopub.execute_input": "2024-07-16T05:19:55.487318Z",
     "iopub.status.busy": "2024-07-16T05:19:55.486598Z",
     "iopub.status.idle": "2024-07-16T05:20:09.803677Z",
     "shell.execute_reply": "2024-07-16T05:20:09.802763Z"
    },
    "papermill": {
     "duration": 14.535393,
     "end_time": "2024-07-16T05:20:09.805720",
     "exception": false,
     "start_time": "2024-07-16T05:19:55.270327",
     "status": "completed"
    },
    "tags": []
   },
   "outputs": [
    {
     "data": {
      "application/vnd.jupyter.widget-view+json": {
       "model_id": "18158c13ab1c458781cc2de79f78e081",
       "version_major": 2,
       "version_minor": 0
      },
      "text/plain": [
       "config.json:   0%|          | 0.00/69.7k [00:00<?, ?B/s]"
      ]
     },
     "metadata": {},
     "output_type": "display_data"
    },
    {
     "data": {
      "application/vnd.jupyter.widget-view+json": {
       "model_id": "773d504c153d48849a0b862f2de91877",
       "version_major": 2,
       "version_minor": 0
      },
      "text/plain": [
       "model.safetensors:   0%|          | 0.00/346M [00:00<?, ?B/s]"
      ]
     },
     "metadata": {},
     "output_type": "display_data"
    },
    {
     "name": "stderr",
     "output_type": "stream",
     "text": [
      "Some weights of the PyTorch model were not used when initializing the TF 2.0 model TFViTModel: ['classifier.weight', 'classifier.bias']\n",
      "- This IS expected if you are initializing TFViTModel from a PyTorch model trained on another task or with another architecture (e.g. initializing a TFBertForSequenceClassification model from a BertForPreTraining model).\n",
      "- This IS NOT expected if you are initializing TFViTModel from a PyTorch model that you expect to be exactly identical (e.g. initializing a TFBertForSequenceClassification model from a BertForSequenceClassification model).\n",
      "Some weights or buffers of the TF 2.0 model TFViTModel were not initialized from the PyTorch model and are newly initialized: ['vit.pooler.dense.weight', 'vit.pooler.dense.bias']\n",
      "You should probably TRAIN this model on a down-stream task to be able to use it for predictions and inference.\n"
     ]
    },
    {
     "data": {
      "application/vnd.jupyter.widget-view+json": {
       "model_id": "1efe24dc2819496abbee8abd31b7cc77",
       "version_major": 2,
       "version_minor": 0
      },
      "text/plain": [
       "preprocessor_config.json:   0%|          | 0.00/160 [00:00<?, ?B/s]"
      ]
     },
     "metadata": {},
     "output_type": "display_data"
    },
    {
     "name": "stderr",
     "output_type": "stream",
     "text": [
      "/opt/conda/lib/python3.10/site-packages/transformers/models/vit/feature_extraction_vit.py:28: FutureWarning: The class ViTFeatureExtractor is deprecated and will be removed in version 5 of Transformers. Please use ViTImageProcessor instead.\n",
      "  warnings.warn(\n"
     ]
    },
    {
     "data": {
      "text/html": [
       "<pre style=\"white-space:pre;overflow-x:auto;line-height:normal;font-family:Menlo,'DejaVu Sans Mono',consolas,'Courier New',monospace\"><span style=\"font-weight: bold\">Model: \"functional\"</span>\n",
       "</pre>\n"
      ],
      "text/plain": [
       "\u001b[1mModel: \"functional\"\u001b[0m\n"
      ]
     },
     "metadata": {},
     "output_type": "display_data"
    },
    {
     "data": {
      "text/html": [
       "<pre style=\"white-space:pre;overflow-x:auto;line-height:normal;font-family:Menlo,'DejaVu Sans Mono',consolas,'Courier New',monospace\">┏━━━━━━━━━━━━━━━━━━━━━━━━━━━━━━━━━┳━━━━━━━━━━━━━━━━━━━━━━━━┳━━━━━━━━━━━━━━━┓\n",
       "┃<span style=\"font-weight: bold\"> Layer (type)                    </span>┃<span style=\"font-weight: bold\"> Output Shape           </span>┃<span style=\"font-weight: bold\">       Param # </span>┃\n",
       "┡━━━━━━━━━━━━━━━━━━━━━━━━━━━━━━━━━╇━━━━━━━━━━━━━━━━━━━━━━━━╇━━━━━━━━━━━━━━━┩\n",
       "│ input_layer (<span style=\"color: #0087ff; text-decoration-color: #0087ff\">InputLayer</span>)        │ (<span style=\"color: #00d7ff; text-decoration-color: #00d7ff\">None</span>, <span style=\"color: #00af00; text-decoration-color: #00af00\">224</span>, <span style=\"color: #00af00; text-decoration-color: #00af00\">224</span>, <span style=\"color: #00af00; text-decoration-color: #00af00\">3</span>)    │             <span style=\"color: #00af00; text-decoration-color: #00af00\">0</span> │\n",
       "├─────────────────────────────────┼────────────────────────┼───────────────┤\n",
       "│ vi_t_feature_extractor_layer    │ (<span style=\"color: #00d7ff; text-decoration-color: #00d7ff\">None</span>, <span style=\"color: #00af00; text-decoration-color: #00af00\">768</span>)            │             <span style=\"color: #00af00; text-decoration-color: #00af00\">0</span> │\n",
       "│ (<span style=\"color: #0087ff; text-decoration-color: #0087ff\">ViTFeatureExtractorLayer</span>)      │                        │               │\n",
       "├─────────────────────────────────┼────────────────────────┼───────────────┤\n",
       "│ dense (<span style=\"color: #0087ff; text-decoration-color: #0087ff\">Dense</span>)                   │ (<span style=\"color: #00d7ff; text-decoration-color: #00d7ff\">None</span>, <span style=\"color: #00af00; text-decoration-color: #00af00\">1024</span>)           │       <span style=\"color: #00af00; text-decoration-color: #00af00\">787,456</span> │\n",
       "├─────────────────────────────────┼────────────────────────┼───────────────┤\n",
       "│ batch_normalization             │ (<span style=\"color: #00d7ff; text-decoration-color: #00d7ff\">None</span>, <span style=\"color: #00af00; text-decoration-color: #00af00\">1024</span>)           │         <span style=\"color: #00af00; text-decoration-color: #00af00\">4,096</span> │\n",
       "│ (<span style=\"color: #0087ff; text-decoration-color: #0087ff\">BatchNormalization</span>)            │                        │               │\n",
       "├─────────────────────────────────┼────────────────────────┼───────────────┤\n",
       "│ dropout (<span style=\"color: #0087ff; text-decoration-color: #0087ff\">Dropout</span>)               │ (<span style=\"color: #00d7ff; text-decoration-color: #00d7ff\">None</span>, <span style=\"color: #00af00; text-decoration-color: #00af00\">1024</span>)           │             <span style=\"color: #00af00; text-decoration-color: #00af00\">0</span> │\n",
       "├─────────────────────────────────┼────────────────────────┼───────────────┤\n",
       "│ dense_1 (<span style=\"color: #0087ff; text-decoration-color: #0087ff\">Dense</span>)                 │ (<span style=\"color: #00d7ff; text-decoration-color: #00d7ff\">None</span>, <span style=\"color: #00af00; text-decoration-color: #00af00\">512</span>)            │       <span style=\"color: #00af00; text-decoration-color: #00af00\">524,800</span> │\n",
       "├─────────────────────────────────┼────────────────────────┼───────────────┤\n",
       "│ batch_normalization_1           │ (<span style=\"color: #00d7ff; text-decoration-color: #00d7ff\">None</span>, <span style=\"color: #00af00; text-decoration-color: #00af00\">512</span>)            │         <span style=\"color: #00af00; text-decoration-color: #00af00\">2,048</span> │\n",
       "│ (<span style=\"color: #0087ff; text-decoration-color: #0087ff\">BatchNormalization</span>)            │                        │               │\n",
       "├─────────────────────────────────┼────────────────────────┼───────────────┤\n",
       "│ dropout_1 (<span style=\"color: #0087ff; text-decoration-color: #0087ff\">Dropout</span>)             │ (<span style=\"color: #00d7ff; text-decoration-color: #00d7ff\">None</span>, <span style=\"color: #00af00; text-decoration-color: #00af00\">512</span>)            │             <span style=\"color: #00af00; text-decoration-color: #00af00\">0</span> │\n",
       "├─────────────────────────────────┼────────────────────────┼───────────────┤\n",
       "│ dense_2 (<span style=\"color: #0087ff; text-decoration-color: #0087ff\">Dense</span>)                 │ (<span style=\"color: #00d7ff; text-decoration-color: #00d7ff\">None</span>, <span style=\"color: #00af00; text-decoration-color: #00af00\">256</span>)            │       <span style=\"color: #00af00; text-decoration-color: #00af00\">131,328</span> │\n",
       "├─────────────────────────────────┼────────────────────────┼───────────────┤\n",
       "│ batch_normalization_2           │ (<span style=\"color: #00d7ff; text-decoration-color: #00d7ff\">None</span>, <span style=\"color: #00af00; text-decoration-color: #00af00\">256</span>)            │         <span style=\"color: #00af00; text-decoration-color: #00af00\">1,024</span> │\n",
       "│ (<span style=\"color: #0087ff; text-decoration-color: #0087ff\">BatchNormalization</span>)            │                        │               │\n",
       "├─────────────────────────────────┼────────────────────────┼───────────────┤\n",
       "│ dropout_2 (<span style=\"color: #0087ff; text-decoration-color: #0087ff\">Dropout</span>)             │ (<span style=\"color: #00d7ff; text-decoration-color: #00d7ff\">None</span>, <span style=\"color: #00af00; text-decoration-color: #00af00\">256</span>)            │             <span style=\"color: #00af00; text-decoration-color: #00af00\">0</span> │\n",
       "├─────────────────────────────────┼────────────────────────┼───────────────┤\n",
       "│ dense_3 (<span style=\"color: #0087ff; text-decoration-color: #0087ff\">Dense</span>)                 │ (<span style=\"color: #00d7ff; text-decoration-color: #00d7ff\">None</span>, <span style=\"color: #00af00; text-decoration-color: #00af00\">128</span>)            │        <span style=\"color: #00af00; text-decoration-color: #00af00\">32,896</span> │\n",
       "├─────────────────────────────────┼────────────────────────┼───────────────┤\n",
       "│ batch_normalization_3           │ (<span style=\"color: #00d7ff; text-decoration-color: #00d7ff\">None</span>, <span style=\"color: #00af00; text-decoration-color: #00af00\">128</span>)            │           <span style=\"color: #00af00; text-decoration-color: #00af00\">512</span> │\n",
       "│ (<span style=\"color: #0087ff; text-decoration-color: #0087ff\">BatchNormalization</span>)            │                        │               │\n",
       "├─────────────────────────────────┼────────────────────────┼───────────────┤\n",
       "│ dropout_3 (<span style=\"color: #0087ff; text-decoration-color: #0087ff\">Dropout</span>)             │ (<span style=\"color: #00d7ff; text-decoration-color: #00d7ff\">None</span>, <span style=\"color: #00af00; text-decoration-color: #00af00\">128</span>)            │             <span style=\"color: #00af00; text-decoration-color: #00af00\">0</span> │\n",
       "├─────────────────────────────────┼────────────────────────┼───────────────┤\n",
       "│ dense_4 (<span style=\"color: #0087ff; text-decoration-color: #0087ff\">Dense</span>)                 │ (<span style=\"color: #00d7ff; text-decoration-color: #00d7ff\">None</span>, <span style=\"color: #00af00; text-decoration-color: #00af00\">64</span>)             │         <span style=\"color: #00af00; text-decoration-color: #00af00\">8,256</span> │\n",
       "├─────────────────────────────────┼────────────────────────┼───────────────┤\n",
       "│ batch_normalization_4           │ (<span style=\"color: #00d7ff; text-decoration-color: #00d7ff\">None</span>, <span style=\"color: #00af00; text-decoration-color: #00af00\">64</span>)             │           <span style=\"color: #00af00; text-decoration-color: #00af00\">256</span> │\n",
       "│ (<span style=\"color: #0087ff; text-decoration-color: #0087ff\">BatchNormalization</span>)            │                        │               │\n",
       "├─────────────────────────────────┼────────────────────────┼───────────────┤\n",
       "│ dropout_4 (<span style=\"color: #0087ff; text-decoration-color: #0087ff\">Dropout</span>)             │ (<span style=\"color: #00d7ff; text-decoration-color: #00d7ff\">None</span>, <span style=\"color: #00af00; text-decoration-color: #00af00\">64</span>)             │             <span style=\"color: #00af00; text-decoration-color: #00af00\">0</span> │\n",
       "├─────────────────────────────────┼────────────────────────┼───────────────┤\n",
       "│ dense_5 (<span style=\"color: #0087ff; text-decoration-color: #0087ff\">Dense</span>)                 │ (<span style=\"color: #00d7ff; text-decoration-color: #00d7ff\">None</span>, <span style=\"color: #00af00; text-decoration-color: #00af00\">12</span>)             │           <span style=\"color: #00af00; text-decoration-color: #00af00\">780</span> │\n",
       "└─────────────────────────────────┴────────────────────────┴───────────────┘\n",
       "</pre>\n"
      ],
      "text/plain": [
       "┏━━━━━━━━━━━━━━━━━━━━━━━━━━━━━━━━━┳━━━━━━━━━━━━━━━━━━━━━━━━┳━━━━━━━━━━━━━━━┓\n",
       "┃\u001b[1m \u001b[0m\u001b[1mLayer (type)                   \u001b[0m\u001b[1m \u001b[0m┃\u001b[1m \u001b[0m\u001b[1mOutput Shape          \u001b[0m\u001b[1m \u001b[0m┃\u001b[1m \u001b[0m\u001b[1m      Param #\u001b[0m\u001b[1m \u001b[0m┃\n",
       "┡━━━━━━━━━━━━━━━━━━━━━━━━━━━━━━━━━╇━━━━━━━━━━━━━━━━━━━━━━━━╇━━━━━━━━━━━━━━━┩\n",
       "│ input_layer (\u001b[38;5;33mInputLayer\u001b[0m)        │ (\u001b[38;5;45mNone\u001b[0m, \u001b[38;5;34m224\u001b[0m, \u001b[38;5;34m224\u001b[0m, \u001b[38;5;34m3\u001b[0m)    │             \u001b[38;5;34m0\u001b[0m │\n",
       "├─────────────────────────────────┼────────────────────────┼───────────────┤\n",
       "│ vi_t_feature_extractor_layer    │ (\u001b[38;5;45mNone\u001b[0m, \u001b[38;5;34m768\u001b[0m)            │             \u001b[38;5;34m0\u001b[0m │\n",
       "│ (\u001b[38;5;33mViTFeatureExtractorLayer\u001b[0m)      │                        │               │\n",
       "├─────────────────────────────────┼────────────────────────┼───────────────┤\n",
       "│ dense (\u001b[38;5;33mDense\u001b[0m)                   │ (\u001b[38;5;45mNone\u001b[0m, \u001b[38;5;34m1024\u001b[0m)           │       \u001b[38;5;34m787,456\u001b[0m │\n",
       "├─────────────────────────────────┼────────────────────────┼───────────────┤\n",
       "│ batch_normalization             │ (\u001b[38;5;45mNone\u001b[0m, \u001b[38;5;34m1024\u001b[0m)           │         \u001b[38;5;34m4,096\u001b[0m │\n",
       "│ (\u001b[38;5;33mBatchNormalization\u001b[0m)            │                        │               │\n",
       "├─────────────────────────────────┼────────────────────────┼───────────────┤\n",
       "│ dropout (\u001b[38;5;33mDropout\u001b[0m)               │ (\u001b[38;5;45mNone\u001b[0m, \u001b[38;5;34m1024\u001b[0m)           │             \u001b[38;5;34m0\u001b[0m │\n",
       "├─────────────────────────────────┼────────────────────────┼───────────────┤\n",
       "│ dense_1 (\u001b[38;5;33mDense\u001b[0m)                 │ (\u001b[38;5;45mNone\u001b[0m, \u001b[38;5;34m512\u001b[0m)            │       \u001b[38;5;34m524,800\u001b[0m │\n",
       "├─────────────────────────────────┼────────────────────────┼───────────────┤\n",
       "│ batch_normalization_1           │ (\u001b[38;5;45mNone\u001b[0m, \u001b[38;5;34m512\u001b[0m)            │         \u001b[38;5;34m2,048\u001b[0m │\n",
       "│ (\u001b[38;5;33mBatchNormalization\u001b[0m)            │                        │               │\n",
       "├─────────────────────────────────┼────────────────────────┼───────────────┤\n",
       "│ dropout_1 (\u001b[38;5;33mDropout\u001b[0m)             │ (\u001b[38;5;45mNone\u001b[0m, \u001b[38;5;34m512\u001b[0m)            │             \u001b[38;5;34m0\u001b[0m │\n",
       "├─────────────────────────────────┼────────────────────────┼───────────────┤\n",
       "│ dense_2 (\u001b[38;5;33mDense\u001b[0m)                 │ (\u001b[38;5;45mNone\u001b[0m, \u001b[38;5;34m256\u001b[0m)            │       \u001b[38;5;34m131,328\u001b[0m │\n",
       "├─────────────────────────────────┼────────────────────────┼───────────────┤\n",
       "│ batch_normalization_2           │ (\u001b[38;5;45mNone\u001b[0m, \u001b[38;5;34m256\u001b[0m)            │         \u001b[38;5;34m1,024\u001b[0m │\n",
       "│ (\u001b[38;5;33mBatchNormalization\u001b[0m)            │                        │               │\n",
       "├─────────────────────────────────┼────────────────────────┼───────────────┤\n",
       "│ dropout_2 (\u001b[38;5;33mDropout\u001b[0m)             │ (\u001b[38;5;45mNone\u001b[0m, \u001b[38;5;34m256\u001b[0m)            │             \u001b[38;5;34m0\u001b[0m │\n",
       "├─────────────────────────────────┼────────────────────────┼───────────────┤\n",
       "│ dense_3 (\u001b[38;5;33mDense\u001b[0m)                 │ (\u001b[38;5;45mNone\u001b[0m, \u001b[38;5;34m128\u001b[0m)            │        \u001b[38;5;34m32,896\u001b[0m │\n",
       "├─────────────────────────────────┼────────────────────────┼───────────────┤\n",
       "│ batch_normalization_3           │ (\u001b[38;5;45mNone\u001b[0m, \u001b[38;5;34m128\u001b[0m)            │           \u001b[38;5;34m512\u001b[0m │\n",
       "│ (\u001b[38;5;33mBatchNormalization\u001b[0m)            │                        │               │\n",
       "├─────────────────────────────────┼────────────────────────┼───────────────┤\n",
       "│ dropout_3 (\u001b[38;5;33mDropout\u001b[0m)             │ (\u001b[38;5;45mNone\u001b[0m, \u001b[38;5;34m128\u001b[0m)            │             \u001b[38;5;34m0\u001b[0m │\n",
       "├─────────────────────────────────┼────────────────────────┼───────────────┤\n",
       "│ dense_4 (\u001b[38;5;33mDense\u001b[0m)                 │ (\u001b[38;5;45mNone\u001b[0m, \u001b[38;5;34m64\u001b[0m)             │         \u001b[38;5;34m8,256\u001b[0m │\n",
       "├─────────────────────────────────┼────────────────────────┼───────────────┤\n",
       "│ batch_normalization_4           │ (\u001b[38;5;45mNone\u001b[0m, \u001b[38;5;34m64\u001b[0m)             │           \u001b[38;5;34m256\u001b[0m │\n",
       "│ (\u001b[38;5;33mBatchNormalization\u001b[0m)            │                        │               │\n",
       "├─────────────────────────────────┼────────────────────────┼───────────────┤\n",
       "│ dropout_4 (\u001b[38;5;33mDropout\u001b[0m)             │ (\u001b[38;5;45mNone\u001b[0m, \u001b[38;5;34m64\u001b[0m)             │             \u001b[38;5;34m0\u001b[0m │\n",
       "├─────────────────────────────────┼────────────────────────┼───────────────┤\n",
       "│ dense_5 (\u001b[38;5;33mDense\u001b[0m)                 │ (\u001b[38;5;45mNone\u001b[0m, \u001b[38;5;34m12\u001b[0m)             │           \u001b[38;5;34m780\u001b[0m │\n",
       "└─────────────────────────────────┴────────────────────────┴───────────────┘\n"
      ]
     },
     "metadata": {},
     "output_type": "display_data"
    },
    {
     "data": {
      "text/html": [
       "<pre style=\"white-space:pre;overflow-x:auto;line-height:normal;font-family:Menlo,'DejaVu Sans Mono',consolas,'Courier New',monospace\"><span style=\"font-weight: bold\"> Total params: </span><span style=\"color: #00af00; text-decoration-color: #00af00\">1,493,452</span> (5.70 MB)\n",
       "</pre>\n"
      ],
      "text/plain": [
       "\u001b[1m Total params: \u001b[0m\u001b[38;5;34m1,493,452\u001b[0m (5.70 MB)\n"
      ]
     },
     "metadata": {},
     "output_type": "display_data"
    },
    {
     "data": {
      "text/html": [
       "<pre style=\"white-space:pre;overflow-x:auto;line-height:normal;font-family:Menlo,'DejaVu Sans Mono',consolas,'Courier New',monospace\"><span style=\"font-weight: bold\"> Trainable params: </span><span style=\"color: #00af00; text-decoration-color: #00af00\">1,489,484</span> (5.68 MB)\n",
       "</pre>\n"
      ],
      "text/plain": [
       "\u001b[1m Trainable params: \u001b[0m\u001b[38;5;34m1,489,484\u001b[0m (5.68 MB)\n"
      ]
     },
     "metadata": {},
     "output_type": "display_data"
    },
    {
     "data": {
      "text/html": [
       "<pre style=\"white-space:pre;overflow-x:auto;line-height:normal;font-family:Menlo,'DejaVu Sans Mono',consolas,'Courier New',monospace\"><span style=\"font-weight: bold\"> Non-trainable params: </span><span style=\"color: #00af00; text-decoration-color: #00af00\">3,968</span> (15.50 KB)\n",
       "</pre>\n"
      ],
      "text/plain": [
       "\u001b[1m Non-trainable params: \u001b[0m\u001b[38;5;34m3,968\u001b[0m (15.50 KB)\n"
      ]
     },
     "metadata": {},
     "output_type": "display_data"
    }
   ],
   "source": [
    "import tensorflow as tf\n",
    "from tensorflow.keras.layers import Input, Dense, BatchNormalization, Dropout\n",
    "from tensorflow.keras.models import Model\n",
    "from transformers import TFViTModel, ViTFeatureExtractor\n",
    "\n",
    "# Custom Keras layer for ViT\n",
    "class ViTFeatureExtractorLayer(tf.keras.layers.Layer):\n",
    "    def __init__(self, model_name='google/vit-base-patch16-224', **kwargs):\n",
    "        super(ViTFeatureExtractorLayer, self).__init__(**kwargs)\n",
    "        self.vit = TFViTModel.from_pretrained(model_name)\n",
    "        self.feature_extractor = ViTFeatureExtractor.from_pretrained(model_name)\n",
    "    \n",
    "    def call(self, inputs):\n",
    "        # Normalize the inputs to the range [0, 1] expected by the ViT\n",
    "        inputs = tf.cast(inputs, tf.float32) / 255.0\n",
    "        # Resize and preprocess the image using TensorFlow operations\n",
    "        inputs = tf.image.resize(inputs, (224, 224))\n",
    "        inputs = tf.transpose(inputs, [0, 3, 1, 2])  # ViT expects channels-first format\n",
    "        outputs = self.vit(inputs).last_hidden_state\n",
    "        # Global average pooling on the output features\n",
    "        outputs = tf.reduce_mean(outputs, axis=1)\n",
    "        return outputs\n",
    "\n",
    "    def compute_output_shape(self, input_shape):\n",
    "        return (input_shape[0], 768)  # 768 is the hidden size of the ViT base model\n",
    "\n",
    "# Define the model architecture\n",
    "inputs = Input(shape=(224, 224, 3))\n",
    "x = ViTFeatureExtractorLayer()(inputs)\n",
    "\n",
    "# Add custom dense network on top of ViT features\n",
    "x = Dense(1024, activation='relu')(x)\n",
    "x = BatchNormalization()(x)\n",
    "x = Dropout(0.1)(x)\n",
    "\n",
    "# Second dense layer\n",
    "x = Dense(512, activation='relu')(x)\n",
    "x = BatchNormalization()(x)\n",
    "x = Dropout(0.1)(x)\n",
    "\n",
    "# Third dense layer\n",
    "x = Dense(256, activation='relu')(x)\n",
    "x = BatchNormalization()(x)\n",
    "x = Dropout(0.1)(x)\n",
    "\n",
    "# Fourth dense layer\n",
    "x = Dense(128, activation='relu')(x)\n",
    "x = BatchNormalization()(x)\n",
    "x = Dropout(0.1)(x)\n",
    "\n",
    "# Fifth dense layer\n",
    "x = Dense(64, activation='relu')(x)\n",
    "x = BatchNormalization()(x)\n",
    "x = Dropout(0.1)(x)\n",
    "\n",
    "# Output layer\n",
    "outputs = Dense(12, activation='sigmoid')(x)  # 12 output labels for multi-label classification\n",
    "\n",
    "# Create the model\n",
    "model = Model(inputs, outputs)\n",
    "\n",
    "# Compile the model\n",
    "# loss = tf.keras.losses.BinaryCrossentropy(from_logits=False)\n",
    "model.compile(optimizer='adam', loss=loss, metrics=['accuracy',pr_metric])\n",
    "\n",
    "# Model summary\n",
    "model.summary()"
   ]
  },
  {
   "cell_type": "code",
   "execution_count": 19,
   "id": "9497f353",
   "metadata": {
    "execution": {
     "iopub.execute_input": "2024-07-16T05:20:10.287710Z",
     "iopub.status.busy": "2024-07-16T05:20:10.286824Z",
     "iopub.status.idle": "2024-07-16T13:12:49.010226Z",
     "shell.execute_reply": "2024-07-16T13:12:49.009130Z"
    },
    "papermill": {
     "duration": 28369.137843,
     "end_time": "2024-07-16T13:12:59.204700",
     "exception": false,
     "start_time": "2024-07-16T05:20:10.066857",
     "status": "completed"
    },
    "tags": []
   },
   "outputs": [
    {
     "name": "stdout",
     "output_type": "stream",
     "text": [
      "Epoch 1/100\n"
     ]
    },
    {
     "name": "stderr",
     "output_type": "stream",
     "text": [
      "WARNING: All log messages before absl::InitializeLog() is called are written to STDERR\n",
      "I0000 00:00:1721107256.906549      68 device_compiler.h:186] Compiled cluster using XLA!  This line is logged at most once for the lifetime of the process.\n",
      "W0000 00:00:1721107256.953786      68 graph_launch.cc:671] Fallback to op-by-op mode because memset node breaks graph update\n"
     ]
    },
    {
     "name": "stdout",
     "output_type": "stream",
     "text": [
      "\u001b[1m1211/1211\u001b[0m \u001b[32m━━━━━━━━━━━━━━━━━━━━\u001b[0m\u001b[37m\u001b[0m \u001b[1m0s\u001b[0m 188ms/step - accuracy: 0.2826 - auc: 0.4903 - loss: 0.0238"
     ]
    },
    {
     "name": "stderr",
     "output_type": "stream",
     "text": [
      "W0000 00:00:1721107484.894297      66 graph_launch.cc:671] Fallback to op-by-op mode because memset node breaks graph update\n",
      "W0000 00:00:1721107496.825009      67 graph_launch.cc:671] Fallback to op-by-op mode because memset node breaks graph update\n"
     ]
    },
    {
     "name": "stdout",
     "output_type": "stream",
     "text": [
      "\u001b[1m1211/1211\u001b[0m \u001b[32m━━━━━━━━━━━━━━━━━━━━\u001b[0m\u001b[37m\u001b[0m \u001b[1m327s\u001b[0m 244ms/step - accuracy: 0.2826 - auc: 0.4904 - loss: 0.0237 - val_accuracy: 0.2326 - val_auc: 0.8537 - val_loss: 0.0070\n",
      "Epoch 2/100\n"
     ]
    },
    {
     "name": "stderr",
     "output_type": "stream",
     "text": [
      "W0000 00:00:1721107552.759291      67 graph_launch.cc:671] Fallback to op-by-op mode because memset node breaks graph update\n"
     ]
    },
    {
     "name": "stdout",
     "output_type": "stream",
     "text": [
      "\u001b[1m1211/1211\u001b[0m \u001b[32m━━━━━━━━━━━━━━━━━━━━\u001b[0m\u001b[37m\u001b[0m \u001b[1m276s\u001b[0m 220ms/step - accuracy: 0.3935 - auc: 0.8343 - loss: 0.0088 - val_accuracy: 0.2658 - val_auc: 0.8866 - val_loss: 0.0064\n",
      "Epoch 3/100\n",
      "\u001b[1m1211/1211\u001b[0m \u001b[32m━━━━━━━━━━━━━━━━━━━━\u001b[0m\u001b[37m\u001b[0m \u001b[1m267s\u001b[0m 220ms/step - accuracy: 0.4238 - auc: 0.8750 - loss: 0.0075 - val_accuracy: 0.2532 - val_auc: 0.8826 - val_loss: 0.0065\n",
      "Epoch 4/100\n",
      "\u001b[1m1211/1211\u001b[0m \u001b[32m━━━━━━━━━━━━━━━━━━━━\u001b[0m\u001b[37m\u001b[0m \u001b[1m322s\u001b[0m 220ms/step - accuracy: 0.4350 - auc: 0.8973 - loss: 0.0067 - val_accuracy: 0.2602 - val_auc: 0.9274 - val_loss: 0.0049\n",
      "Epoch 5/100\n",
      "\u001b[1m1211/1211\u001b[0m \u001b[32m━━━━━━━━━━━━━━━━━━━━\u001b[0m\u001b[37m\u001b[0m \u001b[1m267s\u001b[0m 220ms/step - accuracy: 0.4297 - auc: 0.9092 - loss: 0.0063 - val_accuracy: 0.2964 - val_auc: 0.9448 - val_loss: 0.0045\n",
      "Epoch 6/100\n",
      "\u001b[1m1211/1211\u001b[0m \u001b[32m━━━━━━━━━━━━━━━━━━━━\u001b[0m\u001b[37m\u001b[0m \u001b[1m267s\u001b[0m 220ms/step - accuracy: 0.4433 - auc: 0.9194 - loss: 0.0059 - val_accuracy: 0.2601 - val_auc: 0.9380 - val_loss: 0.0045\n",
      "Epoch 7/100\n",
      "\u001b[1m1211/1211\u001b[0m \u001b[32m━━━━━━━━━━━━━━━━━━━━\u001b[0m\u001b[37m\u001b[0m \u001b[1m267s\u001b[0m 220ms/step - accuracy: 0.4500 - auc: 0.9262 - loss: 0.0057 - val_accuracy: 0.2893 - val_auc: 0.9542 - val_loss: 0.0038\n",
      "Epoch 8/100\n",
      "\u001b[1m1211/1211\u001b[0m \u001b[32m━━━━━━━━━━━━━━━━━━━━\u001b[0m\u001b[37m\u001b[0m \u001b[1m267s\u001b[0m 220ms/step - accuracy: 0.4600 - auc: 0.9334 - loss: 0.0053 - val_accuracy: 0.2839 - val_auc: 0.9401 - val_loss: 0.0046\n",
      "Epoch 9/100\n",
      "\u001b[1m1211/1211\u001b[0m \u001b[32m━━━━━━━━━━━━━━━━━━━━\u001b[0m\u001b[37m\u001b[0m \u001b[1m267s\u001b[0m 220ms/step - accuracy: 0.4475 - auc: 0.9401 - loss: 0.0050 - val_accuracy: 0.2724 - val_auc: 0.9522 - val_loss: 0.0042\n",
      "Epoch 10/100\n",
      "\u001b[1m1211/1211\u001b[0m \u001b[32m━━━━━━━━━━━━━━━━━━━━\u001b[0m\u001b[37m\u001b[0m \u001b[1m267s\u001b[0m 220ms/step - accuracy: 0.4463 - auc: 0.9427 - loss: 0.0049 - val_accuracy: 0.2802 - val_auc: 0.9671 - val_loss: 0.0034\n",
      "Epoch 11/100\n",
      "\u001b[1m1211/1211\u001b[0m \u001b[32m━━━━━━━━━━━━━━━━━━━━\u001b[0m\u001b[37m\u001b[0m \u001b[1m267s\u001b[0m 220ms/step - accuracy: 0.4621 - auc: 0.9465 - loss: 0.0047 - val_accuracy: 0.2698 - val_auc: 0.9533 - val_loss: 0.0040\n",
      "Epoch 12/100\n",
      "\u001b[1m1211/1211\u001b[0m \u001b[32m━━━━━━━━━━━━━━━━━━━━\u001b[0m\u001b[37m\u001b[0m \u001b[1m267s\u001b[0m 220ms/step - accuracy: 0.4590 - auc: 0.9498 - loss: 0.0046 - val_accuracy: 0.2852 - val_auc: 0.9711 - val_loss: 0.0034\n",
      "Epoch 13/100\n",
      "\u001b[1m1211/1211\u001b[0m \u001b[32m━━━━━━━━━━━━━━━━━━━━\u001b[0m\u001b[37m\u001b[0m \u001b[1m322s\u001b[0m 220ms/step - accuracy: 0.4634 - auc: 0.9537 - loss: 0.0044 - val_accuracy: 0.3180 - val_auc: 0.9658 - val_loss: 0.0033\n",
      "Epoch 14/100\n",
      "\u001b[1m1211/1211\u001b[0m \u001b[32m━━━━━━━━━━━━━━━━━━━━\u001b[0m\u001b[37m\u001b[0m \u001b[1m267s\u001b[0m 220ms/step - accuracy: 0.4720 - auc: 0.9553 - loss: 0.0043 - val_accuracy: 0.2811 - val_auc: 0.9604 - val_loss: 0.0038\n",
      "Epoch 15/100\n",
      "\u001b[1m1211/1211\u001b[0m \u001b[32m━━━━━━━━━━━━━━━━━━━━\u001b[0m\u001b[37m\u001b[0m \u001b[1m267s\u001b[0m 220ms/step - accuracy: 0.4555 - auc: 0.9571 - loss: 0.0042 - val_accuracy: 0.3048 - val_auc: 0.9781 - val_loss: 0.0029\n",
      "Epoch 16/100\n",
      "\u001b[1m1211/1211\u001b[0m \u001b[32m━━━━━━━━━━━━━━━━━━━━\u001b[0m\u001b[37m\u001b[0m \u001b[1m267s\u001b[0m 220ms/step - accuracy: 0.4668 - auc: 0.9593 - loss: 0.0041 - val_accuracy: 0.3185 - val_auc: 0.9693 - val_loss: 0.0033\n",
      "Epoch 17/100\n",
      "\u001b[1m1211/1211\u001b[0m \u001b[32m━━━━━━━━━━━━━━━━━━━━\u001b[0m\u001b[37m\u001b[0m \u001b[1m267s\u001b[0m 220ms/step - accuracy: 0.4722 - auc: 0.9605 - loss: 0.0040 - val_accuracy: 0.2864 - val_auc: 0.9728 - val_loss: 0.0033\n",
      "Epoch 18/100\n",
      "\u001b[1m1211/1211\u001b[0m \u001b[32m━━━━━━━━━━━━━━━━━━━━\u001b[0m\u001b[37m\u001b[0m \u001b[1m267s\u001b[0m 220ms/step - accuracy: 0.4712 - auc: 0.9622 - loss: 0.0039 - val_accuracy: 0.3216 - val_auc: 0.9817 - val_loss: 0.0024\n",
      "Epoch 19/100\n",
      "\u001b[1m1211/1211\u001b[0m \u001b[32m━━━━━━━━━━━━━━━━━━━━\u001b[0m\u001b[37m\u001b[0m \u001b[1m322s\u001b[0m 220ms/step - accuracy: 0.4729 - auc: 0.9640 - loss: 0.0038 - val_accuracy: 0.2755 - val_auc: 0.9786 - val_loss: 0.0027\n",
      "Epoch 20/100\n",
      "\u001b[1m1211/1211\u001b[0m \u001b[32m━━━━━━━━━━━━━━━━━━━━\u001b[0m\u001b[37m\u001b[0m \u001b[1m322s\u001b[0m 220ms/step - accuracy: 0.4706 - auc: 0.9652 - loss: 0.0037 - val_accuracy: 0.3388 - val_auc: 0.9810 - val_loss: 0.0025\n",
      "Epoch 21/100\n",
      "\u001b[1m1211/1211\u001b[0m \u001b[32m━━━━━━━━━━━━━━━━━━━━\u001b[0m\u001b[37m\u001b[0m \u001b[1m267s\u001b[0m 220ms/step - accuracy: 0.4795 - auc: 0.9668 - loss: 0.0037 - val_accuracy: 0.3038 - val_auc: 0.9856 - val_loss: 0.0021\n",
      "Epoch 22/100\n",
      "\u001b[1m1211/1211\u001b[0m \u001b[32m━━━━━━━━━━━━━━━━━━━━\u001b[0m\u001b[37m\u001b[0m \u001b[1m267s\u001b[0m 220ms/step - accuracy: 0.4712 - auc: 0.9679 - loss: 0.0036 - val_accuracy: 0.2712 - val_auc: 0.9808 - val_loss: 0.0028\n",
      "Epoch 23/100\n",
      "\u001b[1m1211/1211\u001b[0m \u001b[32m━━━━━━━━━━━━━━━━━━━━\u001b[0m\u001b[37m\u001b[0m \u001b[1m267s\u001b[0m 220ms/step - accuracy: 0.4701 - auc: 0.9675 - loss: 0.0036 - val_accuracy: 0.3261 - val_auc: 0.9818 - val_loss: 0.0024\n",
      "Epoch 24/100\n",
      "\u001b[1m1211/1211\u001b[0m \u001b[32m━━━━━━━━━━━━━━━━━━━━\u001b[0m\u001b[37m\u001b[0m \u001b[1m322s\u001b[0m 220ms/step - accuracy: 0.4690 - auc: 0.9687 - loss: 0.0035 - val_accuracy: 0.2929 - val_auc: 0.9839 - val_loss: 0.0023\n",
      "Epoch 25/100\n",
      "\u001b[1m1211/1211\u001b[0m \u001b[32m━━━━━━━━━━━━━━━━━━━━\u001b[0m\u001b[37m\u001b[0m \u001b[1m322s\u001b[0m 220ms/step - accuracy: 0.4674 - auc: 0.9689 - loss: 0.0035 - val_accuracy: 0.3125 - val_auc: 0.9868 - val_loss: 0.0021\n",
      "Epoch 26/100\n",
      "\u001b[1m1211/1211\u001b[0m \u001b[32m━━━━━━━━━━━━━━━━━━━━\u001b[0m\u001b[37m\u001b[0m \u001b[1m267s\u001b[0m 220ms/step - accuracy: 0.4786 - auc: 0.9718 - loss: 0.0034 - val_accuracy: 0.2777 - val_auc: 0.9840 - val_loss: 0.0024\n",
      "Epoch 27/100\n",
      "\u001b[1m1211/1211\u001b[0m \u001b[32m━━━━━━━━━━━━━━━━━━━━\u001b[0m\u001b[37m\u001b[0m \u001b[1m322s\u001b[0m 220ms/step - accuracy: 0.4746 - auc: 0.9715 - loss: 0.0034 - val_accuracy: 0.2876 - val_auc: 0.9854 - val_loss: 0.0022\n",
      "Epoch 28/100\n",
      "\u001b[1m1211/1211\u001b[0m \u001b[32m━━━━━━━━━━━━━━━━━━━━\u001b[0m\u001b[37m\u001b[0m \u001b[1m322s\u001b[0m 221ms/step - accuracy: 0.4923 - auc: 0.9727 - loss: 0.0033 - val_accuracy: 0.3260 - val_auc: 0.9877 - val_loss: 0.0021\n",
      "Epoch 29/100\n",
      "\u001b[1m1211/1211\u001b[0m \u001b[32m━━━━━━━━━━━━━━━━━━━━\u001b[0m\u001b[37m\u001b[0m \u001b[1m322s\u001b[0m 221ms/step - accuracy: 0.4775 - auc: 0.9738 - loss: 0.0032 - val_accuracy: 0.2992 - val_auc: 0.9902 - val_loss: 0.0019\n",
      "Epoch 30/100\n",
      "\u001b[1m1211/1211\u001b[0m \u001b[32m━━━━━━━━━━━━━━━━━━━━\u001b[0m\u001b[37m\u001b[0m \u001b[1m322s\u001b[0m 220ms/step - accuracy: 0.4746 - auc: 0.9732 - loss: 0.0033 - val_accuracy: 0.3093 - val_auc: 0.9891 - val_loss: 0.0018\n",
      "Epoch 31/100\n",
      "\u001b[1m1211/1211\u001b[0m \u001b[32m━━━━━━━━━━━━━━━━━━━━\u001b[0m\u001b[37m\u001b[0m \u001b[1m322s\u001b[0m 221ms/step - accuracy: 0.4882 - auc: 0.9746 - loss: 0.0032 - val_accuracy: 0.2866 - val_auc: 0.9866 - val_loss: 0.0023\n",
      "Epoch 32/100\n",
      "\u001b[1m1211/1211\u001b[0m \u001b[32m━━━━━━━━━━━━━━━━━━━━\u001b[0m\u001b[37m\u001b[0m \u001b[1m267s\u001b[0m 220ms/step - accuracy: 0.4799 - auc: 0.9751 - loss: 0.0031 - val_accuracy: 0.3213 - val_auc: 0.9869 - val_loss: 0.0021\n",
      "Epoch 33/100\n",
      "\u001b[1m1211/1211\u001b[0m \u001b[32m━━━━━━━━━━━━━━━━━━━━\u001b[0m\u001b[37m\u001b[0m \u001b[1m267s\u001b[0m 220ms/step - accuracy: 0.4765 - auc: 0.9765 - loss: 0.0031 - val_accuracy: 0.2746 - val_auc: 0.9858 - val_loss: 0.0023\n",
      "Epoch 34/100\n",
      "\u001b[1m1211/1211\u001b[0m \u001b[32m━━━━━━━━━━━━━━━━━━━━\u001b[0m\u001b[37m\u001b[0m \u001b[1m267s\u001b[0m 221ms/step - accuracy: 0.4847 - auc: 0.9762 - loss: 0.0031 - val_accuracy: 0.3283 - val_auc: 0.9895 - val_loss: 0.0019\n",
      "Epoch 35/100\n",
      "\u001b[1m1211/1211\u001b[0m \u001b[32m━━━━━━━━━━━━━━━━━━━━\u001b[0m\u001b[37m\u001b[0m \u001b[1m267s\u001b[0m 220ms/step - accuracy: 0.4921 - auc: 0.9767 - loss: 0.0030 - val_accuracy: 0.3291 - val_auc: 0.9901 - val_loss: 0.0019\n",
      "Epoch 36/100\n",
      "\u001b[1m1211/1211\u001b[0m \u001b[32m━━━━━━━━━━━━━━━━━━━━\u001b[0m\u001b[37m\u001b[0m \u001b[1m267s\u001b[0m 220ms/step - accuracy: 0.4855 - auc: 0.9774 - loss: 0.0030 - val_accuracy: 0.3088 - val_auc: 0.9884 - val_loss: 0.0021\n",
      "Epoch 37/100\n",
      "\u001b[1m1211/1211\u001b[0m \u001b[32m━━━━━━━━━━━━━━━━━━━━\u001b[0m\u001b[37m\u001b[0m \u001b[1m267s\u001b[0m 221ms/step - accuracy: 0.4849 - auc: 0.9775 - loss: 0.0030 - val_accuracy: 0.2901 - val_auc: 0.9860 - val_loss: 0.0023\n",
      "Epoch 38/100\n",
      "\u001b[1m1211/1211\u001b[0m \u001b[32m━━━━━━━━━━━━━━━━━━━━\u001b[0m\u001b[37m\u001b[0m \u001b[1m267s\u001b[0m 221ms/step - accuracy: 0.4877 - auc: 0.9789 - loss: 0.0029 - val_accuracy: 0.3132 - val_auc: 0.9883 - val_loss: 0.0020\n",
      "Epoch 39/100\n",
      "\u001b[1m1211/1211\u001b[0m \u001b[32m━━━━━━━━━━━━━━━━━━━━\u001b[0m\u001b[37m\u001b[0m \u001b[1m267s\u001b[0m 220ms/step - accuracy: 0.4823 - auc: 0.9779 - loss: 0.0030 - val_accuracy: 0.3081 - val_auc: 0.9893 - val_loss: 0.0020\n",
      "Epoch 40/100\n",
      "\u001b[1m1211/1211\u001b[0m \u001b[32m━━━━━━━━━━━━━━━━━━━━\u001b[0m\u001b[37m\u001b[0m \u001b[1m267s\u001b[0m 221ms/step - accuracy: 0.4870 - auc: 0.9796 - loss: 0.0028 - val_accuracy: 0.2896 - val_auc: 0.9900 - val_loss: 0.0019\n",
      "Epoch 41/100\n",
      "\u001b[1m1211/1211\u001b[0m \u001b[32m━━━━━━━━━━━━━━━━━━━━\u001b[0m\u001b[37m\u001b[0m \u001b[1m267s\u001b[0m 220ms/step - accuracy: 0.4829 - auc: 0.9792 - loss: 0.0029 - val_accuracy: 0.2968 - val_auc: 0.9921 - val_loss: 0.0018\n",
      "Epoch 42/100\n",
      "\u001b[1m1211/1211\u001b[0m \u001b[32m━━━━━━━━━━━━━━━━━━━━\u001b[0m\u001b[37m\u001b[0m \u001b[1m322s\u001b[0m 220ms/step - accuracy: 0.4990 - auc: 0.9798 - loss: 0.0028 - val_accuracy: 0.3356 - val_auc: 0.9911 - val_loss: 0.0020\n",
      "Epoch 43/100\n",
      "\u001b[1m1211/1211\u001b[0m \u001b[32m━━━━━━━━━━━━━━━━━━━━\u001b[0m\u001b[37m\u001b[0m \u001b[1m322s\u001b[0m 221ms/step - accuracy: 0.4877 - auc: 0.9799 - loss: 0.0028 - val_accuracy: 0.2786 - val_auc: 0.9891 - val_loss: 0.0020\n",
      "Epoch 44/100\n",
      "\u001b[1m1211/1211\u001b[0m \u001b[32m━━━━━━━━━━━━━━━━━━━━\u001b[0m\u001b[37m\u001b[0m \u001b[1m322s\u001b[0m 220ms/step - accuracy: 0.4767 - auc: 0.9801 - loss: 0.0028 - val_accuracy: 0.3177 - val_auc: 0.9900 - val_loss: 0.0019\n",
      "Epoch 45/100\n",
      "\u001b[1m1211/1211\u001b[0m \u001b[32m━━━━━━━━━━━━━━━━━━━━\u001b[0m\u001b[37m\u001b[0m \u001b[1m322s\u001b[0m 220ms/step - accuracy: 0.4848 - auc: 0.9805 - loss: 0.0028 - val_accuracy: 0.3277 - val_auc: 0.9911 - val_loss: 0.0018\n",
      "Epoch 46/100\n",
      "\u001b[1m1211/1211\u001b[0m \u001b[32m━━━━━━━━━━━━━━━━━━━━\u001b[0m\u001b[37m\u001b[0m \u001b[1m322s\u001b[0m 220ms/step - accuracy: 0.4956 - auc: 0.9803 - loss: 0.0028 - val_accuracy: 0.2903 - val_auc: 0.9927 - val_loss: 0.0017\n",
      "Epoch 47/100\n",
      "\u001b[1m1211/1211\u001b[0m \u001b[32m━━━━━━━━━━━━━━━━━━━━\u001b[0m\u001b[37m\u001b[0m \u001b[1m267s\u001b[0m 221ms/step - accuracy: 0.4919 - auc: 0.9811 - loss: 0.0027 - val_accuracy: 0.3158 - val_auc: 0.9926 - val_loss: 0.0016\n",
      "Epoch 48/100\n",
      "\u001b[1m1211/1211\u001b[0m \u001b[32m━━━━━━━━━━━━━━━━━━━━\u001b[0m\u001b[37m\u001b[0m \u001b[1m267s\u001b[0m 221ms/step - accuracy: 0.4891 - auc: 0.9818 - loss: 0.0027 - val_accuracy: 0.3395 - val_auc: 0.9931 - val_loss: 0.0015\n",
      "Epoch 49/100\n",
      "\u001b[1m1211/1211\u001b[0m \u001b[32m━━━━━━━━━━━━━━━━━━━━\u001b[0m\u001b[37m\u001b[0m \u001b[1m267s\u001b[0m 221ms/step - accuracy: 0.5013 - auc: 0.9819 - loss: 0.0027 - val_accuracy: 0.3291 - val_auc: 0.9926 - val_loss: 0.0016\n",
      "Epoch 50/100\n",
      "\u001b[1m1211/1211\u001b[0m \u001b[32m━━━━━━━━━━━━━━━━━━━━\u001b[0m\u001b[37m\u001b[0m \u001b[1m322s\u001b[0m 221ms/step - accuracy: 0.4879 - auc: 0.9823 - loss: 0.0026 - val_accuracy: 0.3042 - val_auc: 0.9924 - val_loss: 0.0015\n",
      "Epoch 51/100\n",
      "\u001b[1m1211/1211\u001b[0m \u001b[32m━━━━━━━━━━━━━━━━━━━━\u001b[0m\u001b[37m\u001b[0m \u001b[1m267s\u001b[0m 221ms/step - accuracy: 0.4798 - auc: 0.9824 - loss: 0.0026 - val_accuracy: 0.3070 - val_auc: 0.9915 - val_loss: 0.0017\n",
      "Epoch 52/100\n",
      "\u001b[1m1211/1211\u001b[0m \u001b[32m━━━━━━━━━━━━━━━━━━━━\u001b[0m\u001b[37m\u001b[0m \u001b[1m267s\u001b[0m 221ms/step - accuracy: 0.4889 - auc: 0.9825 - loss: 0.0026 - val_accuracy: 0.3165 - val_auc: 0.9913 - val_loss: 0.0018\n",
      "Epoch 53/100\n",
      "\u001b[1m1211/1211\u001b[0m \u001b[32m━━━━━━━━━━━━━━━━━━━━\u001b[0m\u001b[37m\u001b[0m \u001b[1m322s\u001b[0m 221ms/step - accuracy: 0.5015 - auc: 0.9823 - loss: 0.0026 - val_accuracy: 0.2951 - val_auc: 0.9915 - val_loss: 0.0019\n",
      "Epoch 54/100\n",
      "\u001b[1m1211/1211\u001b[0m \u001b[32m━━━━━━━━━━━━━━━━━━━━\u001b[0m\u001b[37m\u001b[0m \u001b[1m267s\u001b[0m 221ms/step - accuracy: 0.4811 - auc: 0.9830 - loss: 0.0026 - val_accuracy: 0.3157 - val_auc: 0.9929 - val_loss: 0.0017\n",
      "Epoch 55/100\n",
      "\u001b[1m1211/1211\u001b[0m \u001b[32m━━━━━━━━━━━━━━━━━━━━\u001b[0m\u001b[37m\u001b[0m \u001b[1m267s\u001b[0m 221ms/step - accuracy: 0.4954 - auc: 0.9829 - loss: 0.0026 - val_accuracy: 0.3207 - val_auc: 0.9932 - val_loss: 0.0016\n",
      "Epoch 56/100\n",
      "\u001b[1m1211/1211\u001b[0m \u001b[32m━━━━━━━━━━━━━━━━━━━━\u001b[0m\u001b[37m\u001b[0m \u001b[1m322s\u001b[0m 221ms/step - accuracy: 0.4790 - auc: 0.9834 - loss: 0.0025 - val_accuracy: 0.3315 - val_auc: 0.9934 - val_loss: 0.0015\n",
      "Epoch 57/100\n",
      "\u001b[1m1211/1211\u001b[0m \u001b[32m━━━━━━━━━━━━━━━━━━━━\u001b[0m\u001b[37m\u001b[0m \u001b[1m267s\u001b[0m 221ms/step - accuracy: 0.4795 - auc: 0.9837 - loss: 0.0025 - val_accuracy: 0.3348 - val_auc: 0.9928 - val_loss: 0.0015\n",
      "Epoch 58/100\n",
      "\u001b[1m1211/1211\u001b[0m \u001b[32m━━━━━━━━━━━━━━━━━━━━\u001b[0m\u001b[37m\u001b[0m \u001b[1m267s\u001b[0m 220ms/step - accuracy: 0.4808 - auc: 0.9832 - loss: 0.0026 - val_accuracy: 0.3449 - val_auc: 0.9937 - val_loss: 0.0015\n",
      "Epoch 59/100\n",
      "\u001b[1m1211/1211\u001b[0m \u001b[32m━━━━━━━━━━━━━━━━━━━━\u001b[0m\u001b[37m\u001b[0m \u001b[1m321s\u001b[0m 220ms/step - accuracy: 0.4923 - auc: 0.9842 - loss: 0.0025 - val_accuracy: 0.3099 - val_auc: 0.9926 - val_loss: 0.0017\n",
      "Epoch 60/100\n",
      "\u001b[1m1211/1211\u001b[0m \u001b[32m━━━━━━━━━━━━━━━━━━━━\u001b[0m\u001b[37m\u001b[0m \u001b[1m267s\u001b[0m 220ms/step - accuracy: 0.4894 - auc: 0.9834 - loss: 0.0025 - val_accuracy: 0.3682 - val_auc: 0.9923 - val_loss: 0.0015\n",
      "Epoch 61/100\n",
      "\u001b[1m1211/1211\u001b[0m \u001b[32m━━━━━━━━━━━━━━━━━━━━\u001b[0m\u001b[37m\u001b[0m \u001b[1m267s\u001b[0m 221ms/step - accuracy: 0.4983 - auc: 0.9832 - loss: 0.0025 - val_accuracy: 0.3243 - val_auc: 0.9930 - val_loss: 0.0016\n",
      "Epoch 62/100\n",
      "\u001b[1m1211/1211\u001b[0m \u001b[32m━━━━━━━━━━━━━━━━━━━━\u001b[0m\u001b[37m\u001b[0m \u001b[1m322s\u001b[0m 221ms/step - accuracy: 0.4892 - auc: 0.9845 - loss: 0.0024 - val_accuracy: 0.2794 - val_auc: 0.9910 - val_loss: 0.0017\n",
      "Epoch 63/100\n",
      "\u001b[1m1211/1211\u001b[0m \u001b[32m━━━━━━━━━━━━━━━━━━━━\u001b[0m\u001b[37m\u001b[0m \u001b[1m267s\u001b[0m 221ms/step - accuracy: 0.4902 - auc: 0.9849 - loss: 0.0024 - val_accuracy: 0.3007 - val_auc: 0.9926 - val_loss: 0.0015\n",
      "Epoch 64/100\n",
      "\u001b[1m1211/1211\u001b[0m \u001b[32m━━━━━━━━━━━━━━━━━━━━\u001b[0m\u001b[37m\u001b[0m \u001b[1m266s\u001b[0m 220ms/step - accuracy: 0.4944 - auc: 0.9838 - loss: 0.0025 - val_accuracy: 0.3084 - val_auc: 0.9919 - val_loss: 0.0017\n",
      "Epoch 65/100\n",
      "\u001b[1m1211/1211\u001b[0m \u001b[32m━━━━━━━━━━━━━━━━━━━━\u001b[0m\u001b[37m\u001b[0m \u001b[1m266s\u001b[0m 220ms/step - accuracy: 0.4946 - auc: 0.9853 - loss: 0.0024 - val_accuracy: 0.3304 - val_auc: 0.9944 - val_loss: 0.0013\n",
      "Epoch 66/100\n",
      "\u001b[1m1211/1211\u001b[0m \u001b[32m━━━━━━━━━━━━━━━━━━━━\u001b[0m\u001b[37m\u001b[0m \u001b[1m266s\u001b[0m 220ms/step - accuracy: 0.4874 - auc: 0.9853 - loss: 0.0024 - val_accuracy: 0.3358 - val_auc: 0.9936 - val_loss: 0.0016\n",
      "Epoch 67/100\n",
      "\u001b[1m1211/1211\u001b[0m \u001b[32m━━━━━━━━━━━━━━━━━━━━\u001b[0m\u001b[37m\u001b[0m \u001b[1m266s\u001b[0m 219ms/step - accuracy: 0.4963 - auc: 0.9852 - loss: 0.0024 - val_accuracy: 0.2962 - val_auc: 0.9934 - val_loss: 0.0014\n",
      "Epoch 68/100\n",
      "\u001b[1m1211/1211\u001b[0m \u001b[32m━━━━━━━━━━━━━━━━━━━━\u001b[0m\u001b[37m\u001b[0m \u001b[1m322s\u001b[0m 220ms/step - accuracy: 0.4881 - auc: 0.9859 - loss: 0.0023 - val_accuracy: 0.3226 - val_auc: 0.9944 - val_loss: 0.0013\n",
      "Epoch 69/100\n",
      "\u001b[1m1211/1211\u001b[0m \u001b[32m━━━━━━━━━━━━━━━━━━━━\u001b[0m\u001b[37m\u001b[0m \u001b[1m266s\u001b[0m 220ms/step - accuracy: 0.4869 - auc: 0.9851 - loss: 0.0024 - val_accuracy: 0.2922 - val_auc: 0.9931 - val_loss: 0.0016\n",
      "Epoch 70/100\n",
      "\u001b[1m1211/1211\u001b[0m \u001b[32m━━━━━━━━━━━━━━━━━━━━\u001b[0m\u001b[37m\u001b[0m \u001b[1m322s\u001b[0m 220ms/step - accuracy: 0.4857 - auc: 0.9862 - loss: 0.0023 - val_accuracy: 0.3173 - val_auc: 0.9945 - val_loss: 0.0015\n",
      "Epoch 71/100\n",
      "\u001b[1m1211/1211\u001b[0m \u001b[32m━━━━━━━━━━━━━━━━━━━━\u001b[0m\u001b[37m\u001b[0m \u001b[1m267s\u001b[0m 220ms/step - accuracy: 0.4804 - auc: 0.9864 - loss: 0.0023 - val_accuracy: 0.3226 - val_auc: 0.9946 - val_loss: 0.0014\n",
      "Epoch 72/100\n",
      "\u001b[1m1211/1211\u001b[0m \u001b[32m━━━━━━━━━━━━━━━━━━━━\u001b[0m\u001b[37m\u001b[0m \u001b[1m266s\u001b[0m 220ms/step - accuracy: 0.4905 - auc: 0.9862 - loss: 0.0023 - val_accuracy: 0.3168 - val_auc: 0.9948 - val_loss: 0.0012\n",
      "Epoch 73/100\n",
      "\u001b[1m1211/1211\u001b[0m \u001b[32m━━━━━━━━━━━━━━━━━━━━\u001b[0m\u001b[37m\u001b[0m \u001b[1m266s\u001b[0m 220ms/step - accuracy: 0.4792 - auc: 0.9862 - loss: 0.0023 - val_accuracy: 0.3084 - val_auc: 0.9942 - val_loss: 0.0014\n",
      "Epoch 74/100\n",
      "\u001b[1m1211/1211\u001b[0m \u001b[32m━━━━━━━━━━━━━━━━━━━━\u001b[0m\u001b[37m\u001b[0m \u001b[1m267s\u001b[0m 220ms/step - accuracy: 0.4747 - auc: 0.9867 - loss: 0.0023 - val_accuracy: 0.3132 - val_auc: 0.9951 - val_loss: 0.0013\n",
      "Epoch 75/100\n",
      "\u001b[1m1211/1211\u001b[0m \u001b[32m━━━━━━━━━━━━━━━━━━━━\u001b[0m\u001b[37m\u001b[0m \u001b[1m322s\u001b[0m 220ms/step - accuracy: 0.4811 - auc: 0.9862 - loss: 0.0023 - val_accuracy: 0.3201 - val_auc: 0.9953 - val_loss: 0.0012\n",
      "Epoch 76/100\n",
      "\u001b[1m1211/1211\u001b[0m \u001b[32m━━━━━━━━━━━━━━━━━━━━\u001b[0m\u001b[37m\u001b[0m \u001b[1m267s\u001b[0m 221ms/step - accuracy: 0.4843 - auc: 0.9868 - loss: 0.0023 - val_accuracy: 0.3136 - val_auc: 0.9949 - val_loss: 0.0014\n",
      "Epoch 77/100\n",
      "\u001b[1m1211/1211\u001b[0m \u001b[32m━━━━━━━━━━━━━━━━━━━━\u001b[0m\u001b[37m\u001b[0m \u001b[1m267s\u001b[0m 220ms/step - accuracy: 0.4786 - auc: 0.9873 - loss: 0.0022 - val_accuracy: 0.3314 - val_auc: 0.9949 - val_loss: 0.0012\n",
      "Epoch 78/100\n",
      "\u001b[1m1211/1211\u001b[0m \u001b[32m━━━━━━━━━━━━━━━━━━━━\u001b[0m\u001b[37m\u001b[0m \u001b[1m267s\u001b[0m 220ms/step - accuracy: 0.4775 - auc: 0.9875 - loss: 0.0022 - val_accuracy: 0.3272 - val_auc: 0.9943 - val_loss: 0.0015\n",
      "Epoch 79/100\n",
      "\u001b[1m1211/1211\u001b[0m \u001b[32m━━━━━━━━━━━━━━━━━━━━\u001b[0m\u001b[37m\u001b[0m \u001b[1m267s\u001b[0m 221ms/step - accuracy: 0.4877 - auc: 0.9871 - loss: 0.0022 - val_accuracy: 0.3365 - val_auc: 0.9957 - val_loss: 0.0012\n",
      "Epoch 80/100\n",
      "\u001b[1m1211/1211\u001b[0m \u001b[32m━━━━━━━━━━━━━━━━━━━━\u001b[0m\u001b[37m\u001b[0m \u001b[1m267s\u001b[0m 220ms/step - accuracy: 0.4939 - auc: 0.9875 - loss: 0.0022 - val_accuracy: 0.3132 - val_auc: 0.9955 - val_loss: 0.0013\n",
      "Epoch 81/100\n",
      "\u001b[1m1211/1211\u001b[0m \u001b[32m━━━━━━━━━━━━━━━━━━━━\u001b[0m\u001b[37m\u001b[0m \u001b[1m266s\u001b[0m 220ms/step - accuracy: 0.4913 - auc: 0.9873 - loss: 0.0022 - val_accuracy: 0.3079 - val_auc: 0.9949 - val_loss: 0.0013\n",
      "Epoch 82/100\n",
      "\u001b[1m1211/1211\u001b[0m \u001b[32m━━━━━━━━━━━━━━━━━━━━\u001b[0m\u001b[37m\u001b[0m \u001b[1m322s\u001b[0m 220ms/step - accuracy: 0.4897 - auc: 0.9880 - loss: 0.0021 - val_accuracy: 0.3120 - val_auc: 0.9939 - val_loss: 0.0015\n",
      "Epoch 83/100\n",
      "\u001b[1m1211/1211\u001b[0m \u001b[32m━━━━━━━━━━━━━━━━━━━━\u001b[0m\u001b[37m\u001b[0m \u001b[1m322s\u001b[0m 220ms/step - accuracy: 0.4831 - auc: 0.9877 - loss: 0.0022 - val_accuracy: 0.3114 - val_auc: 0.9957 - val_loss: 0.0011\n",
      "Epoch 84/100\n",
      "\u001b[1m1211/1211\u001b[0m \u001b[32m━━━━━━━━━━━━━━━━━━━━\u001b[0m\u001b[37m\u001b[0m \u001b[1m266s\u001b[0m 220ms/step - accuracy: 0.4905 - auc: 0.9875 - loss: 0.0022 - val_accuracy: 0.3308 - val_auc: 0.9960 - val_loss: 0.0012\n",
      "Epoch 85/100\n",
      "\u001b[1m1211/1211\u001b[0m \u001b[32m━━━━━━━━━━━━━━━━━━━━\u001b[0m\u001b[37m\u001b[0m \u001b[1m266s\u001b[0m 220ms/step - accuracy: 0.4904 - auc: 0.9881 - loss: 0.0022 - val_accuracy: 0.3344 - val_auc: 0.9958 - val_loss: 0.0012\n",
      "Epoch 86/100\n",
      "\u001b[1m1211/1211\u001b[0m \u001b[32m━━━━━━━━━━━━━━━━━━━━\u001b[0m\u001b[37m\u001b[0m \u001b[1m322s\u001b[0m 220ms/step - accuracy: 0.4988 - auc: 0.9876 - loss: 0.0022 - val_accuracy: 0.3370 - val_auc: 0.9938 - val_loss: 0.0014\n",
      "Epoch 87/100\n",
      "\u001b[1m1211/1211\u001b[0m \u001b[32m━━━━━━━━━━━━━━━━━━━━\u001b[0m\u001b[37m\u001b[0m \u001b[1m322s\u001b[0m 220ms/step - accuracy: 0.5081 - auc: 0.9883 - loss: 0.0021 - val_accuracy: 0.3110 - val_auc: 0.9951 - val_loss: 0.0013\n",
      "Epoch 88/100\n",
      "\u001b[1m1211/1211\u001b[0m \u001b[32m━━━━━━━━━━━━━━━━━━━━\u001b[0m\u001b[37m\u001b[0m \u001b[1m322s\u001b[0m 220ms/step - accuracy: 0.4876 - auc: 0.9882 - loss: 0.0021 - val_accuracy: 0.3542 - val_auc: 0.9954 - val_loss: 0.0012\n",
      "Epoch 89/100\n",
      "\u001b[1m1211/1211\u001b[0m \u001b[32m━━━━━━━━━━━━━━━━━━━━\u001b[0m\u001b[37m\u001b[0m \u001b[1m266s\u001b[0m 220ms/step - accuracy: 0.4971 - auc: 0.9882 - loss: 0.0021 - val_accuracy: 0.3342 - val_auc: 0.9949 - val_loss: 0.0013\n",
      "Epoch 90/100\n",
      "\u001b[1m1211/1211\u001b[0m \u001b[32m━━━━━━━━━━━━━━━━━━━━\u001b[0m\u001b[37m\u001b[0m \u001b[1m266s\u001b[0m 220ms/step - accuracy: 0.4987 - auc: 0.9888 - loss: 0.0021 - val_accuracy: 0.3080 - val_auc: 0.9957 - val_loss: 0.0013\n",
      "Epoch 91/100\n",
      "\u001b[1m1211/1211\u001b[0m \u001b[32m━━━━━━━━━━━━━━━━━━━━\u001b[0m\u001b[37m\u001b[0m \u001b[1m266s\u001b[0m 220ms/step - accuracy: 0.4917 - auc: 0.9886 - loss: 0.0021 - val_accuracy: 0.3305 - val_auc: 0.9936 - val_loss: 0.0014\n",
      "Epoch 92/100\n",
      "\u001b[1m1211/1211\u001b[0m \u001b[32m━━━━━━━━━━━━━━━━━━━━\u001b[0m\u001b[37m\u001b[0m \u001b[1m266s\u001b[0m 219ms/step - accuracy: 0.4916 - auc: 0.9895 - loss: 0.0020 - val_accuracy: 0.3302 - val_auc: 0.9963 - val_loss: 0.0011\n",
      "Epoch 93/100\n",
      "\u001b[1m1211/1211\u001b[0m \u001b[32m━━━━━━━━━━━━━━━━━━━━\u001b[0m\u001b[37m\u001b[0m \u001b[1m267s\u001b[0m 220ms/step - accuracy: 0.4916 - auc: 0.9893 - loss: 0.0020 - val_accuracy: 0.3049 - val_auc: 0.9955 - val_loss: 0.0013\n",
      "Epoch 94/100\n",
      "\u001b[1m1211/1211\u001b[0m \u001b[32m━━━━━━━━━━━━━━━━━━━━\u001b[0m\u001b[37m\u001b[0m \u001b[1m266s\u001b[0m 220ms/step - accuracy: 0.4921 - auc: 0.9888 - loss: 0.0021 - val_accuracy: 0.3149 - val_auc: 0.9951 - val_loss: 0.0012\n",
      "Epoch 95/100\n",
      "\u001b[1m1211/1211\u001b[0m \u001b[32m━━━━━━━━━━━━━━━━━━━━\u001b[0m\u001b[37m\u001b[0m \u001b[1m266s\u001b[0m 220ms/step - accuracy: 0.4940 - auc: 0.9891 - loss: 0.0021 - val_accuracy: 0.3698 - val_auc: 0.9944 - val_loss: 0.0014\n",
      "Epoch 96/100\n",
      "\u001b[1m1211/1211\u001b[0m \u001b[32m━━━━━━━━━━━━━━━━━━━━\u001b[0m\u001b[37m\u001b[0m \u001b[1m267s\u001b[0m 220ms/step - accuracy: 0.5008 - auc: 0.9896 - loss: 0.0020 - val_accuracy: 0.3242 - val_auc: 0.9950 - val_loss: 0.0012\n",
      "Epoch 97/100\n",
      "\u001b[1m1211/1211\u001b[0m \u001b[32m━━━━━━━━━━━━━━━━━━━━\u001b[0m\u001b[37m\u001b[0m \u001b[1m267s\u001b[0m 220ms/step - accuracy: 0.4988 - auc: 0.9891 - loss: 0.0020 - val_accuracy: 0.3339 - val_auc: 0.9964 - val_loss: 0.0012\n",
      "Epoch 98/100\n",
      "\u001b[1m1211/1211\u001b[0m \u001b[32m━━━━━━━━━━━━━━━━━━━━\u001b[0m\u001b[37m\u001b[0m \u001b[1m266s\u001b[0m 220ms/step - accuracy: 0.5074 - auc: 0.9896 - loss: 0.0020 - val_accuracy: 0.3174 - val_auc: 0.9954 - val_loss: 0.0013\n",
      "Epoch 99/100\n",
      "\u001b[1m1211/1211\u001b[0m \u001b[32m━━━━━━━━━━━━━━━━━━━━\u001b[0m\u001b[37m\u001b[0m \u001b[1m266s\u001b[0m 220ms/step - accuracy: 0.5022 - auc: 0.9891 - loss: 0.0020 - val_accuracy: 0.3315 - val_auc: 0.9962 - val_loss: 0.0011\n",
      "Epoch 100/100\n",
      "\u001b[1m1211/1211\u001b[0m \u001b[32m━━━━━━━━━━━━━━━━━━━━\u001b[0m\u001b[37m\u001b[0m \u001b[1m266s\u001b[0m 220ms/step - accuracy: 0.5043 - auc: 0.9896 - loss: 0.0020 - val_accuracy: 0.3083 - val_auc: 0.9959 - val_loss: 0.0012\n"
     ]
    }
   ],
   "source": [
    "history=model.fit(np.array(frames),sam_labels,\n",
    "          epochs=100,\n",
    "          batch_size=32,\n",
    "          verbose=1,\n",
    "          validation_data=(np.array(test_frames),test_labels))\n"
   ]
  },
  {
   "cell_type": "code",
   "execution_count": 20,
   "id": "8664dd8d",
   "metadata": {
    "execution": {
     "iopub.execute_input": "2024-07-16T13:13:20.315952Z",
     "iopub.status.busy": "2024-07-16T13:13:20.315099Z",
     "iopub.status.idle": "2024-07-16T13:14:25.755773Z",
     "shell.execute_reply": "2024-07-16T13:14:25.754667Z"
    },
    "papermill": {
     "duration": 86.477419,
     "end_time": "2024-07-16T13:14:36.066486",
     "exception": false,
     "start_time": "2024-07-16T13:13:09.589067",
     "status": "completed"
    },
    "tags": []
   },
   "outputs": [
    {
     "name": "stdout",
     "output_type": "stream",
     "text": [
      "\u001b[1m  2/303\u001b[0m \u001b[37m━━━━━━━━━━━━━━━━━━━━\u001b[0m \u001b[1m53s\u001b[0m 178ms/step"
     ]
    },
    {
     "name": "stderr",
     "output_type": "stream",
     "text": [
      "W0000 00:00:1721135608.713411      69 graph_launch.cc:671] Fallback to op-by-op mode because memset node breaks graph update\n"
     ]
    },
    {
     "name": "stdout",
     "output_type": "stream",
     "text": [
      "\u001b[1m303/303\u001b[0m \u001b[32m━━━━━━━━━━━━━━━━━━━━\u001b[0m\u001b[37m\u001b[0m \u001b[1m61s\u001b[0m 188ms/step\n"
     ]
    },
    {
     "name": "stderr",
     "output_type": "stream",
     "text": [
      "W0000 00:00:1721135665.455303      67 graph_launch.cc:671] Fallback to op-by-op mode because memset node breaks graph update\n"
     ]
    }
   ],
   "source": [
    "pred=model.predict(np.array(test_frames))"
   ]
  },
  {
   "cell_type": "code",
   "execution_count": 21,
   "id": "cf3468fa",
   "metadata": {
    "execution": {
     "iopub.execute_input": "2024-07-16T13:14:58.099527Z",
     "iopub.status.busy": "2024-07-16T13:14:58.098907Z",
     "iopub.status.idle": "2024-07-16T13:15:01.353813Z",
     "shell.execute_reply": "2024-07-16T13:15:01.352900Z"
    },
    "papermill": {
     "duration": 14.225207,
     "end_time": "2024-07-16T13:15:01.356026",
     "exception": false,
     "start_time": "2024-07-16T13:14:47.130819",
     "status": "completed"
    },
    "tags": []
   },
   "outputs": [
    {
     "data": {
      "image/png": "[encoded data removed]",
      "text/plain": [
       "<Figure size 1500x1500 with 12 Axes>"
      ]
     },
     "metadata": {},
     "output_type": "display_data"
    }
   ],
   "source": [
    "import matplotlib.pyplot as plt\n",
    "from sklearn.metrics import precision_recall_curve, auc\n",
    "import numpy as np\n",
    "\n",
    "# Assuming y_test contains the true binary labels and pred contains the predicted probabilities\n",
    "# au contains the names of the action units or labels\n",
    "au = csv[1].columns\n",
    "t=[]\n",
    "# Create a figure and a grid of subplots (4x3)\n",
    "fig, axes = plt.subplots(4, 3, figsize=(15, 15))\n",
    "axes = axes.flatten()  # Flatten the 2D array of axes into a 1D array for easier indexing\n",
    "\n",
    "# Loop through each label\n",
    "for i in range(12):\n",
    "    # Compute precision, recall, and thresholds\n",
    "    precision, recall, thresholds = precision_recall_curve(test_labels[:, i], pred[:, i])\n",
    "\n",
    "    # Calculate the precision-recall AUC\n",
    "    pr_auc = auc(recall, precision)\n",
    "\n",
    "    # Compute F1 scores for each threshold\n",
    "    f1_scores = 2 * (precision * recall) / (precision + recall)\n",
    "\n",
    "    # Find the threshold that maximizes the F1 score\n",
    "    best_threshold_index = np.argmax(f1_scores)\n",
    "    best_threshold = thresholds[best_threshold_index]\n",
    "    t.append(best_threshold)\n",
    "    best_f1 = f1_scores[best_threshold_index]\n",
    "\n",
    "    # Plot the precision-recall curve\n",
    "    ax = axes[i]\n",
    "    ax.plot(recall, precision, label=f'{au[i]} PR AUC = {pr_auc:.2f}')\n",
    "    ax.scatter(recall[best_threshold_index], precision[best_threshold_index], color='red', label=f'Best Threshold = {best_threshold:.2f}')\n",
    "    ax.set_xlabel('Recall')\n",
    "    ax.set_ylabel('Precision')\n",
    "    ax.set_title(f'Precision-Recall Curve for {au[i]}')\n",
    "    ax.legend()\n",
    "\n",
    "# Adjust layout to prevent overlap\n",
    "plt.tight_layout()\n",
    "\n",
    "# Display the plots\n",
    "plt.show()"
   ]
  },
  {
   "cell_type": "code",
   "execution_count": 22,
   "id": "2a9f8351",
   "metadata": {
    "execution": {
     "iopub.execute_input": "2024-07-16T13:15:22.838783Z",
     "iopub.status.busy": "2024-07-16T13:15:22.837991Z",
     "iopub.status.idle": "2024-07-16T13:15:22.842676Z",
     "shell.execute_reply": "2024-07-16T13:15:22.841925Z"
    },
    "papermill": {
     "duration": 10.82646,
     "end_time": "2024-07-16T13:15:22.845169",
     "exception": false,
     "start_time": "2024-07-16T13:15:12.018709",
     "status": "completed"
    },
    "tags": []
   },
   "outputs": [],
   "source": [
    "y_pred = (pred >= t).astype(int)"
   ]
  },
  {
   "cell_type": "code",
   "execution_count": 23,
   "id": "81f014f0",
   "metadata": {
    "execution": {
     "iopub.execute_input": "2024-07-16T13:15:44.135908Z",
     "iopub.status.busy": "2024-07-16T13:15:44.134996Z",
     "iopub.status.idle": "2024-07-16T13:15:45.639195Z",
     "shell.execute_reply": "2024-07-16T13:15:45.638133Z"
    },
    "papermill": {
     "duration": 11.954825,
     "end_time": "2024-07-16T13:15:45.641450",
     "exception": false,
     "start_time": "2024-07-16T13:15:33.686625",
     "status": "completed"
    },
    "tags": []
   },
   "outputs": [
    {
     "name": "stdout",
     "output_type": "stream",
     "text": [
      "Accuracy of each action unit \n",
      "au1   :  0.9961824184894759\n",
      "au12   :  0.9802930251754024\n",
      "au15   :  0.9953569954601733\n",
      "au17   :  0.9941188609162196\n",
      "au2   :  0.9985555096987206\n",
      "au20   :  0.9979364424267437\n",
      "au25   :  0.9874122988031366\n",
      "au26   :  0.9789517127527858\n",
      "au4   :  0.9892695006190673\n",
      "au5   :  0.9987618654560462\n",
      "au6   :  0.9946347503095336\n",
      "au9   :  0.998349153941395\n"
     ]
    },
    {
     "data": {
      "image/png": "[encoded data removed]",
      "text/plain": [
       "<Figure size 2000x1500 with 12 Axes>"
      ]
     },
     "metadata": {},
     "output_type": "display_data"
    }
   ],
   "source": [
    "from sklearn.metrics import confusion_matrix, ConfusionMatrixDisplay, accuracy_score\n",
    "fig, axes = plt.subplots(3, 4, figsize=(20, 15))\n",
    "axes = axes.flatten()\n",
    "p=y_pred\n",
    "print(\"Accuracy of each action unit \")\n",
    "\n",
    "for i in range(12):\n",
    "    print(f'{au[i] }   : ', accuracy_score(test_labels[:, i], p[:, i]))\n",
    "for i in range(12):\n",
    "    cm = confusion_matrix(test_labels[:, i], p[:, i])\n",
    "    disp = ConfusionMatrixDisplay(confusion_matrix=cm, display_labels=[0, 1])\n",
    "    disp.plot(ax=axes[i], colorbar=False)\n",
    "    axes[i].set_title(au[i])\n",
    "\n",
    "# Adjust layout\n",
    "plt.tight_layout()\n",
    "plt.show()"
   ]
  },
  {
   "cell_type": "code",
   "execution_count": 24,
   "id": "6684dc5e",
   "metadata": {
    "execution": {
     "iopub.execute_input": "2024-07-16T13:16:06.842174Z",
     "iopub.status.busy": "2024-07-16T13:16:06.841442Z",
     "iopub.status.idle": "2024-07-16T13:16:07.266870Z",
     "shell.execute_reply": "2024-07-16T13:16:07.265755Z"
    },
    "papermill": {
     "duration": 10.914465,
     "end_time": "2024-07-16T13:16:07.269693",
     "exception": false,
     "start_time": "2024-07-16T13:15:56.355228",
     "status": "completed"
    },
    "tags": []
   },
   "outputs": [],
   "source": [
    "test_frames=np.array(test_frames)"
   ]
  },
  {
   "cell_type": "code",
   "execution_count": 25,
   "id": "a6664000",
   "metadata": {
    "execution": {
     "iopub.execute_input": "2024-07-16T13:16:28.758621Z",
     "iopub.status.busy": "2024-07-16T13:16:28.757914Z",
     "iopub.status.idle": "2024-07-16T13:20:13.215187Z",
     "shell.execute_reply": "2024-07-16T13:20:13.214152Z"
    },
    "papermill": {
     "duration": 235.250226,
     "end_time": "2024-07-16T13:20:13.217405",
     "exception": false,
     "start_time": "2024-07-16T13:16:17.967179",
     "status": "completed"
    },
    "tags": []
   },
   "outputs": [
    {
     "name": "stdout",
     "output_type": "stream",
     "text": [
      "\u001b[1m71/71\u001b[0m \u001b[32m━━━━━━━━━━━━━━━━━━━━\u001b[0m\u001b[37m\u001b[0m \u001b[1m12s\u001b[0m 169ms/step\n",
      "\u001b[1m139/139\u001b[0m \u001b[32m━━━━━━━━━━━━━━━━━━━━\u001b[0m\u001b[37m\u001b[0m \u001b[1m27s\u001b[0m 194ms/step\n"
     ]
    },
    {
     "name": "stderr",
     "output_type": "stream",
     "text": [
      "W0000 00:00:1721135830.501416      68 graph_launch.cc:671] Fallback to op-by-op mode because memset node breaks graph update\n"
     ]
    },
    {
     "name": "stdout",
     "output_type": "stream",
     "text": [
      "\u001b[1m20/20\u001b[0m \u001b[32m━━━━━━━━━━━━━━━━━━━━\u001b[0m\u001b[37m\u001b[0m \u001b[1m7s\u001b[0m 354ms/step\n"
     ]
    },
    {
     "name": "stderr",
     "output_type": "stream",
     "text": [
      "W0000 00:00:1721135837.532516      67 graph_launch.cc:671] Fallback to op-by-op mode because memset node breaks graph update\n"
     ]
    },
    {
     "name": "stdout",
     "output_type": "stream",
     "text": [
      "\u001b[1m69/69\u001b[0m \u001b[32m━━━━━━━━━━━━━━━━━━━━\u001b[0m\u001b[37m\u001b[0m \u001b[1m14s\u001b[0m 213ms/step\n"
     ]
    },
    {
     "name": "stderr",
     "output_type": "stream",
     "text": [
      "W0000 00:00:1721135853.002100      68 graph_launch.cc:671] Fallback to op-by-op mode because memset node breaks graph update\n"
     ]
    },
    {
     "name": "stdout",
     "output_type": "stream",
     "text": [
      "\u001b[1m61/61\u001b[0m \u001b[32m━━━━━━━━━━━━━━━━━━━━\u001b[0m\u001b[37m\u001b[0m \u001b[1m13s\u001b[0m 225ms/step\n"
     ]
    },
    {
     "name": "stderr",
     "output_type": "stream",
     "text": [
      "W0000 00:00:1721135867.392506      69 graph_launch.cc:671] Fallback to op-by-op mode because memset node breaks graph update\n"
     ]
    },
    {
     "name": "stdout",
     "output_type": "stream",
     "text": [
      "\u001b[1m20/20\u001b[0m \u001b[32m━━━━━━━━━━━━━━━━━━━━\u001b[0m\u001b[37m\u001b[0m \u001b[1m6s\u001b[0m 337ms/step\n"
     ]
    },
    {
     "name": "stderr",
     "output_type": "stream",
     "text": [
      "W0000 00:00:1721135874.089993      68 graph_launch.cc:671] Fallback to op-by-op mode because memset node breaks graph update\n"
     ]
    },
    {
     "name": "stdout",
     "output_type": "stream",
     "text": [
      "\u001b[1m190/190\u001b[0m \u001b[32m━━━━━━━━━━━━━━━━━━━━\u001b[0m\u001b[37m\u001b[0m \u001b[1m32s\u001b[0m 169ms/step\n",
      "\u001b[1m136/136\u001b[0m \u001b[32m━━━━━━━━━━━━━━━━━━━━\u001b[0m\u001b[37m\u001b[0m \u001b[1m26s\u001b[0m 196ms/step\n"
     ]
    },
    {
     "name": "stderr",
     "output_type": "stream",
     "text": [
      "W0000 00:00:1721135936.835980      67 graph_launch.cc:671] Fallback to op-by-op mode because memset node breaks graph update\n"
     ]
    },
    {
     "name": "stdout",
     "output_type": "stream",
     "text": [
      "\u001b[1m151/151\u001b[0m \u001b[32m━━━━━━━━━━━━━━━━━━━━\u001b[0m\u001b[37m\u001b[0m \u001b[1m25s\u001b[0m 169ms/step\n",
      "\u001b[1m5/5\u001b[0m \u001b[32m━━━━━━━━━━━━━━━━━━━━\u001b[0m\u001b[37m\u001b[0m \u001b[1m1s\u001b[0m 169ms/step\n",
      "\u001b[1m122/122\u001b[0m \u001b[32m━━━━━━━━━━━━━━━━━━━━\u001b[0m\u001b[37m\u001b[0m \u001b[1m24s\u001b[0m 196ms/step\n"
     ]
    },
    {
     "name": "stderr",
     "output_type": "stream",
     "text": [
      "W0000 00:00:1721135990.601093      67 graph_launch.cc:671] Fallback to op-by-op mode because memset node breaks graph update\n"
     ]
    },
    {
     "name": "stdout",
     "output_type": "stream",
     "text": [
      "\u001b[1m69/69\u001b[0m \u001b[32m━━━━━━━━━━━━━━━━━━━━\u001b[0m\u001b[37m\u001b[0m \u001b[1m12s\u001b[0m 170ms/step\n"
     ]
    },
    {
     "data": {
      "image/png": "[encoded data removed]",
      "text/plain": [
       "<Figure size 2000x1500 with 12 Axes>"
      ]
     },
     "metadata": {},
     "output_type": "display_data"
    }
   ],
   "source": [
    "from sklearn.metrics import precision_recall_curve, confusion_matrix, ConfusionMatrixDisplay\n",
    "import matplotlib.pyplot as plt\n",
    "import numpy as np\n",
    "\n",
    "np.random.seed(0)\n",
    "th = []\n",
    "\n",
    "# Define the number of rows and columns for the subplot grid\n",
    "num_rows = 3\n",
    "num_cols = 4\n",
    "\n",
    "# Create a figure with subplots\n",
    "fig, axes = plt.subplots(num_rows, num_cols, figsize=(20, 15))\n",
    "axes = axes.flatten()\n",
    "\n",
    "for i in range(12):\n",
    "    zero_indices = np.where(test_labels[:, i] == 0)[0]\n",
    "    one_indices = np.where(test_labels[:, i] == 1)[0]\n",
    "    sam = min(len(one_indices), len(zero_indices))\n",
    "    zero_samples = np.random.choice(zero_indices, sam, replace=False)\n",
    "    mask = np.concatenate((zero_samples, one_indices))\n",
    "    test = test_frames[mask]\n",
    "    real = test_labels[mask]\n",
    "    preds = model.predict(test)\n",
    "    precision, recall, thresholds = precision_recall_curve(real[:, i], preds[:, i])\n",
    "\n",
    "    # Compute F1 scores for the thresholds\n",
    "    f1_scores = 2 * (precision * recall) / (precision + recall)\n",
    "\n",
    "    # Find the index of the best F1 score\n",
    "    best_index = np.argmax(f1_scores[:-1])\n",
    "    best_threshold = thresholds[best_index]\n",
    "    th.append(best_threshold)\n",
    "    y_pred = (preds[:, i] >= t[i]).astype(int)\n",
    "    cm = confusion_matrix(real[:, i], y_pred)\n",
    "    disp = ConfusionMatrixDisplay(confusion_matrix=cm)\n",
    "    disp.plot(ax=axes[i], colorbar=False)\n",
    "    axes[i].set_title(f\"Confusion Matrix for {col[i]} : {sam} samples per each class\")\n",
    "\n",
    "# Adjust layout\n",
    "plt.tight_layout()\n",
    "plt.show()"
   ]
  },
  {
   "cell_type": "code",
   "execution_count": 26,
   "id": "b1abfd66",
   "metadata": {
    "execution": {
     "iopub.execute_input": "2024-07-16T13:20:34.844411Z",
     "iopub.status.busy": "2024-07-16T13:20:34.844041Z",
     "iopub.status.idle": "2024-07-16T13:20:34.859216Z",
     "shell.execute_reply": "2024-07-16T13:20:34.858295Z"
    },
    "papermill": {
     "duration": 10.814909,
     "end_time": "2024-07-16T13:20:34.861244",
     "exception": false,
     "start_time": "2024-07-16T13:20:24.046335",
     "status": "completed"
    },
    "tags": []
   },
   "outputs": [
    {
     "data": {
      "text/plain": [
       "{'accuracy': [0.33661141991615295,\n",
       "  0.4084456264972687,\n",
       "  0.42599761486053467,\n",
       "  0.4371999502182007,\n",
       "  0.43381860852241516,\n",
       "  0.44011667370796204,\n",
       "  0.4492798447608948,\n",
       "  0.4505446255207062,\n",
       "  0.4500025808811188,\n",
       "  0.4530999958515167,\n",
       "  0.4560167193412781,\n",
       "  0.4610758423805237,\n",
       "  0.46239224076271057,\n",
       "  0.4696195423603058,\n",
       "  0.46086934208869934,\n",
       "  0.4675287902355194,\n",
       "  0.46918073296546936,\n",
       "  0.4714779853820801,\n",
       "  0.4696711599826813,\n",
       "  0.47362035512924194,\n",
       "  0.47385266423225403,\n",
       "  0.47145217657089233,\n",
       "  0.4687677323818207,\n",
       "  0.46900004148483276,\n",
       "  0.47080686688423157,\n",
       "  0.4767951965332031,\n",
       "  0.47795674204826355,\n",
       "  0.48397088050842285,\n",
       "  0.4784729778766632,\n",
       "  0.4778535068035126,\n",
       "  0.4838676452636719,\n",
       "  0.4792989492416382,\n",
       "  0.47243303060531616,\n",
       "  0.48446130752563477,\n",
       "  0.4895978569984436,\n",
       "  0.4868876039981842,\n",
       "  0.4870166778564453,\n",
       "  0.48469361662864685,\n",
       "  0.4826286733150482,\n",
       "  0.4856228530406952,\n",
       "  0.4865262508392334,\n",
       "  0.4924887716770172,\n",
       "  0.49088844656944275,\n",
       "  0.4808734655380249,\n",
       "  0.4826802909374237,\n",
       "  0.490862637758255,\n",
       "  0.4904238283634186,\n",
       "  0.48980435729026794,\n",
       "  0.49220484495162964,\n",
       "  0.4891590476036072,\n",
       "  0.47958287596702576,\n",
       "  0.4933663606643677,\n",
       "  0.49550876021385193,\n",
       "  0.48384183645248413,\n",
       "  0.4919983446598053,\n",
       "  0.4784213602542877,\n",
       "  0.4812864661216736,\n",
       "  0.48980435729026794,\n",
       "  0.48681017756462097,\n",
       "  0.4889783561229706,\n",
       "  0.49207577109336853,\n",
       "  0.4864746332168579,\n",
       "  0.4889783561229706,\n",
       "  0.4892364740371704,\n",
       "  0.4896494746208191,\n",
       "  0.4865262508392334,\n",
       "  0.49197253584861755,\n",
       "  0.4878942668437958,\n",
       "  0.4849775433540344,\n",
       "  0.48157039284706116,\n",
       "  0.4855712056159973,\n",
       "  0.4881007671356201,\n",
       "  0.4814155101776123,\n",
       "  0.47873109579086304,\n",
       "  0.48311910033226013,\n",
       "  0.480279803276062,\n",
       "  0.477672815322876,\n",
       "  0.4780599772930145,\n",
       "  0.4848484992980957,\n",
       "  0.4889783561229706,\n",
       "  0.4931340515613556,\n",
       "  0.48311910033226013,\n",
       "  0.4871715307235718,\n",
       "  0.4881523847579956,\n",
       "  0.4926178455352783,\n",
       "  0.49865779280662537,\n",
       "  0.5031232237815857,\n",
       "  0.49251458048820496,\n",
       "  0.49659284949302673,\n",
       "  0.49587011337280273,\n",
       "  0.4964379668235779,\n",
       "  0.49065613746643066,\n",
       "  0.49352124333381653,\n",
       "  0.4956636130809784,\n",
       "  0.49279850721359253,\n",
       "  0.5007227063179016,\n",
       "  0.5,\n",
       "  0.5079241991043091,\n",
       "  0.4990966022014618,\n",
       "  0.5024263262748718],\n",
       " 'auc': [0.6258662939071655,\n",
       "  0.8474918007850647,\n",
       "  0.8809515833854675,\n",
       "  0.8987848162651062,\n",
       "  0.9104909896850586,\n",
       "  0.9201047420501709,\n",
       "  0.9275994300842285,\n",
       "  0.933560848236084,\n",
       "  0.9401686787605286,\n",
       "  0.9431338310241699,\n",
       "  0.9462310075759888,\n",
       "  0.9495294094085693,\n",
       "  0.9527125954627991,\n",
       "  0.9548501968383789,\n",
       "  0.9567468166351318,\n",
       "  0.9591655731201172,\n",
       "  0.9607045650482178,\n",
       "  0.9617660641670227,\n",
       "  0.9632677435874939,\n",
       "  0.9647634029388428,\n",
       "  0.9661973118782043,\n",
       "  0.9674354791641235,\n",
       "  0.9677666425704956,\n",
       "  0.9682837724685669,\n",
       "  0.9686310887336731,\n",
       "  0.9711931347846985,\n",
       "  0.971634030342102,\n",
       "  0.9719289541244507,\n",
       "  0.9724369049072266,\n",
       "  0.973576009273529,\n",
       "  0.9738262891769409,\n",
       "  0.9747607111930847,\n",
       "  0.9749632477760315,\n",
       "  0.9752522110939026,\n",
       "  0.976481020450592,\n",
       "  0.9766272902488708,\n",
       "  0.9768571257591248,\n",
       "  0.9778527617454529,\n",
       "  0.9776261448860168,\n",
       "  0.9786012172698975,\n",
       "  0.9785462617874146,\n",
       "  0.9792454838752747,\n",
       "  0.9792362451553345,\n",
       "  0.979698657989502,\n",
       "  0.9794507026672363,\n",
       "  0.9802517890930176,\n",
       "  0.9806714653968811,\n",
       "  0.9811311960220337,\n",
       "  0.9815955758094788,\n",
       "  0.9813870191574097,\n",
       "  0.9817303419113159,\n",
       "  0.9819229245185852,\n",
       "  0.9824202060699463,\n",
       "  0.9825531840324402,\n",
       "  0.9826107621192932,\n",
       "  0.9832732081413269,\n",
       "  0.9830167293548584,\n",
       "  0.9831284880638123,\n",
       "  0.9836478233337402,\n",
       "  0.9836753010749817,\n",
       "  0.9834515452384949,\n",
       "  0.9840587377548218,\n",
       "  0.9844843149185181,\n",
       "  0.984298825263977,\n",
       "  0.9846834540367126,\n",
       "  0.9848331809043884,\n",
       "  0.984952449798584,\n",
       "  0.9853573441505432,\n",
       "  0.985369086265564,\n",
       "  0.9856308102607727,\n",
       "  0.985886812210083,\n",
       "  0.9859253168106079,\n",
       "  0.9857374429702759,\n",
       "  0.9865961670875549,\n",
       "  0.9863700866699219,\n",
       "  0.9865487217903137,\n",
       "  0.9864796996116638,\n",
       "  0.9868201017379761,\n",
       "  0.987146258354187,\n",
       "  0.9869216680526733,\n",
       "  0.9871100187301636,\n",
       "  0.9875166416168213,\n",
       "  0.9875032901763916,\n",
       "  0.9874386787414551,\n",
       "  0.9877598881721497,\n",
       "  0.987512469291687,\n",
       "  0.9879125952720642,\n",
       "  0.987845242023468,\n",
       "  0.9880728721618652,\n",
       "  0.9884382486343384,\n",
       "  0.9884948134422302,\n",
       "  0.9887412190437317,\n",
       "  0.9886426329612732,\n",
       "  0.9885225296020508,\n",
       "  0.9888313412666321,\n",
       "  0.9892426133155823,\n",
       "  0.9889114499092102,\n",
       "  0.9890764951705933,\n",
       "  0.9889772534370422,\n",
       "  0.9890466928482056],\n",
       " 'loss': [0.01472263503819704,\n",
       "  0.008378586731851101,\n",
       "  0.007297404110431671,\n",
       "  0.006687062326818705,\n",
       "  0.00624500960111618,\n",
       "  0.005888394545763731,\n",
       "  0.005595088005065918,\n",
       "  0.005318345967680216,\n",
       "  0.005032254848629236,\n",
       "  0.004901124630123377,\n",
       "  0.004742300137877464,\n",
       "  0.0045699975453317165,\n",
       "  0.004441147670149803,\n",
       "  0.004316598642617464,\n",
       "  0.004227783996611834,\n",
       "  0.004105768632143736,\n",
       "  0.0040123541839420795,\n",
       "  0.0039598639123141766,\n",
       "  0.0038725058548152447,\n",
       "  0.003776965430006385,\n",
       "  0.0036853740457445383,\n",
       "  0.003628565464168787,\n",
       "  0.0036180419847369194,\n",
       "  0.0035754821728914976,\n",
       "  0.003554831026121974,\n",
       "  0.0034125251695513725,\n",
       "  0.0033706463873386383,\n",
       "  0.0033474506344646215,\n",
       "  0.003319996176287532,\n",
       "  0.0032473455648869276,\n",
       "  0.0032314693089574575,\n",
       "  0.0031739233527332544,\n",
       "  0.00316430046223104,\n",
       "  0.003138925414532423,\n",
       "  0.003051979932934046,\n",
       "  0.0030417286325246096,\n",
       "  0.0030295588076114655,\n",
       "  0.0029611398931592703,\n",
       "  0.0029695353005081415,\n",
       "  0.0029029138386249542,\n",
       "  0.002912247786298394,\n",
       "  0.002860857406631112,\n",
       "  0.0028648683801293373,\n",
       "  0.002827203134074807,\n",
       "  0.002846167888492346,\n",
       "  0.0027803131379187107,\n",
       "  0.0027536870911717415,\n",
       "  0.0027192234992980957,\n",
       "  0.0026861894875764847,\n",
       "  0.0026928172446787357,\n",
       "  0.0026706077624112368,\n",
       "  0.002666124142706394,\n",
       "  0.0026234847027808428,\n",
       "  0.002614771481603384,\n",
       "  0.0026082259137183428,\n",
       "  0.0025540299247950315,\n",
       "  0.002572752768173814,\n",
       "  0.002562418580055237,\n",
       "  0.0025197421200573444,\n",
       "  0.0025235097855329514,\n",
       "  0.0025405408814549446,\n",
       "  0.0024786745198071003,\n",
       "  0.0024516277480870485,\n",
       "  0.0024692427832633257,\n",
       "  0.0024440507404506207,\n",
       "  0.002426863182336092,\n",
       "  0.002419929252937436,\n",
       "  0.002379236975684762,\n",
       "  0.0023777370806783438,\n",
       "  0.0023557075764983892,\n",
       "  0.002332541160285473,\n",
       "  0.002326249610632658,\n",
       "  0.002350384369492531,\n",
       "  0.002268536016345024,\n",
       "  0.0022971956059336662,\n",
       "  0.00228322995826602,\n",
       "  0.0022815123666077852,\n",
       "  0.0022522236686199903,\n",
       "  0.002224794588983059,\n",
       "  0.0022408708464354277,\n",
       "  0.0022271813359111547,\n",
       "  0.0021881263237446547,\n",
       "  0.0021934271790087223,\n",
       "  0.0021940297447144985,\n",
       "  0.002173390006646514,\n",
       "  0.002189971972256899,\n",
       "  0.002159413881599903,\n",
       "  0.002160121453925967,\n",
       "  0.002145536709576845,\n",
       "  0.0021069811191409826,\n",
       "  0.0020989214535802603,\n",
       "  0.002080159494653344,\n",
       "  0.0020937726367264986,\n",
       "  0.002093543065711856,\n",
       "  0.002078606281429529,\n",
       "  0.0020255902782082558,\n",
       "  0.002061704406514764,\n",
       "  0.002045408822596073,\n",
       "  0.002057726727798581,\n",
       "  0.002051495248451829],\n",
       " 'val_accuracy': [0.23256294429302216,\n",
       "  0.26578620076179504,\n",
       "  0.253198504447937,\n",
       "  0.26021459698677063,\n",
       "  0.2964300513267517,\n",
       "  0.26011142134666443,\n",
       "  0.2893107831478119,\n",
       "  0.2839455306529999,\n",
       "  0.27238959074020386,\n",
       "  0.2802311182022095,\n",
       "  0.26981014013290405,\n",
       "  0.2851836681365967,\n",
       "  0.31799420714378357,\n",
       "  0.28105655312538147,\n",
       "  0.30478745698928833,\n",
       "  0.31851011514663696,\n",
       "  0.2864218056201935,\n",
       "  0.3216054439544678,\n",
       "  0.27548494935035706,\n",
       "  0.3388361632823944,\n",
       "  0.30375567078590393,\n",
       "  0.27115145325660706,\n",
       "  0.3261452615261078,\n",
       "  0.2929219901561737,\n",
       "  0.31252580881118774,\n",
       "  0.27765166759490967,\n",
       "  0.2875567376613617,\n",
       "  0.3260420858860016,\n",
       "  0.2992158532142639,\n",
       "  0.30932727456092834,\n",
       "  0.2866281569004059,\n",
       "  0.32129591703414917,\n",
       "  0.27455633878707886,\n",
       "  0.3283120095729828,\n",
       "  0.3291374444961548,\n",
       "  0.30881139636039734,\n",
       "  0.2901361882686615,\n",
       "  0.31324803829193115,\n",
       "  0.30808913707733154,\n",
       "  0.2896203100681305,\n",
       "  0.2968427538871765,\n",
       "  0.335637629032135,\n",
       "  0.27858027815818787,\n",
       "  0.31768468022346497,\n",
       "  0.3276929557323456,\n",
       "  0.2903425395488739,\n",
       "  0.31582748889923096,\n",
       "  0.3394552171230316,\n",
       "  0.3291374444961548,\n",
       "  0.30416837334632874,\n",
       "  0.30695417523384094,\n",
       "  0.31654971837997437,\n",
       "  0.2950887382030487,\n",
       "  0.31572431325912476,\n",
       "  0.3206768333911896,\n",
       "  0.3315105140209198,\n",
       "  0.3348122239112854,\n",
       "  0.34492364525794983,\n",
       "  0.30994635820388794,\n",
       "  0.3682418465614319,\n",
       "  0.3242880702018738,\n",
       "  0.2794056832790375,\n",
       "  0.3006603419780731,\n",
       "  0.30839869379997253,\n",
       "  0.3303755819797516,\n",
       "  0.3358439803123474,\n",
       "  0.2962237000465393,\n",
       "  0.3226372301578522,\n",
       "  0.2921997606754303,\n",
       "  0.31727197766304016,\n",
       "  0.3226372301578522,\n",
       "  0.31675609946250916,\n",
       "  0.30839869379997253,\n",
       "  0.31324803829193115,\n",
       "  0.32005777955055237,\n",
       "  0.31355756521224976,\n",
       "  0.3314073383808136,\n",
       "  0.3271770477294922,\n",
       "  0.336463063955307,\n",
       "  0.31324803829193115,\n",
       "  0.30788278579711914,\n",
       "  0.31200990080833435,\n",
       "  0.31139084696769714,\n",
       "  0.3307882845401764,\n",
       "  0.3343994915485382,\n",
       "  0.336978942155838,\n",
       "  0.31097811460494995,\n",
       "  0.35420966148376465,\n",
       "  0.3341931402683258,\n",
       "  0.30798596143722534,\n",
       "  0.3304787576198578,\n",
       "  0.3301692008972168,\n",
       "  0.30489063262939453,\n",
       "  0.31489887833595276,\n",
       "  0.3697895109653473,\n",
       "  0.3241848945617676,\n",
       "  0.3338836133480072,\n",
       "  0.31737515330314636,\n",
       "  0.3315105140209198,\n",
       "  0.30829548835754395],\n",
       " 'val_auc': [0.85373854637146,\n",
       "  0.8866382837295532,\n",
       "  0.8826223015785217,\n",
       "  0.9274479150772095,\n",
       "  0.944839358329773,\n",
       "  0.9380234479904175,\n",
       "  0.9542205333709717,\n",
       "  0.9400898218154907,\n",
       "  0.9521640539169312,\n",
       "  0.9670791625976562,\n",
       "  0.9532572627067566,\n",
       "  0.9711484313011169,\n",
       "  0.9657519459724426,\n",
       "  0.9603721499443054,\n",
       "  0.978085994720459,\n",
       "  0.9693150520324707,\n",
       "  0.9728269577026367,\n",
       "  0.981651782989502,\n",
       "  0.9785698652267456,\n",
       "  0.9809544682502747,\n",
       "  0.9855861663818359,\n",
       "  0.9808363318443298,\n",
       "  0.9818298816680908,\n",
       "  0.9839184880256653,\n",
       "  0.9868216514587402,\n",
       "  0.9839895963668823,\n",
       "  0.9854217767715454,\n",
       "  0.9876822829246521,\n",
       "  0.9902202486991882,\n",
       "  0.9890717267990112,\n",
       "  0.9866010546684265,\n",
       "  0.986896276473999,\n",
       "  0.9858076572418213,\n",
       "  0.9895025491714478,\n",
       "  0.990111768245697,\n",
       "  0.9884234666824341,\n",
       "  0.9860488176345825,\n",
       "  0.9883499145507812,\n",
       "  0.9892898201942444,\n",
       "  0.9900039434432983,\n",
       "  0.9920864701271057,\n",
       "  0.9911407232284546,\n",
       "  0.9891219735145569,\n",
       "  0.9899829030036926,\n",
       "  0.9910978078842163,\n",
       "  0.9927091002464294,\n",
       "  0.992586076259613,\n",
       "  0.9931069612503052,\n",
       "  0.9925954937934875,\n",
       "  0.9923564791679382,\n",
       "  0.9914568662643433,\n",
       "  0.9913191199302673,\n",
       "  0.9915430545806885,\n",
       "  0.992908239364624,\n",
       "  0.9931727051734924,\n",
       "  0.993390679359436,\n",
       "  0.9928210973739624,\n",
       "  0.9936579465866089,\n",
       "  0.9925714731216431,\n",
       "  0.9923075437545776,\n",
       "  0.9930392503738403,\n",
       "  0.9909552335739136,\n",
       "  0.9926326870918274,\n",
       "  0.9918899536132812,\n",
       "  0.9944483637809753,\n",
       "  0.9936465620994568,\n",
       "  0.993406355381012,\n",
       "  0.9943954944610596,\n",
       "  0.9930747747421265,\n",
       "  0.9944775700569153,\n",
       "  0.994594156742096,\n",
       "  0.9948358535766602,\n",
       "  0.9942044019699097,\n",
       "  0.9951174259185791,\n",
       "  0.9953436851501465,\n",
       "  0.9949162602424622,\n",
       "  0.9948543906211853,\n",
       "  0.9942803382873535,\n",
       "  0.9956541061401367,\n",
       "  0.9954503774642944,\n",
       "  0.9949490427970886,\n",
       "  0.9938715100288391,\n",
       "  0.9957445859909058,\n",
       "  0.995994508266449,\n",
       "  0.9958146214485168,\n",
       "  0.9938024282455444,\n",
       "  0.9951151609420776,\n",
       "  0.9953948855400085,\n",
       "  0.994874119758606,\n",
       "  0.9956651329994202,\n",
       "  0.9936261177062988,\n",
       "  0.9963417053222656,\n",
       "  0.9954972863197327,\n",
       "  0.9951343536376953,\n",
       "  0.9943780899047852,\n",
       "  0.9950244426727295,\n",
       "  0.9964056015014648,\n",
       "  0.9953669309616089,\n",
       "  0.9961546659469604,\n",
       "  0.9959164261817932],\n",
       " 'val_loss': [0.006953321862965822,\n",
       "  0.006418881006538868,\n",
       "  0.006482994183897972,\n",
       "  0.004940872546285391,\n",
       "  0.004511882085353136,\n",
       "  0.004506627097725868,\n",
       "  0.0038014978636056185,\n",
       "  0.004550940822809935,\n",
       "  0.004238738678395748,\n",
       "  0.0034268281888216734,\n",
       "  0.004041906446218491,\n",
       "  0.0034497000742703676,\n",
       "  0.003272182773798704,\n",
       "  0.003752638353034854,\n",
       "  0.0028984774835407734,\n",
       "  0.003274159738793969,\n",
       "  0.0032805250957608223,\n",
       "  0.002440549898892641,\n",
       "  0.002745622768998146,\n",
       "  0.0024832801427692175,\n",
       "  0.0021273340098559856,\n",
       "  0.002762233605608344,\n",
       "  0.002407363150268793,\n",
       "  0.0022640093229711056,\n",
       "  0.0021334700286388397,\n",
       "  0.0023559408728033304,\n",
       "  0.002171124564483762,\n",
       "  0.002074874471873045,\n",
       "  0.001926483935676515,\n",
       "  0.0018170451512560248,\n",
       "  0.002270652912557125,\n",
       "  0.0021100984886288643,\n",
       "  0.0022897960152477026,\n",
       "  0.0019330696668475866,\n",
       "  0.0019100465578958392,\n",
       "  0.0020583909936249256,\n",
       "  0.0022722166031599045,\n",
       "  0.0019676752854138613,\n",
       "  0.0020013016182929277,\n",
       "  0.00190457992721349,\n",
       "  0.001774861360900104,\n",
       "  0.0019541990477591753,\n",
       "  0.0019846768118441105,\n",
       "  0.0019123079255223274,\n",
       "  0.0018124189227819443,\n",
       "  0.0017057708464562893,\n",
       "  0.0015965010970830917,\n",
       "  0.001474665361456573,\n",
       "  0.0015720146475359797,\n",
       "  0.0015496117994189262,\n",
       "  0.001719875494018197,\n",
       "  0.0017528237076476216,\n",
       "  0.001915243687108159,\n",
       "  0.0016593511682003736,\n",
       "  0.0015616341261193156,\n",
       "  0.0014628240605816245,\n",
       "  0.0014749664114788175,\n",
       "  0.0014561160933226347,\n",
       "  0.001676815445534885,\n",
       "  0.0015321077080443501,\n",
       "  0.0015734644839540124,\n",
       "  0.0017396524781361222,\n",
       "  0.0015167971141636372,\n",
       "  0.0017094971844926476,\n",
       "  0.001261517172679305,\n",
       "  0.0016323232557624578,\n",
       "  0.0014312128769233823,\n",
       "  0.0013166442513465881,\n",
       "  0.001567161176353693,\n",
       "  0.0014670632081106305,\n",
       "  0.0014130694326013327,\n",
       "  0.001236535725183785,\n",
       "  0.0014106978196650743,\n",
       "  0.001250984612852335,\n",
       "  0.001212002243846655,\n",
       "  0.0014040421228855848,\n",
       "  0.001235547591932118,\n",
       "  0.0014680813765153289,\n",
       "  0.0012003136798739433,\n",
       "  0.001261219964362681,\n",
       "  0.0012730286689475179,\n",
       "  0.0014512696070596576,\n",
       "  0.0011487933807075024,\n",
       "  0.0011748248944059014,\n",
       "  0.0011811292497441173,\n",
       "  0.0014178154524415731,\n",
       "  0.00130001874640584,\n",
       "  0.001173076219856739,\n",
       "  0.0013176368083804846,\n",
       "  0.0012603850336745381,\n",
       "  0.0014291293919086456,\n",
       "  0.0010667721508070827,\n",
       "  0.0012958046281710267,\n",
       "  0.001239785342477262,\n",
       "  0.0013836579164490104,\n",
       "  0.0012098354054614902,\n",
       "  0.0011900693643838167,\n",
       "  0.0013498797779902816,\n",
       "  0.0010763107566162944,\n",
       "  0.001207428053021431]}"
      ]
     },
     "execution_count": 26,
     "metadata": {},
     "output_type": "execute_result"
    }
   ],
   "source": [
    "history.history"
   ]
  },
  {
   "cell_type": "code",
   "execution_count": 27,
   "id": "d0c42473",
   "metadata": {
    "execution": {
     "iopub.execute_input": "2024-07-16T13:20:56.348782Z",
     "iopub.status.busy": "2024-07-16T13:20:56.348113Z",
     "iopub.status.idle": "2024-07-16T13:20:56.923762Z",
     "shell.execute_reply": "2024-07-16T13:20:56.922841Z"
    },
    "papermill": {
     "duration": 11.354596,
     "end_time": "2024-07-16T13:20:56.926397",
     "exception": false,
     "start_time": "2024-07-16T13:20:45.571801",
     "status": "completed"
    },
    "tags": []
   },
   "outputs": [
    {
     "data": {
      "image/png": "[encoded data removed]",
      "text/plain": [
       "<Figure size 1200x400 with 3 Axes>"
      ]
     },
     "metadata": {},
     "output_type": "display_data"
    }
   ],
   "source": [
    "import matplotlib.pyplot as plt\n",
    "\n",
    "# Extracting data from history\n",
    "acc = history.history['accuracy']\n",
    "val_acc = history.history['val_accuracy']\n",
    "loss = history.history['loss']\n",
    "val_loss = history.history['val_loss']\n",
    "pr_metric = history.history['auc']\n",
    "val_pr_metric = history.history['val_auc']\n",
    "\n",
    "epochs_range = range(len(acc))\n",
    "\n",
    "# Plotting accuracy\n",
    "plt.figure(figsize=(12, 4))\n",
    "plt.subplot(1, 3, 1)\n",
    "plt.plot(epochs_range, acc, label='Training Accuracy')\n",
    "plt.plot(epochs_range, val_acc, label='Validation Accuracy')\n",
    "plt.legend(loc='lower right')\n",
    "plt.title('Training and Validation Accuracy')\n",
    "\n",
    "# Plotting loss\n",
    "plt.subplot(1, 3, 2)\n",
    "plt.plot(epochs_range, loss, label='Training Loss')\n",
    "plt.plot(epochs_range, val_loss, label='Validation Loss')\n",
    "plt.legend(loc='upper right')\n",
    "plt.title('Training and Validation Loss')\n",
    "\n",
    "# Plotting PR metric\n",
    "plt.subplot(1, 3, 3)\n",
    "plt.plot(epochs_range, pr_metric, label='Training PR Metric')\n",
    "plt.plot(epochs_range, val_pr_metric, label='Validation PR Metric')\n",
    "plt.legend(loc='lower right')\n",
    "plt.title('Training and Validation PR Metric')\n",
    "\n",
    "plt.show()\n"
   ]
  },
  {
   "cell_type": "code",
   "execution_count": 28,
   "id": "84a168dc",
   "metadata": {
    "execution": {
     "iopub.execute_input": "2024-07-16T13:21:18.176051Z",
     "iopub.status.busy": "2024-07-16T13:21:18.175479Z",
     "iopub.status.idle": "2024-07-16T13:21:18.359642Z",
     "shell.execute_reply": "2024-07-16T13:21:18.358838Z"
    },
    "papermill": {
     "duration": 10.879717,
     "end_time": "2024-07-16T13:21:18.362090",
     "exception": false,
     "start_time": "2024-07-16T13:21:07.482373",
     "status": "completed"
    },
    "tags": []
   },
   "outputs": [],
   "source": [
    "model.save('vit.keras')"
   ]
  },
  {
   "cell_type": "code",
   "execution_count": null,
   "id": "1edf6817",
   "metadata": {
    "papermill": {
     "duration": 10.572952,
     "end_time": "2024-07-16T13:21:39.702275",
     "exception": false,
     "start_time": "2024-07-16T13:21:29.129323",
     "status": "completed"
    },
    "tags": []
   },
   "outputs": [],
   "source": []
  }
 ],
 "metadata": {
  "kaggle": {
   "accelerator": "gpu",
   "dataSources": [
    {
     "datasetId": 5284531,
     "sourceId": 8789836,
     "sourceType": "datasetVersion"
    },
    {
     "datasetId": 5319795,
     "sourceId": 8839596,
     "sourceType": "datasetVersion"
    }
   ],
   "dockerImageVersionId": 30747,
   "isGpuEnabled": true,
   "isInternetEnabled": true,
   "language": "python",
   "sourceType": "notebook"
  },
  "kernelspec": {
   "display_name": "Python 3",
   "language": "python",
   "name": "python3"
  },
  "language_info": {
   "codemirror_mode": {
    "name": "ipython",
    "version": 3
   },
   "file_extension": ".py",
   "mimetype": "text/x-python",
   "name": "python",
   "nbconvert_exporter": "python",
   "pygments_lexer": "ipython3",
   "version": "3.10.13"
  },
  "papermill": {
   "default_parameters": {},
   "duration": 29290.059488,
   "end_time": "2024-07-16T13:21:54.685891",
   "environment_variables": {},
   "exception": null,
   "input_path": "__notebook__.ipynb",
   "output_path": "__notebook__.ipynb",
   "parameters": {},
   "start_time": "2024-07-16T05:13:44.626403",
   "version": "2.5.0"
  },
  "widgets": {
   "application/vnd.jupyter.widget-state+json": {
    "state": {
     "1302492135e44464b6f426060a452173": {
      "model_module": "@jupyter-widgets/base",
      "model_module_version": "1.2.0",
      "model_name": "LayoutModel",
      "state": {
       "_model_module": "@jupyter-widgets/base",
       "_model_module_version": "1.2.0",
       "_model_name": "LayoutModel",
       "_view_count": null,
       "_view_module": "@jupyter-widgets/base",
       "_view_module_version": "1.2.0",
       "_view_name": "LayoutView",
       "align_content": null,
       "align_items": null,
       "align_self": null,
       "border": null,
       "bottom": null,
       "display": null,
       "flex": null,
       "flex_flow": null,
       "grid_area": null,
       "grid_auto_columns": null,
       "grid_auto_flow": null,
       "grid_auto_rows": null,
       "grid_column": null,
       "grid_gap": null,
       "grid_row": null,
       "grid_template_areas": null,
       "grid_template_columns": null,
       "grid_template_rows": null,
       "height": null,
       "justify_content": null,
       "justify_items": null,
       "left": null,
       "margin": null,
       "max_height": null,
       "max_width": null,
       "min_height": null,
       "min_width": null,
       "object_fit": null,
       "object_position": null,
       "order": null,
       "overflow": null,
       "overflow_x": null,
       "overflow_y": null,
       "padding": null,
       "right": null,
       "top": null,
       "visibility": null,
       "width": null
      }
     },
     "18158c13ab1c458781cc2de79f78e081": {
      "model_module": "@jupyter-widgets/controls",
      "model_module_version": "1.5.0",
      "model_name": "HBoxModel",
      "state": {
       "_dom_classes": [],
       "_model_module": "@jupyter-widgets/controls",
       "_model_module_version": "1.5.0",
       "_model_name": "HBoxModel",
       "_view_count": null,
       "_view_module": "@jupyter-widgets/controls",
       "_view_module_version": "1.5.0",
       "_view_name": "HBoxView",
       "box_style": "",
       "children": [
        "IPY_MODEL_5099b0c670b7420ab8a60a9fca6c1ec5",
        "IPY_MODEL_51086d02669e45f8b10d671f7e542237",
        "IPY_MODEL_7971b3a1a03d435a8ed6eb9edf07e532"
       ],
       "layout": "IPY_MODEL_d7c0eae8480e413aaabe4728db363be2"
      }
     },
     "1ea49a45fe104466aa3a045da9d04a9f": {
      "model_module": "@jupyter-widgets/controls",
      "model_module_version": "1.5.0",
      "model_name": "DescriptionStyleModel",
      "state": {
       "_model_module": "@jupyter-widgets/controls",
       "_model_module_version": "1.5.0",
       "_model_name": "DescriptionStyleModel",
       "_view_count": null,
       "_view_module": "@jupyter-widgets/base",
       "_view_module_version": "1.2.0",
       "_view_name": "StyleView",
       "description_width": ""
      }
     },
     "1eeea1bb7f814fc6b1c1901cdbe8f52c": {
      "model_module": "@jupyter-widgets/controls",
      "model_module_version": "1.5.0",
      "model_name": "ProgressStyleModel",
      "state": {
       "_model_module": "@jupyter-widgets/controls",
       "_model_module_version": "1.5.0",
       "_model_name": "ProgressStyleModel",
       "_view_count": null,
       "_view_module": "@jupyter-widgets/base",
       "_view_module_version": "1.2.0",
       "_view_name": "StyleView",
       "bar_color": null,
       "description_width": ""
      }
     },
     "1efe24dc2819496abbee8abd31b7cc77": {
      "model_module": "@jupyter-widgets/controls",
      "model_module_version": "1.5.0",
      "model_name": "HBoxModel",
      "state": {
       "_dom_classes": [],
       "_model_module": "@jupyter-widgets/controls",
       "_model_module_version": "1.5.0",
       "_model_name": "HBoxModel",
       "_view_count": null,
       "_view_module": "@jupyter-widgets/controls",
       "_view_module_version": "1.5.0",
       "_view_name": "HBoxView",
       "box_style": "",
       "children": [
        "IPY_MODEL_3ea67a6105ff4899bb8be76c2a28f564",
        "IPY_MODEL_a9ce9b6ae3df46f6a3cc38f8cb7e7bee",
        "IPY_MODEL_b1796e3c5ded40d3a3d9d2a5292bb94f"
       ],
       "layout": "IPY_MODEL_8f17a0469ce145de839605a3473823e8"
      }
     },
     "20148efbaa5140dab6c7dd83e5d0fcf2": {
      "model_module": "@jupyter-widgets/controls",
      "model_module_version": "1.5.0",
      "model_name": "DescriptionStyleModel",
      "state": {
       "_model_module": "@jupyter-widgets/controls",
       "_model_module_version": "1.5.0",
       "_model_name": "DescriptionStyleModel",
       "_view_count": null,
       "_view_module": "@jupyter-widgets/base",
       "_view_module_version": "1.2.0",
       "_view_name": "StyleView",
       "description_width": ""
      }
     },
     "2eb70a2cba7941a9ba913e87c2238333": {
      "model_module": "@jupyter-widgets/controls",
      "model_module_version": "1.5.0",
      "model_name": "HTMLModel",
      "state": {
       "_dom_classes": [],
       "_model_module": "@jupyter-widgets/controls",
       "_model_module_version": "1.5.0",
       "_model_name": "HTMLModel",
       "_view_count": null,
       "_view_module": "@jupyter-widgets/controls",
       "_view_module_version": "1.5.0",
       "_view_name": "HTMLView",
       "description": "",
       "description_tooltip": null,
       "layout": "IPY_MODEL_b24a21012fed4624a5407281be5f163c",
       "placeholder": "​",
       "style": "IPY_MODEL_ea9c11c6859344a8be487344946f1906",
       "value": "model.safetensors: 100%"
      }
     },
     "369f9e037f3d48ed973bc1b7b4a44d56": {
      "model_module": "@jupyter-widgets/base",
      "model_module_version": "1.2.0",
      "model_name": "LayoutModel",
      "state": {
       "_model_module": "@jupyter-widgets/base",
       "_model_module_version": "1.2.0",
       "_model_name": "LayoutModel",
       "_view_count": null,
       "_view_module": "@jupyter-widgets/base",
       "_view_module_version": "1.2.0",
       "_view_name": "LayoutView",
       "align_content": null,
       "align_items": null,
       "align_self": null,
       "border": null,
       "bottom": null,
       "display": null,
       "flex": null,
       "flex_flow": null,
       "grid_area": null,
       "grid_auto_columns": null,
       "grid_auto_flow": null,
       "grid_auto_rows": null,
       "grid_column": null,
       "grid_gap": null,
       "grid_row": null,
       "grid_template_areas": null,
       "grid_template_columns": null,
       "grid_template_rows": null,
       "height": null,
       "justify_content": null,
       "justify_items": null,
       "left": null,
       "margin": null,
       "max_height": null,
       "max_width": null,
       "min_height": null,
       "min_width": null,
       "object_fit": null,
       "object_position": null,
       "order": null,
       "overflow": null,
       "overflow_x": null,
       "overflow_y": null,
       "padding": null,
       "right": null,
       "top": null,
       "visibility": null,
       "width": null
      }
     },
     "3ea67a6105ff4899bb8be76c2a28f564": {
      "model_module": "@jupyter-widgets/controls",
      "model_module_version": "1.5.0",
      "model_name": "HTMLModel",
      "state": {
       "_dom_classes": [],
       "_model_module": "@jupyter-widgets/controls",
       "_model_module_version": "1.5.0",
       "_model_name": "HTMLModel",
       "_view_count": null,
       "_view_module": "@jupyter-widgets/controls",
       "_view_module_version": "1.5.0",
       "_view_name": "HTMLView",
       "description": "",
       "description_tooltip": null,
       "layout": "IPY_MODEL_1302492135e44464b6f426060a452173",
       "placeholder": "​",
       "style": "IPY_MODEL_90680e3857b14ef1bcb2a7fa750c717a",
       "value": "preprocessor_config.json: 100%"
      }
     },
     "4b49153a3d5744109d29e9326d09010e": {
      "model_module": "@jupyter-widgets/controls",
      "model_module_version": "1.5.0",
      "model_name": "ProgressStyleModel",
      "state": {
       "_model_module": "@jupyter-widgets/controls",
       "_model_module_version": "1.5.0",
       "_model_name": "ProgressStyleModel",
       "_view_count": null,
       "_view_module": "@jupyter-widgets/base",
       "_view_module_version": "1.2.0",
       "_view_name": "StyleView",
       "bar_color": null,
       "description_width": ""
      }
     },
     "4df5832a601947a1867d76fec1c81f19": {
      "model_module": "@jupyter-widgets/base",
      "model_module_version": "1.2.0",
      "model_name": "LayoutModel",
      "state": {
       "_model_module": "@jupyter-widgets/base",
       "_model_module_version": "1.2.0",
       "_model_name": "LayoutModel",
       "_view_count": null,
       "_view_module": "@jupyter-widgets/base",
       "_view_module_version": "1.2.0",
       "_view_name": "LayoutView",
       "align_content": null,
       "align_items": null,
       "align_self": null,
       "border": null,
       "bottom": null,
       "display": null,
       "flex": null,
       "flex_flow": null,
       "grid_area": null,
       "grid_auto_columns": null,
       "grid_auto_flow": null,
       "grid_auto_rows": null,
       "grid_column": null,
       "grid_gap": null,
       "grid_row": null,
       "grid_template_areas": null,
       "grid_template_columns": null,
       "grid_template_rows": null,
       "height": null,
       "justify_content": null,
       "justify_items": null,
       "left": null,
       "margin": null,
       "max_height": null,
       "max_width": null,
       "min_height": null,
       "min_width": null,
       "object_fit": null,
       "object_position": null,
       "order": null,
       "overflow": null,
       "overflow_x": null,
       "overflow_y": null,
       "padding": null,
       "right": null,
       "top": null,
       "visibility": null,
       "width": null
      }
     },
     "5099b0c670b7420ab8a60a9fca6c1ec5": {
      "model_module": "@jupyter-widgets/controls",
      "model_module_version": "1.5.0",
      "model_name": "HTMLModel",
      "state": {
       "_dom_classes": [],
       "_model_module": "@jupyter-widgets/controls",
       "_model_module_version": "1.5.0",
       "_model_name": "HTMLModel",
       "_view_count": null,
       "_view_module": "@jupyter-widgets/controls",
       "_view_module_version": "1.5.0",
       "_view_name": "HTMLView",
       "description": "",
       "description_tooltip": null,
       "layout": "IPY_MODEL_81b5f63338fb4ec68debcd077326f4db",
       "placeholder": "​",
       "style": "IPY_MODEL_1ea49a45fe104466aa3a045da9d04a9f",
       "value": "config.json: 100%"
      }
     },
     "51086d02669e45f8b10d671f7e542237": {
      "model_module": "@jupyter-widgets/controls",
      "model_module_version": "1.5.0",
      "model_name": "FloatProgressModel",
      "state": {
       "_dom_classes": [],
       "_model_module": "@jupyter-widgets/controls",
       "_model_module_version": "1.5.0",
       "_model_name": "FloatProgressModel",
       "_view_count": null,
       "_view_module": "@jupyter-widgets/controls",
       "_view_module_version": "1.5.0",
       "_view_name": "ProgressView",
       "bar_style": "success",
       "description": "",
       "description_tooltip": null,
       "layout": "IPY_MODEL_4df5832a601947a1867d76fec1c81f19",
       "max": 69665.0,
       "min": 0.0,
       "orientation": "horizontal",
       "style": "IPY_MODEL_83508a37a4214b0ebfa09b69fd77cb16",
       "value": 69665.0
      }
     },
     "5629864dfcad4b95ab588c2e5383f111": {
      "model_module": "@jupyter-widgets/base",
      "model_module_version": "1.2.0",
      "model_name": "LayoutModel",
      "state": {
       "_model_module": "@jupyter-widgets/base",
       "_model_module_version": "1.2.0",
       "_model_name": "LayoutModel",
       "_view_count": null,
       "_view_module": "@jupyter-widgets/base",
       "_view_module_version": "1.2.0",
       "_view_name": "LayoutView",
       "align_content": null,
       "align_items": null,
       "align_self": null,
       "border": null,
       "bottom": null,
       "display": null,
       "flex": null,
       "flex_flow": null,
       "grid_area": null,
       "grid_auto_columns": null,
       "grid_auto_flow": null,
       "grid_auto_rows": null,
       "grid_column": null,
       "grid_gap": null,
       "grid_row": null,
       "grid_template_areas": null,
       "grid_template_columns": null,
       "grid_template_rows": null,
       "height": null,
       "justify_content": null,
       "justify_items": null,
       "left": null,
       "margin": null,
       "max_height": null,
       "max_width": null,
       "min_height": null,
       "min_width": null,
       "object_fit": null,
       "object_position": null,
       "order": null,
       "overflow": null,
       "overflow_x": null,
       "overflow_y": null,
       "padding": null,
       "right": null,
       "top": null,
       "visibility": null,
       "width": null
      }
     },
     "64826ff9975f4db7aa77d30c224b0624": {
      "model_module": "@jupyter-widgets/controls",
      "model_module_version": "1.5.0",
      "model_name": "DescriptionStyleModel",
      "state": {
       "_model_module": "@jupyter-widgets/controls",
       "_model_module_version": "1.5.0",
       "_model_name": "DescriptionStyleModel",
       "_view_count": null,
       "_view_module": "@jupyter-widgets/base",
       "_view_module_version": "1.2.0",
       "_view_name": "StyleView",
       "description_width": ""
      }
     },
     "7323a338028b41da87ceef465356e3ee": {
      "model_module": "@jupyter-widgets/controls",
      "model_module_version": "1.5.0",
      "model_name": "HTMLModel",
      "state": {
       "_dom_classes": [],
       "_model_module": "@jupyter-widgets/controls",
       "_model_module_version": "1.5.0",
       "_model_name": "HTMLModel",
       "_view_count": null,
       "_view_module": "@jupyter-widgets/controls",
       "_view_module_version": "1.5.0",
       "_view_name": "HTMLView",
       "description": "",
       "description_tooltip": null,
       "layout": "IPY_MODEL_369f9e037f3d48ed973bc1b7b4a44d56",
       "placeholder": "​",
       "style": "IPY_MODEL_64826ff9975f4db7aa77d30c224b0624",
       "value": " 346M/346M [00:05&lt;00:00, 60.4MB/s]"
      }
     },
     "754139920e154a168d147a064f7a0aa5": {
      "model_module": "@jupyter-widgets/base",
      "model_module_version": "1.2.0",
      "model_name": "LayoutModel",
      "state": {
       "_model_module": "@jupyter-widgets/base",
       "_model_module_version": "1.2.0",
       "_model_name": "LayoutModel",
       "_view_count": null,
       "_view_module": "@jupyter-widgets/base",
       "_view_module_version": "1.2.0",
       "_view_name": "LayoutView",
       "align_content": null,
       "align_items": null,
       "align_self": null,
       "border": null,
       "bottom": null,
       "display": null,
       "flex": null,
       "flex_flow": null,
       "grid_area": null,
       "grid_auto_columns": null,
       "grid_auto_flow": null,
       "grid_auto_rows": null,
       "grid_column": null,
       "grid_gap": null,
       "grid_row": null,
       "grid_template_areas": null,
       "grid_template_columns": null,
       "grid_template_rows": null,
       "height": null,
       "justify_content": null,
       "justify_items": null,
       "left": null,
       "margin": null,
       "max_height": null,
       "max_width": null,
       "min_height": null,
       "min_width": null,
       "object_fit": null,
       "object_position": null,
       "order": null,
       "overflow": null,
       "overflow_x": null,
       "overflow_y": null,
       "padding": null,
       "right": null,
       "top": null,
       "visibility": null,
       "width": null
      }
     },
     "773d504c153d48849a0b862f2de91877": {
      "model_module": "@jupyter-widgets/controls",
      "model_module_version": "1.5.0",
      "model_name": "HBoxModel",
      "state": {
       "_dom_classes": [],
       "_model_module": "@jupyter-widgets/controls",
       "_model_module_version": "1.5.0",
       "_model_name": "HBoxModel",
       "_view_count": null,
       "_view_module": "@jupyter-widgets/controls",
       "_view_module_version": "1.5.0",
       "_view_name": "HBoxView",
       "box_style": "",
       "children": [
        "IPY_MODEL_2eb70a2cba7941a9ba913e87c2238333",
        "IPY_MODEL_f0f928fa81464a0b84589412488f7390",
        "IPY_MODEL_7323a338028b41da87ceef465356e3ee"
       ],
       "layout": "IPY_MODEL_5629864dfcad4b95ab588c2e5383f111"
      }
     },
     "7971b3a1a03d435a8ed6eb9edf07e532": {
      "model_module": "@jupyter-widgets/controls",
      "model_module_version": "1.5.0",
      "model_name": "HTMLModel",
      "state": {
       "_dom_classes": [],
       "_model_module": "@jupyter-widgets/controls",
       "_model_module_version": "1.5.0",
       "_model_name": "HTMLModel",
       "_view_count": null,
       "_view_module": "@jupyter-widgets/controls",
       "_view_module_version": "1.5.0",
       "_view_name": "HTMLView",
       "description": "",
       "description_tooltip": null,
       "layout": "IPY_MODEL_9f7867616d6e451bb0006a61381183fb",
       "placeholder": "​",
       "style": "IPY_MODEL_7e87ffc31d0549baa93481e05309499e",
       "value": " 69.7k/69.7k [00:00&lt;00:00, 410kB/s]"
      }
     },
     "7e87ffc31d0549baa93481e05309499e": {
      "model_module": "@jupyter-widgets/controls",
      "model_module_version": "1.5.0",
      "model_name": "DescriptionStyleModel",
      "state": {
       "_model_module": "@jupyter-widgets/controls",
       "_model_module_version": "1.5.0",
       "_model_name": "DescriptionStyleModel",
       "_view_count": null,
       "_view_module": "@jupyter-widgets/base",
       "_view_module_version": "1.2.0",
       "_view_name": "StyleView",
       "description_width": ""
      }
     },
     "81b5f63338fb4ec68debcd077326f4db": {
      "model_module": "@jupyter-widgets/base",
      "model_module_version": "1.2.0",
      "model_name": "LayoutModel",
      "state": {
       "_model_module": "@jupyter-widgets/base",
       "_model_module_version": "1.2.0",
       "_model_name": "LayoutModel",
       "_view_count": null,
       "_view_module": "@jupyter-widgets/base",
       "_view_module_version": "1.2.0",
       "_view_name": "LayoutView",
       "align_content": null,
       "align_items": null,
       "align_self": null,
       "border": null,
       "bottom": null,
       "display": null,
       "flex": null,
       "flex_flow": null,
       "grid_area": null,
       "grid_auto_columns": null,
       "grid_auto_flow": null,
       "grid_auto_rows": null,
       "grid_column": null,
       "grid_gap": null,
       "grid_row": null,
       "grid_template_areas": null,
       "grid_template_columns": null,
       "grid_template_rows": null,
       "height": null,
       "justify_content": null,
       "justify_items": null,
       "left": null,
       "margin": null,
       "max_height": null,
       "max_width": null,
       "min_height": null,
       "min_width": null,
       "object_fit": null,
       "object_position": null,
       "order": null,
       "overflow": null,
       "overflow_x": null,
       "overflow_y": null,
       "padding": null,
       "right": null,
       "top": null,
       "visibility": null,
       "width": null
      }
     },
     "83508a37a4214b0ebfa09b69fd77cb16": {
      "model_module": "@jupyter-widgets/controls",
      "model_module_version": "1.5.0",
      "model_name": "ProgressStyleModel",
      "state": {
       "_model_module": "@jupyter-widgets/controls",
       "_model_module_version": "1.5.0",
       "_model_name": "ProgressStyleModel",
       "_view_count": null,
       "_view_module": "@jupyter-widgets/base",
       "_view_module_version": "1.2.0",
       "_view_name": "StyleView",
       "bar_color": null,
       "description_width": ""
      }
     },
     "8f17a0469ce145de839605a3473823e8": {
      "model_module": "@jupyter-widgets/base",
      "model_module_version": "1.2.0",
      "model_name": "LayoutModel",
      "state": {
       "_model_module": "@jupyter-widgets/base",
       "_model_module_version": "1.2.0",
       "_model_name": "LayoutModel",
       "_view_count": null,
       "_view_module": "@jupyter-widgets/base",
       "_view_module_version": "1.2.0",
       "_view_name": "LayoutView",
       "align_content": null,
       "align_items": null,
       "align_self": null,
       "border": null,
       "bottom": null,
       "display": null,
       "flex": null,
       "flex_flow": null,
       "grid_area": null,
       "grid_auto_columns": null,
       "grid_auto_flow": null,
       "grid_auto_rows": null,
       "grid_column": null,
       "grid_gap": null,
       "grid_row": null,
       "grid_template_areas": null,
       "grid_template_columns": null,
       "grid_template_rows": null,
       "height": null,
       "justify_content": null,
       "justify_items": null,
       "left": null,
       "margin": null,
       "max_height": null,
       "max_width": null,
       "min_height": null,
       "min_width": null,
       "object_fit": null,
       "object_position": null,
       "order": null,
       "overflow": null,
       "overflow_x": null,
       "overflow_y": null,
       "padding": null,
       "right": null,
       "top": null,
       "visibility": null,
       "width": null
      }
     },
     "90680e3857b14ef1bcb2a7fa750c717a": {
      "model_module": "@jupyter-widgets/controls",
      "model_module_version": "1.5.0",
      "model_name": "DescriptionStyleModel",
      "state": {
       "_model_module": "@jupyter-widgets/controls",
       "_model_module_version": "1.5.0",
       "_model_name": "DescriptionStyleModel",
       "_view_count": null,
       "_view_module": "@jupyter-widgets/base",
       "_view_module_version": "1.2.0",
       "_view_name": "StyleView",
       "description_width": ""
      }
     },
     "9f7867616d6e451bb0006a61381183fb": {
      "model_module": "@jupyter-widgets/base",
      "model_module_version": "1.2.0",
      "model_name": "LayoutModel",
      "state": {
       "_model_module": "@jupyter-widgets/base",
       "_model_module_version": "1.2.0",
       "_model_name": "LayoutModel",
       "_view_count": null,
       "_view_module": "@jupyter-widgets/base",
       "_view_module_version": "1.2.0",
       "_view_name": "LayoutView",
       "align_content": null,
       "align_items": null,
       "align_self": null,
       "border": null,
       "bottom": null,
       "display": null,
       "flex": null,
       "flex_flow": null,
       "grid_area": null,
       "grid_auto_columns": null,
       "grid_auto_flow": null,
       "grid_auto_rows": null,
       "grid_column": null,
       "grid_gap": null,
       "grid_row": null,
       "grid_template_areas": null,
       "grid_template_columns": null,
       "grid_template_rows": null,
       "height": null,
       "justify_content": null,
       "justify_items": null,
       "left": null,
       "margin": null,
       "max_height": null,
       "max_width": null,
       "min_height": null,
       "min_width": null,
       "object_fit": null,
       "object_position": null,
       "order": null,
       "overflow": null,
       "overflow_x": null,
       "overflow_y": null,
       "padding": null,
       "right": null,
       "top": null,
       "visibility": null,
       "width": null
      }
     },
     "a55925da25284c42bdfebc7651614f92": {
      "model_module": "@jupyter-widgets/base",
      "model_module_version": "1.2.0",
      "model_name": "LayoutModel",
      "state": {
       "_model_module": "@jupyter-widgets/base",
       "_model_module_version": "1.2.0",
       "_model_name": "LayoutModel",
       "_view_count": null,
       "_view_module": "@jupyter-widgets/base",
       "_view_module_version": "1.2.0",
       "_view_name": "LayoutView",
       "align_content": null,
       "align_items": null,
       "align_self": null,
       "border": null,
       "bottom": null,
       "display": null,
       "flex": null,
       "flex_flow": null,
       "grid_area": null,
       "grid_auto_columns": null,
       "grid_auto_flow": null,
       "grid_auto_rows": null,
       "grid_column": null,
       "grid_gap": null,
       "grid_row": null,
       "grid_template_areas": null,
       "grid_template_columns": null,
       "grid_template_rows": null,
       "height": null,
       "justify_content": null,
       "justify_items": null,
       "left": null,
       "margin": null,
       "max_height": null,
       "max_width": null,
       "min_height": null,
       "min_width": null,
       "object_fit": null,
       "object_position": null,
       "order": null,
       "overflow": null,
       "overflow_x": null,
       "overflow_y": null,
       "padding": null,
       "right": null,
       "top": null,
       "visibility": null,
       "width": null
      }
     },
     "a9ce9b6ae3df46f6a3cc38f8cb7e7bee": {
      "model_module": "@jupyter-widgets/controls",
      "model_module_version": "1.5.0",
      "model_name": "FloatProgressModel",
      "state": {
       "_dom_classes": [],
       "_model_module": "@jupyter-widgets/controls",
       "_model_module_version": "1.5.0",
       "_model_name": "FloatProgressModel",
       "_view_count": null,
       "_view_module": "@jupyter-widgets/controls",
       "_view_module_version": "1.5.0",
       "_view_name": "ProgressView",
       "bar_style": "success",
       "description": "",
       "description_tooltip": null,
       "layout": "IPY_MODEL_abc04faec07e403983623de64d0ac7be",
       "max": 160.0,
       "min": 0.0,
       "orientation": "horizontal",
       "style": "IPY_MODEL_1eeea1bb7f814fc6b1c1901cdbe8f52c",
       "value": 160.0
      }
     },
     "abc04faec07e403983623de64d0ac7be": {
      "model_module": "@jupyter-widgets/base",
      "model_module_version": "1.2.0",
      "model_name": "LayoutModel",
      "state": {
       "_model_module": "@jupyter-widgets/base",
       "_model_module_version": "1.2.0",
       "_model_name": "LayoutModel",
       "_view_count": null,
       "_view_module": "@jupyter-widgets/base",
       "_view_module_version": "1.2.0",
       "_view_name": "LayoutView",
       "align_content": null,
       "align_items": null,
       "align_self": null,
       "border": null,
       "bottom": null,
       "display": null,
       "flex": null,
       "flex_flow": null,
       "grid_area": null,
       "grid_auto_columns": null,
       "grid_auto_flow": null,
       "grid_auto_rows": null,
       "grid_column": null,
       "grid_gap": null,
       "grid_row": null,
       "grid_template_areas": null,
       "grid_template_columns": null,
       "grid_template_rows": null,
       "height": null,
       "justify_content": null,
       "justify_items": null,
       "left": null,
       "margin": null,
       "max_height": null,
       "max_width": null,
       "min_height": null,
       "min_width": null,
       "object_fit": null,
       "object_position": null,
       "order": null,
       "overflow": null,
       "overflow_x": null,
       "overflow_y": null,
       "padding": null,
       "right": null,
       "top": null,
       "visibility": null,
       "width": null
      }
     },
     "b1796e3c5ded40d3a3d9d2a5292bb94f": {
      "model_module": "@jupyter-widgets/controls",
      "model_module_version": "1.5.0",
      "model_name": "HTMLModel",
      "state": {
       "_dom_classes": [],
       "_model_module": "@jupyter-widgets/controls",
       "_model_module_version": "1.5.0",
       "_model_name": "HTMLModel",
       "_view_count": null,
       "_view_module": "@jupyter-widgets/controls",
       "_view_module_version": "1.5.0",
       "_view_name": "HTMLView",
       "description": "",
       "description_tooltip": null,
       "layout": "IPY_MODEL_a55925da25284c42bdfebc7651614f92",
       "placeholder": "​",
       "style": "IPY_MODEL_20148efbaa5140dab6c7dd83e5d0fcf2",
       "value": " 160/160 [00:00&lt;00:00, 13.7kB/s]"
      }
     },
     "b24a21012fed4624a5407281be5f163c": {
      "model_module": "@jupyter-widgets/base",
      "model_module_version": "1.2.0",
      "model_name": "LayoutModel",
      "state": {
       "_model_module": "@jupyter-widgets/base",
       "_model_module_version": "1.2.0",
       "_model_name": "LayoutModel",
       "_view_count": null,
       "_view_module": "@jupyter-widgets/base",
       "_view_module_version": "1.2.0",
       "_view_name": "LayoutView",
       "align_content": null,
       "align_items": null,
       "align_self": null,
       "border": null,
       "bottom": null,
       "display": null,
       "flex": null,
       "flex_flow": null,
       "grid_area": null,
       "grid_auto_columns": null,
       "grid_auto_flow": null,
       "grid_auto_rows": null,
       "grid_column": null,
       "grid_gap": null,
       "grid_row": null,
       "grid_template_areas": null,
       "grid_template_columns": null,
       "grid_template_rows": null,
       "height": null,
       "justify_content": null,
       "justify_items": null,
       "left": null,
       "margin": null,
       "max_height": null,
       "max_width": null,
       "min_height": null,
       "min_width": null,
       "object_fit": null,
       "object_position": null,
       "order": null,
       "overflow": null,
       "overflow_x": null,
       "overflow_y": null,
       "padding": null,
       "right": null,
       "top": null,
       "visibility": null,
       "width": null
      }
     },
     "d7c0eae8480e413aaabe4728db363be2": {
      "model_module": "@jupyter-widgets/base",
      "model_module_version": "1.2.0",
      "model_name": "LayoutModel",
      "state": {
       "_model_module": "@jupyter-widgets/base",
       "_model_module_version": "1.2.0",
       "_model_name": "LayoutModel",
       "_view_count": null,
       "_view_module": "@jupyter-widgets/base",
       "_view_module_version": "1.2.0",
       "_view_name": "LayoutView",
       "align_content": null,
       "align_items": null,
       "align_self": null,
       "border": null,
       "bottom": null,
       "display": null,
       "flex": null,
       "flex_flow": null,
       "grid_area": null,
       "grid_auto_columns": null,
       "grid_auto_flow": null,
       "grid_auto_rows": null,
       "grid_column": null,
       "grid_gap": null,
       "grid_row": null,
       "grid_template_areas": null,
       "grid_template_columns": null,
       "grid_template_rows": null,
       "height": null,
       "justify_content": null,
       "justify_items": null,
       "left": null,
       "margin": null,
       "max_height": null,
       "max_width": null,
       "min_height": null,
       "min_width": null,
       "object_fit": null,
       "object_position": null,
       "order": null,
       "overflow": null,
       "overflow_x": null,
       "overflow_y": null,
       "padding": null,
       "right": null,
       "top": null,
       "visibility": null,
       "width": null
      }
     },
     "ea9c11c6859344a8be487344946f1906": {
      "model_module": "@jupyter-widgets/controls",
      "model_module_version": "1.5.0",
      "model_name": "DescriptionStyleModel",
      "state": {
       "_model_module": "@jupyter-widgets/controls",
       "_model_module_version": "1.5.0",
       "_model_name": "DescriptionStyleModel",
       "_view_count": null,
       "_view_module": "@jupyter-widgets/base",
       "_view_module_version": "1.2.0",
       "_view_name": "StyleView",
       "description_width": ""
      }
     },
     "f0f928fa81464a0b84589412488f7390": {
      "model_module": "@jupyter-widgets/controls",
      "model_module_version": "1.5.0",
      "model_name": "FloatProgressModel",
      "state": {
       "_dom_classes": [],
       "_model_module": "@jupyter-widgets/controls",
       "_model_module_version": "1.5.0",
       "_model_name": "FloatProgressModel",
       "_view_count": null,
       "_view_module": "@jupyter-widgets/controls",
       "_view_module_version": "1.5.0",
       "_view_name": "ProgressView",
       "bar_style": "success",
       "description": "",
       "description_tooltip": null,
       "layout": "IPY_MODEL_754139920e154a168d147a064f7a0aa5",
       "max": 346293852.0,
       "min": 0.0,
       "orientation": "horizontal",
       "style": "IPY_MODEL_4b49153a3d5744109d29e9326d09010e",
       "value": 346293852.0
      }
     }
    },
    "version_major": 2,
    "version_minor": 0
   }
  }
 },
 "nbformat": 4,
 "nbformat_minor": 5
}
